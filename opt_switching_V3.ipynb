{
  "nbformat": 4,
  "nbformat_minor": 0,
  "metadata": {
    "colab": {
      "name": "opt_switching_V3.ipynb",
      "provenance": [],
      "collapsed_sections": [],
      "authorship_tag": "ABX9TyOvV9aZ7nD6fCbqfLkvLP7o",
      "include_colab_link": true
    },
    "kernelspec": {
      "name": "python3",
      "display_name": "Python 3"
    },
    "language_info": {
      "name": "python"
    }
  },
  "cells": [
    {
      "cell_type": "markdown",
      "metadata": {
        "id": "view-in-github",
        "colab_type": "text"
      },
      "source": [
        "<a href=\"https://colab.research.google.com/github/claudia-viaro/optimal_stopping-switching/blob/main/opt_switching_V3.ipynb\" target=\"_parent\"><img src=\"https://colab.research.google.com/assets/colab-badge.svg\" alt=\"Open In Colab\"/></a>"
      ]
    },
    {
      "cell_type": "markdown",
      "source": [
        "Suppose we fix the final regime of the process"
      ],
      "metadata": {
        "id": "1sjUHwhxLQUC"
      }
    },
    {
      "cell_type": "markdown",
      "source": [
        "#Problem Formulation\n",
        "Let $(\\Omega, \\mathcal{F}, P)$ be a fixed probability space on which an adapted stochastic process is defined $X=(X_t)_{0 \\leq t \\leq T}$ whose natural filtration is $(\\mathcal{F}_t^0 := \\sigma \\{ X_s, s \\leq t \\})_{0 \\leq t \\leq T}$. Let $\\mathbf{F}=(\\mathcal{F}_0)_{0 \\leq t \\leq t}$ be the complete filtration of $(\\mathcal{F}_t^0 := \\sigma \\{ X_s, s \\leq t \\})_{0 \\leq t \\leq T}$. with $P$-null sets of $\\mathcal{F}$.\n",
        "\n",
        "The stochastic process $X$ is $\\mathbb{R}^d$-valued and represents the market price of $d$ financial assets (Bermudan call options) that influence the production of power. Assume $(X^i)_{i=1}^d$ follows a geometric Brownian motion satisfying the SDE:\n",
        "\\begin{equation}\n",
        "dX_t = b_{I_t}X_tdt + \\sigma_{I_t}X_tdW_t\n",
        "\\end{equation}\n",
        "where $W$ is a standard Brownian motion on a filtered probability space $(\\Omega, \\mathcal{F}, \\mathbf{F}=(\\mathcal{F}_t)_{t \\geq 0} P)$ and $I_t$ is the indicator variable of the regimes valued in $\\mathbf{I}_d = \\{1, \\ldots, d \\}$. $b_i \\in \\mathbf{R}$ and $\\sigma_i >0$ are the drift and volatility of the system $X$ once in regime $I_t=i$ at time $t$.\n",
        "\n",
        "We will consider a discrete approximization (Euler schema) with respect to. For $i = 1, \\ldots, d$ we simulate $p$ paths\n",
        "\\begin{equation}\n",
        "X^p_{n,i} = \\exp \\Big\\{ \\sum_{k=0}^n \\big( (b-\\sigma^2_i /2)_{\\mathbf{I}}\\Delta t + \\sigma_{i, \\mathbf{I}} \\sqrt{\\Delta t} \\cdot Z_{k, i}^p \\big)     \\Big\\}\n",
        "\\end{equation}\n",
        "where $\\Delta t = T/N$ and $Z_{k, i}^{p} \\sim \\mathcal{N} (0,1)$.\n",
        "\n"
      ],
      "metadata": {
        "id": "sNSqonJN66zF"
      }
    },
    {
      "cell_type": "code",
      "execution_count": 34,
      "metadata": {
        "id": "QsjSbJxO9nQV"
      },
      "outputs": [],
      "source": [
        "import numpy as np\n",
        "import torch\n",
        "import torch.nn as nn\n",
        "np.random.seed(234198)\n",
        "import itertools\n",
        "import random\n",
        "import time\n",
        "import scipy.stats\n",
        "\n",
        "import math\n",
        "import matplotlib.pyplot as plt\n",
        "import torch.optim as optim\n",
        "import torch.utils.data as tdata"
      ]
    },
    {
      "cell_type": "code",
      "source": [
        "class BlackScholes:\n",
        "  def __init__(self, drift, sigma, delta, spot, assets,  paths, periods,\n",
        "         maturity, strike, dividend=0):\n",
        "\n",
        "    self.drift = drift - dividend\n",
        "    self.sigma = sigma\n",
        "    self.delta = delta\n",
        "    self.spot = spot\n",
        "    self.assets = assets\n",
        "    self.paths = paths\n",
        "    self.periods = periods\n",
        "    self.maturity = maturity\n",
        "    self.strike = strike\n",
        "    self.dt = self.maturity / self.periods\n",
        "    self.df = math.exp(-self.drift * self.dt)\n",
        "\n",
        "  def drift_fct(self, x, t):\n",
        "    del t\n",
        "    return self.drift * x\n",
        "\n",
        "  def diffusion_fct(self, x, t, v=0):\n",
        "    del t\n",
        "    return self.sigma * x\n",
        "\n",
        "\n",
        "\n",
        "  def simulate_process(self):\n",
        "    \"\"\"Returns a nparray (nb_paths * assets * nb_dates) with prices.\"\"\"\n",
        "    paths = self.paths\n",
        "    spot_paths = np.empty((self.periods+1, paths, self.assets ))\n",
        "\n",
        "    spot_paths[0, :, :] = self.spot\n",
        "    random_numbers = np.random.normal(0, 1, (self.periods, paths, self.assets ))\n",
        "    dW = random_numbers * np.sqrt(self.dt)\n",
        "    drift = self.drift\n",
        "    r = np.repeat(np.repeat(np.repeat(\n",
        "        np.reshape(drift, (-1, 1, 1)), self.periods, axis=0),\n",
        "        paths, axis=1), self.assets, axis=2)\n",
        "    sig = np.ones((self.periods, paths, self.assets))*self.sigma\n",
        "    \n",
        "    spot_paths[1:, :,  :] = np.repeat(\n",
        "        spot_paths[0:1, :, :], self.periods, axis=0)* np.exp(np.cumsum((r-self.delta) * self.dt - (sig ** 2) * self.dt / 2 + sig * dW, axis=0))\n",
        "\n",
        "    return spot_paths #.reshape(spot_paths.shape[2], spot_paths.shape[0], spot_paths.shape[1])\n",
        "\n",
        "\n",
        "'''\n",
        "PLOT\n",
        "'''\n",
        "\n",
        "def draw_stock_model(stockmodel):\n",
        "    stock_paths = stockmodel\n",
        "\n",
        "    # draw a path\n",
        "    one_path = stock_paths[:, 0, 0]\n",
        "    dates = np.array([i for i in range(len(one_path))])\n",
        "    plt.plot(dates, one_path, label='stock path')\n",
        "    plt.ylabel('Stock price')\n",
        "    plt.ylabel('Time')\n",
        "    plt.legend()\n",
        "    return plt.show()"
      ],
      "metadata": {
        "id": "kRvtM2Fl9qTd"
      },
      "execution_count": 35,
      "outputs": []
    },
    {
      "cell_type": "markdown",
      "source": [
        "We employ a neural network to approximate the stopping decision functions $\\{f_n\\}_{n=0}^N$ by constructing a sequence of neural networks of the form $f^{\\theta_n}:\\mathbb{R}^d → \\{0,1\\}$ with parameters $\\theta_n \\in \\mathbb{R}^q$ to approximate $f_n$.\n",
        "\n",
        "\n",
        "In its basic form, a neural network is composed of several layers, and layers are made of nodes. From the picture below, we can observe that a node combines input from the data, $x_{1:n}$, with a set of weights, $w_{1:n}$, that either amplify or dampen that input, thereby assigning significance to inputs with regard to the task the algorithm is trying to learn. $x_{1:n}$ are either the inputs of the overall network if this node is in the first layer or the outputs from the previous layer. Then, the input-weight products are summed, usually with a bias term, and the sum is passed through a node’s so-called activation function $f$, to determine whether and to what extent that signal should progress further through the network to affect the ultimate outcome (depending on the magnitude of each associated weight $w_i$). If the signals passes through, we can say that the neuron has been “activated” and returns an output.\n",
        "\n",
        "\n",
        "![](https://drive.google.com/uc?export=view&id=1rButBJka1QjKsLSrAWgJKrxNCGdntf-K)\n",
        "\n",
        "Generally, NNs comprise multiple node layers through which data is passed, giving rise to what can be referred to as the depth of a neural network. In such networks, each layer of nodes trains on a distinct set of features based on the previous layer’s output. The further we move into the neural net, the more complex the features can be recognized by the nodes, since they aggregate and recombine features from the previous layer.\n",
        "\n",
        "![](https://drive.google.com/uc?export=view&id=1b8Hbzn5xahE9jHf5jgIslG3dedkLAHst)\n",
        "\n",
        "The neural network used here takes the form $F^{\\theta}: \\mathbb{R}^d → (0,1)$ for $\\theta \\in \\{\\theta_0, \\ldots, \\theta_N  \\}$, that is the parameters are trained via a neural network that outputs probabilities in the interval $(0,1)$. This is due to the fact that the G-B optimization algorithm is to be applied to a continuous function with respect to $\\theta_n$, which $f^{\\theta_n}$ is not. Hence, the multi-layer, feed-forward neural network takes the form:\n",
        "\n",
        "\\begin{equation}\n",
        "F^{\\theta}= \\psi \\circ a_3^{\\theta} \\circ \\phi_{q_2} \\circ a_2^{\\theta} \\circ \\phi_{q_1} \\circ a_1^{\\theta}\n",
        "\\end{equation}\n",
        "where \n",
        "\n",
        "-  $q_1, q_2$ are the number of nodes in the hidden layers\n",
        "- $a_1^{\\theta} : \\mathbb{R}^d → \\mathbb{R}^{q_1}, a_2^{\\theta}: \\mathbb{R}^{q_1} → \\mathbb{R}^{q_2}$ are linear transformation functions: $a_i^{\\theta}(x)=W_i x + b_i$ with matrices $W_1 \\in \\mathbb{R}^{q_1 \\times d}, W_2 \\in \\mathbb{R}^{q_2 \\times q_1}, W_3 \\in \\mathbb{R}^{q_2 \\times 1}$ and vectors $b_1 \\in \\mathbb{R}^{q_1}, b_2 \\in \\mathbb{R}^{q_2}, b_3 \\in \\mathbb{R}^{1}$.\n",
        "- $\\phi_{q_i}: \\mathbb{R}^{q_i}$ is the ReLU activation function: $\\phi_{q_1}(x_i, \\ldots, x_{q_i})=(x_i^{+}, \\ldots, x_{q_i}^{+})$\n",
        "- $\\psi = \\mathbb{R} → \\mathbb{R}$ is the logistic sigmoid function: $\\psi(x)=1/(1+ e^{-x})$.\n",
        "Between the layers a batch normalization is also added, it takes the output from the previous layer and normalizes it before sending it to the next layer. This has the effect of stabilizing the neural network. \n",
        "\n",
        "The parameters will comprise $\\theta = \\{W_1, W_2,, W_3, b_1, b_2, b_3\\}\\in \\mathbb{R}^q$, where $q=q_1(d+q_2+1)+2q_2+1$. The value of $d$ stands for the dimension, that is the number of assets and will be varied among $d=\\{2,4, 5, 10, 20\\}. \n",
        "\n",
        "\n",
        "\n"
      ],
      "metadata": {
        "id": "MbI9kTmBCcAd"
      }
    },
    {
      "cell_type": "code",
      "source": [
        "class Ftheta_NN(nn.Module):\n",
        "  def __init__(self, assets):\n",
        "    super(Ftheta_NN, self).__init__()\n",
        "    H = assets + 40\n",
        "    self.bn0 = nn.BatchNorm1d(num_features=assets)\n",
        "    self.a1 = nn.Linear(assets, H)\n",
        "    self.relu = nn.ReLU()\n",
        "    self.bn1 = nn.BatchNorm1d(num_features=H)\n",
        "    self.a2 = nn.Linear(H, H)\n",
        "    self.bn2 = nn.BatchNorm1d(num_features=H)\n",
        "    self.a3 = nn.Linear(H, 1)\n",
        "    self.bn3 = nn.BatchNorm1d(num_features=1)\n",
        "    self.sigmoid = nn.Sigmoid()\n",
        "\n",
        "  def forward(self, input):\n",
        "    out = self.bn0(input)\n",
        "    out = self.a1(input)\n",
        "\n",
        "    out = self.relu(out)\n",
        "    out = self.bn1(out)\n",
        "\n",
        "    out = self.a2(out)\n",
        "    \n",
        "    #out = self.relu(out)\n",
        "    #out = self.bn2(out)\n",
        "    out = self.a3(out)\n",
        "    \n",
        "    out = self.sigmoid(out)\n",
        "    return out\n",
        "\n",
        "# set initial weights of a linear layer of the NN with uniform values and bias=0.01 (or choose zero initial weights)\n",
        "def init_weights(m):\n",
        "  if isinstance(m, torch.nn.Linear):\n",
        "    torch.manual_seed(42)\n",
        "    torch.nn.init.zeros_(m.weight)\n",
        "    #torch.nn.init.xavier_uniform_(m.weight)\n",
        "    m.bias.data.fill_(0.01)"
      ],
      "metadata": {
        "id": "p94V2uI-CC86"
      },
      "execution_count": 36,
      "outputs": []
    },
    {
      "cell_type": "code",
      "source": [
        "class Training_network(object):\n",
        "\n",
        "  def __init__(self, assets, epochs = 400, batch_size=2000):\n",
        "    self.assets = assets\n",
        "    self.epochs = epochs\n",
        "    self.batch_size = batch_size\n",
        "    self.network = Ftheta_NN(self.assets).double()\n",
        "    self.network.apply(init_weights)\n",
        "\n",
        "\n",
        "  def train_network(self,  stock_values, current_payoff,\n",
        "                    future_payoff):\n",
        "    optimizer = optim.Adam(self.network.parameters())\n",
        "    \n",
        "    # transform data into tensors \n",
        "    future_payoff = torch.from_numpy(future_payoff).double()\n",
        "    current_payoff = torch.from_numpy(current_payoff).double()\n",
        "    X_inputs = torch.from_numpy(stock_values).double()\n",
        "\n",
        "    self.network.train(True)\n",
        "    ones = torch.ones(len(future_payoff))\n",
        "    losses = []\n",
        "\n",
        "    for epoch in range(self.epochs):\n",
        "      optimizer.zero_grad()\n",
        "      with torch.set_grad_enabled(True):\n",
        "        outputs = self.network.forward(X_inputs).reshape(-1) \n",
        "        reward = (current_payoff.reshape(-1) * outputs ) +future_payoff * (ones - outputs) # reward function\n",
        "\n",
        "        # compute loss function\n",
        "        loss = -torch.mean(reward) # loss function\n",
        "        losses.append(loss.item())\n",
        "\n",
        "        # compute gradients and backpropagate\n",
        "        loss.backward() \n",
        "\n",
        "      # take a step, updating the parameters  \n",
        "      optimizer.step() \n",
        "\n",
        "    torch.save(self.network.state_dict(), 'checkpoint.pth')\n",
        "    return outputs, self.network, losses  \n",
        "\n",
        "  def evaluate_network(self, X_inputs):\n",
        "\n",
        "    # load saved optimized parameters\n",
        "    state_dict = torch.load('checkpoint.pth')\n",
        "    \n",
        "    # impose \"evaluation\" mode\n",
        "    self.network.eval()\n",
        "    X_inputs = torch.from_numpy(X_inputs).double()\n",
        "    outputs = self.network(X_inputs)\n",
        "    return outputs.view(X_inputs.size()).detach().numpy(), self.network"
      ],
      "metadata": {
        "id": "ts0bQ6QyCHOk"
      },
      "execution_count": 37,
      "outputs": []
    },
    {
      "cell_type": "code",
      "source": [
        "class Profit_training:\n",
        "  def __init__(self, model):\n",
        "    self.strike = model.strike\n",
        "    self.model = model\n",
        "    \n",
        "\n",
        "  def terminal(self, X):\n",
        "    payoff = np.max(X, axis=1) - self.strike\n",
        "    return payoff.clip(0, None)\n",
        "\n",
        "  def g(self, date,path,X):\n",
        "    max1=np.max(X[int(date) , path , : ]-self.strike)\n",
        "    return np.exp(-self.model.drift*self.model.dt*date)*np.max(max1,0) \n",
        " \n",
        "\n",
        "  def running(self, Y, X):\n",
        "    gamma = np.array([self.terminal(X) + 0.7, -self.terminal(X)]) # there are two rows, the first for \\gamma_{0,1}, the second for \\gamma_{1,0}\n",
        "    r_benefit = self.terminal(X)\n",
        "    return r_benefit+Y-gamma \n",
        " \n",
        "class Profit_testing:\n",
        "  def __init__(self, model):\n",
        "    self.strike = model.strike\n",
        "    self.model = model\n",
        "\n",
        "  def terminal(self, X):\n",
        "    payoff = np.max(X, axis=1) - self.strike\n",
        "    return payoff.clip(0, None)  \n",
        "\n",
        "  def g(self, date,path,X):\n",
        "    max1=np.max(X[date , path , : ]-self.strike)\n",
        "    return np.max(max1,0) \n",
        "\n",
        "\n",
        "  # switch is F_theta_train \n",
        "  def running(self, Y, date, path, S, X, switch, gamma):\n",
        "    val=Y[date+1, path]- gamma  \n",
        "    k = np.array([0.4, 0.7])\n",
        "    r_benefit = self.g(date, path, X)\n",
        "    return val*int(switch[date, path])+r_benefit.numpy()\n",
        "\n",
        "\n",
        "  def current_payoff(self, data, Y, date, regimes, regimepath):\n",
        "    current_p = np.zeros((self.model.paths))\n",
        "    \n",
        "    for m in range(0, self.model.paths - 1):\n",
        "        value = Y[date+1, m]\n",
        "        running_benefit = self.g(date, m, data)      \n",
        "        old_regime = int(regimepath[date +1, m])     \n",
        "        current_regime = int(regimes[~old_regime])\n",
        "\n",
        "        \n",
        "        if (old_regime - current_regime)>0:          #gamma 0-1\n",
        "          gamma = self.g(date, m, data)**0.3+np.random.normal(0,1,1) + value\n",
        "        \n",
        "        else: gamma = - self.g(date, m, data) + value #gamma 1-0  \n",
        "        current_p[m] = gamma + running_benefit\n",
        "        #current_p[m] = gamma + running_benefit\n",
        "            \n",
        "    return current_p\n",
        "\n",
        "  def current_payoff_trained(self, data, Y, date, regimes, regime_path, which): \n",
        "    current_p = np.zeros((self.model.paths))\n",
        "    for m in range(0, self.model.paths - 1):\n",
        "      running_benefit = self.g(date, m, data) \n",
        "      old_regime = int(regime_path[date +1, m])\n",
        "      value = Y[date+1, m]\n",
        "      \n",
        "      if int(which[m])==1:\n",
        "        regime_path[date, m] = regimes[~old_regime]\n",
        "        current_regime = regime_path[date, m]\n",
        "        if (old_regime - current_regime)>0:          \n",
        "          gamma = self.g(date, m, data)**0.3+np.random.normal(0,1,1) + value #gamma 0-1\n",
        "        else: \n",
        "          gamma = - self.g(date, m, data) + value #gamma 1-0  \n",
        "      else:\n",
        "        regime_path[date, m]=int(regimes[~old_regime])\n",
        "        gamma = 0\n",
        "      current_p[m] = gamma + running_benefit\n",
        "    return current_p\n",
        "    "
      ],
      "metadata": {
        "id": "4vdhJjVlyJbF"
      },
      "execution_count": 38,
      "outputs": []
    },
    {
      "cell_type": "markdown",
      "source": [
        "Currently, the parameters $F^{\\theta}$ are found by maximizing the reward function that takes as inputs:\n",
        "- current payoff: a payoff that considers both possibilities of switching or not at that timestep (as we dont know theta yet)\n",
        "- future payoff (same thing)\n",
        "\n",
        "\n",
        "possibly not a good idea, instead:\n",
        "- future payoff could consider both cases only for N-1\n",
        "- current payoff probably should stay as it is"
      ],
      "metadata": {
        "id": "BN1DV9Hcvqha"
      }
    },
    {
      "cell_type": "code",
      "source": [
        "class Training:\n",
        "  def __init__(self, model, payoff):\n",
        "\n",
        "    self.model = model    \n",
        "    self.neural_stopping = Training_network(self.model.assets, 400) \n",
        "    self.payoff = Profit_testing(self.model)\n",
        "\n",
        "  def value(self):\n",
        "    model = self.model\n",
        "    stock_paths = self.model.simulate_process()    \n",
        "    \n",
        "    # create empty objects to store values\n",
        "    regimes = [0, 1]\n",
        "    regime_path=np.zeros((model.periods+1, model.paths)) # record at which regime we're at at each n\n",
        "    Y_train=np.zeros((model.periods+1, model.paths))\n",
        "    F_theta_train=np.zeros((model.periods+1,model.paths)) # record switching events for each n\n",
        "    mods=[None]*model.periods # record the models of the NN for testing\n",
        "    loss_functions = [None]*model.periods\n",
        "\n",
        "    # at maturity N\n",
        "    final_payoff = self.payoff.terminal(stock_paths[-1, :, :])   # payoff of the last date for each path.\n",
        "    Y_train[model.periods, :]= final_payoff\n",
        "    F_theta_train[model.periods,:]=1 # at maturity we switch \n",
        "    regime_path[model.periods, :] = random.sample(regimes, 1)[0] # sample a regime at maturity\n",
        "    values = final_payoff\n",
        "    print(\"date\", model.periods, \",\", model.paths)\n",
        "\n",
        "    # before maturity\n",
        "    for date in range(stock_paths.shape[0] - 2, 0, -1): \n",
        "      current_payoff = self.payoff.current_payoff(data = stock_paths, \n",
        "                                               Y = Y_train, date = date, \n",
        "                                               regimes = regimes,\n",
        "                                               regimepath = regime_path)\n",
        "\n",
        "      stopping_probability, networks, loss = self.neural_stopping.train_network(stock_paths[date, : , :], \n",
        "                                                    current_payoff,\n",
        "                                                    final_payoff*(np.math.exp((-model.drift) * (model.periods-date)/model.periods)))\n",
        "\n",
        "      \n",
        "      \n",
        "      print(\"date\", date, \",\", len([1 for l in stopping_probability if l > 0.5]), \" mean loss \", np.mean(loss))\n",
        "      F_theta_train[date,:]=(stopping_probability > 0.5)*1.0   # transform stopping probabilities in 0-1 decision\n",
        "      which = stopping_probability > 0.5\n",
        "      immediate_exercise_value = self.payoff.current_payoff_trained(stock_paths, Y_train, date, regimes, regime_path, which)\n",
        "\n",
        "\n",
        "      values[which] = immediate_exercise_value[which] # when we switch we take the current profit\n",
        "      values[~which] *= np.math.exp((-model.drift) * ((model.periods-date)/model.periods))           # when we don't switch we take final profit discounted \n",
        "      Y_train[date, :] = values\n",
        "\n",
        "      mods[date]=networks \n",
        "      loss_functions[date]=loss    \n",
        "    \n",
        "    return mods, loss_functions\n",
        "\n",
        "\n",
        "    \n",
        "\n",
        "  def stop(self, stock_values, current_payoff,\n",
        "           future_payoff):\n",
        "    \n",
        "    self.neural_stopping.train_network(\n",
        "      stock_values,\n",
        "      current_payoff ,\n",
        "      future_payoff)\n",
        "\n",
        "    inputs = stock_values\n",
        "    stopping_probability , networks   = self.neural_stopping.evaluate_network(inputs)\n",
        "    return stopping_probability , networks  \n"
      ],
      "metadata": {
        "id": "7UvqI1aXKWAL"
      },
      "execution_count": 39,
      "outputs": []
    },
    {
      "cell_type": "code",
      "source": [
        "# simulate paths Y\n",
        "# goal of this phase is to be able to get stopping decisions f_theta_n\n",
        "hyperparam_training = {'drift': 0.2, 'sigma': 0.05, 'delta': 0.1,  'paths':200, 'periods': 9, 'maturity': 3., 'strike' : 100,'assets':2,  'spot':90,}\n",
        "S_train=BlackScholes(**hyperparam_training)\n",
        "\n",
        "\n",
        "pricing = Training(S_train, Profit_testing)\n",
        "'''\n",
        "arguments are:\n",
        "- path process\n",
        "- Profit testing classes\n",
        "\n",
        "\n",
        "'''\n",
        "\n",
        "mods, functions = pricing.value()\n"
      ],
      "metadata": {
        "id": "sp-KE2XpKsKY",
        "outputId": "64d9dd1b-1e1e-422d-a2e6-ba2f2b1a3b0c",
        "colab": {
          "base_uri": "https://localhost:8080/"
        }
      },
      "execution_count": 40,
      "outputs": [
        {
          "output_type": "stream",
          "name": "stdout",
          "text": [
            "date 9 , 200\n",
            "date 8 , 200  mean loss  -49.30812378788405\n",
            "date 7 , 200  mean loss  -52.5425964509862\n"
          ]
        },
        {
          "output_type": "stream",
          "name": "stderr",
          "text": [
            "/usr/local/lib/python3.7/dist-packages/ipykernel_launcher.py:54: RuntimeWarning: invalid value encountered in double_scalars\n"
          ]
        },
        {
          "output_type": "stream",
          "name": "stdout",
          "text": [
            "date 6 , 0  mean loss  nan\n",
            "date 5 , 0  mean loss  nan\n",
            "date 4 , 0  mean loss  nan\n",
            "date 3 , 0  mean loss  nan\n",
            "date 2 , 0  mean loss  nan\n",
            "date 1 , 0  mean loss  nan\n"
          ]
        }
      ]
    },
    {
      "cell_type": "code",
      "source": [
        "filtered_list = list(filter(None, functions))\n",
        "legend = [\"n = 1\", \"n = 2\", \"n = 3\", \"n = 4\", \"n = 5\", \"n = 6\", \"n = 7\", \"n = 8\"]\n",
        "\n",
        "for i in range(len(filtered_list)):\n",
        "  epochs = np.array([i for i in range(len(filtered_list[0]))])\n",
        "  plt.plot(epochs, filtered_list[i], label='loss funciton')\n",
        "  plt.ylabel('loss')\n",
        "  plt.xlabel('epochs')\n",
        "  plt.legend(legend)\n",
        "  plt.title('Loss curves across time periods')\n",
        "  plt.plot()"
      ],
      "metadata": {
        "colab": {
          "base_uri": "https://localhost:8080/",
          "height": 295
        },
        "id": "yVXeiEjqrfRf",
        "outputId": "1fd809ca-6110-4ac7-80b2-11b609311158"
      },
      "execution_count": 50,
      "outputs": [
        {
          "output_type": "display_data",
          "data": {
            "text/plain": [
              "<Figure size 432x288 with 1 Axes>"
            ],
            "image/png": "[encoded data removed]"
          },
          "metadata": {
            "needs_background": "light"
          }
        }
      ]
    },
    {
      "cell_type": "code",
      "source": [
        "hyperparam_training = {'drift': 0.2, 'sigma': 0.05, 'delta': 0.1,  'paths':200, 'periods': 9, 'maturity': 3., 'strike' : 100,'assets':2,  'spot':90,}\n",
        "model=BlackScholes(**hyperparam_training)\n",
        "\n",
        "neural_stopping = Training_network(model.assets, model.paths) \n",
        "profit_testing = Profit_testing(model)\n",
        "stock_paths = model.simulate_process() \n",
        "print(stock_paths.shape)   \n",
        "    \n",
        "# create empty objects to store values\n",
        "regimes = [0, 1]\n",
        "regime_path=np.zeros((model.periods+1, model.paths)) # record at which regime we're at at each n\n",
        "Y_train=np.zeros((model.periods+1, model.paths))\n",
        "F_theta_train=np.zeros((model.periods+1,model.paths)) # record switching events for each n\n",
        "mods=[None]*model.periods # record the models of the NN for testing\n",
        "loss_functions = [None]*model.periods\n",
        "\n",
        "# at maturity N\n",
        "final_payoff = profit_testing.terminal(stock_paths[-1, :, :])   # payoff of the last date for each path.\n",
        "Y_train[model.periods, :]= final_payoff\n",
        "F_theta_train[model.periods,:]=1 # at maturity we switch \n",
        "regime_path[model.periods, :] = random.sample(regimes, 1)[0] # sample a regime at maturity\n",
        "values = final_payoff # keep????\n",
        "\n",
        "print(\"final_payoff\", final_payoff)\n",
        "print(regime_path[model.periods, :])"
      ],
      "metadata": {
        "id": "RbFW9rKM1kH8",
        "colab": {
          "base_uri": "https://localhost:8080/"
        },
        "outputId": "6fbc54fe-9d52-4940-c341-2692cbe001dd"
      },
      "execution_count": 41,
      "outputs": [
        {
          "output_type": "stream",
          "name": "stdout",
          "text": [
            "(10, 200, 2)\n",
            "final_payoff [10.98600992 14.81381564 12.87700921 15.82391062 21.11664233 31.87055689\n",
            " 21.19031527 21.04666735 20.9061203  21.07695362 37.67299294 29.24155337\n",
            " 18.88117309 21.75476083 20.47130872 38.6138585  20.10831038 26.92050306\n",
            " 17.04298588 28.90709632 38.33158131 26.66719859 26.91804802 25.9380825\n",
            " 39.11577429 34.75902118 11.06729078 27.60436361 23.669513   27.91356906\n",
            " 19.67412172 28.87008691 26.63319948 21.39344185 25.98981881 21.66579721\n",
            " 30.16466008 19.16711978 34.25328673 23.29270706 11.99253309 11.4647423\n",
            " 27.68461765 39.50010452 22.49165129 25.44478261 33.37520218 27.89507247\n",
            " 42.34559934 30.53302253 18.69683736  9.0543903  38.31510597 24.40457215\n",
            " 16.6827499  13.68621655 19.10690837 24.63656632 33.21950305 17.10393171\n",
            " 14.6390305  22.19753964 48.33574463 30.29515959 14.84005083 19.82741729\n",
            " 16.73631569 11.76074183 34.52110492 11.90178084 23.82818433 27.23618812\n",
            " 12.32784615 21.09754109 19.04702233 15.42528185 27.24549237 28.80819429\n",
            " 25.79511099 26.29315048 31.63985642 36.86026107 22.63754297 12.27937988\n",
            " 33.52279553 29.93645033 32.40900731 23.18533092  7.52241051 40.44479438\n",
            " 31.62654296 25.33731758 25.24016989 35.82631066 34.12263874 25.29659491\n",
            " 24.24352708 32.0502855  41.89601557 31.37109076 27.10835289 29.09280624\n",
            " 23.19014732 37.25636626 18.36275275 22.56598198 20.82191402 25.45079739\n",
            " 42.53175185 32.1245469  27.01641792 38.08647866 16.32646014 28.12162004\n",
            " 22.50498371 33.31475728 31.03593879 10.05829172 30.92846095 24.84065213\n",
            " 31.36792544 23.38244884 24.24573252 27.18479198 32.51403036 26.40598908\n",
            " 31.39966428 14.07282259 21.0003625  33.31196232 38.6280357  26.39911249\n",
            " 17.25448526 33.00570778 15.78111236 29.11882188 36.66031393 36.91838871\n",
            " 34.10050832 37.23529008 17.27870927 15.80857214 41.51258903 12.37139762\n",
            " 18.85596484 42.53483567 26.7670464  37.96468385 17.12006766 28.67469217\n",
            " 20.40701212 48.91409936 28.40455462 29.97076619 25.93217237 30.43299528\n",
            " 26.18918202 17.31876667 29.6465868  24.52994699 15.49138962 38.92123766\n",
            " 15.60997    34.40420191 33.40391523 38.33682443 39.92453828 33.13450762\n",
            " 27.52054531 23.68324797 26.80960745 30.96077994 20.57289528 18.84437421\n",
            " 41.50929517 20.07051471 44.95557795 36.88824986 24.67932019 30.81410219\n",
            " 27.05634042 42.67821381 12.59132577 30.61458288 27.20438112 25.8540027\n",
            "  9.90524691 33.75987999 21.91667009 22.48618753 21.80656259 31.69424164\n",
            " 16.41761218 30.18368674 30.28905743 40.71525498 29.5221886  30.23817302\n",
            " 22.63314055  9.62486787]\n",
            "[0. 0. 0. 0. 0. 0. 0. 0. 0. 0. 0. 0. 0. 0. 0. 0. 0. 0. 0. 0. 0. 0. 0. 0.\n",
            " 0. 0. 0. 0. 0. 0. 0. 0. 0. 0. 0. 0. 0. 0. 0. 0. 0. 0. 0. 0. 0. 0. 0. 0.\n",
            " 0. 0. 0. 0. 0. 0. 0. 0. 0. 0. 0. 0. 0. 0. 0. 0. 0. 0. 0. 0. 0. 0. 0. 0.\n",
            " 0. 0. 0. 0. 0. 0. 0. 0. 0. 0. 0. 0. 0. 0. 0. 0. 0. 0. 0. 0. 0. 0. 0. 0.\n",
            " 0. 0. 0. 0. 0. 0. 0. 0. 0. 0. 0. 0. 0. 0. 0. 0. 0. 0. 0. 0. 0. 0. 0. 0.\n",
            " 0. 0. 0. 0. 0. 0. 0. 0. 0. 0. 0. 0. 0. 0. 0. 0. 0. 0. 0. 0. 0. 0. 0. 0.\n",
            " 0. 0. 0. 0. 0. 0. 0. 0. 0. 0. 0. 0. 0. 0. 0. 0. 0. 0. 0. 0. 0. 0. 0. 0.\n",
            " 0. 0. 0. 0. 0. 0. 0. 0. 0. 0. 0. 0. 0. 0. 0. 0. 0. 0. 0. 0. 0. 0. 0. 0.\n",
            " 0. 0. 0. 0. 0. 0. 0. 0.]\n"
          ]
        }
      ]
    },
    {
      "cell_type": "code",
      "source": [
        "# before maturity\n",
        "date = stock_paths.shape[0] - 2\n",
        "print(date)\n",
        "\n",
        "current_payoff = profit_testing.current_payoff(data = stock_paths, \n",
        "                                               Y = Y_train, date = date, \n",
        "                                               regimes = regimes,\n",
        "                                               regimepath = regime_path)\n",
        "\n",
        "print(\"current_payoff\", current_payoff)\n",
        "# always gives zero, probably something wring about it\n",
        "\n",
        "stopping_probability, networks, loss = neural_stopping.train_network(stock_paths[date, : , :], \n",
        "                                               current_payoff,\n",
        "                                               final_payoff*(np.math.exp((-model.drift) * (model.periods-date)/model.periods)))\n",
        "      \n",
        "\n",
        "plt.plot(loss)\n",
        "plt.ylabel('loss')\n",
        "plt.xlabel('epoch')\n",
        "plt.title(\"Learning rate %f\")\n",
        "plt.show()\n",
        "\n"
      ],
      "metadata": {
        "id": "7d0TpnOoFLtZ",
        "colab": {
          "base_uri": "https://localhost:8080/",
          "height": 902
        },
        "outputId": "91e36290-97f3-42cc-c37b-4a188af5a99d"
      },
      "execution_count": 42,
      "outputs": [
        {
          "output_type": "stream",
          "name": "stdout",
          "text": [
            "8\n",
            "current_payoff [10.98600992 14.81381564 12.87700921 15.82391062 21.11664233 31.87055689\n",
            " 21.19031527 21.04666735 20.9061203  21.07695362 37.67299294 29.24155337\n",
            " 18.88117309 21.75476083 20.47130872 38.6138585  20.10831038 26.92050306\n",
            " 17.04298588 28.90709632 38.33158131 26.66719859 26.91804802 25.9380825\n",
            " 39.11577429 34.75902118 11.06729078 27.60436361 23.669513   27.91356906\n",
            " 19.67412172 28.87008691 26.63319948 21.39344185 25.98981881 21.66579721\n",
            " 30.16466008 19.16711978 34.25328673 23.29270706 11.99253309 11.4647423\n",
            " 27.68461765 39.50010452 22.49165129 25.44478261 33.37520218 27.89507247\n",
            " 42.34559934 30.53302253 18.69683736  9.0543903  38.31510597 24.40457215\n",
            " 16.6827499  13.68621655 19.10690837 24.63656632 33.21950305 17.10393171\n",
            " 14.6390305  22.19753964 48.33574463 30.29515959 14.84005083 19.82741729\n",
            " 16.73631569 11.76074183 34.52110492 11.90178084 23.82818433 27.23618812\n",
            " 12.32784615 21.09754109 19.04702233 15.42528185 27.24549237 28.80819429\n",
            " 25.79511099 26.29315048 31.63985642 36.86026107 22.63754297 12.27937988\n",
            " 33.52279553 29.93645033 32.40900731 23.18533092  7.52241051 40.44479438\n",
            " 31.62654296 25.33731758 25.24016989 35.82631066 34.12263874 25.29659491\n",
            " 24.24352708 32.0502855  41.89601557 31.37109076 27.10835289 29.09280624\n",
            " 23.19014732 37.25636626 18.36275275 22.56598198 20.82191402 25.45079739\n",
            " 42.53175185 32.1245469  27.01641792 38.08647866 16.32646014 28.12162004\n",
            " 22.50498371 33.31475728 31.03593879 10.05829172 30.92846095 24.84065213\n",
            " 31.36792544 23.38244884 24.24573252 27.18479198 32.51403036 26.40598908\n",
            " 31.39966428 14.07282259 21.0003625  33.31196232 38.6280357  26.39911249\n",
            " 17.25448526 33.00570778 15.78111236 29.11882188 36.66031393 36.91838871\n",
            " 34.10050832 37.23529008 17.27870927 15.80857214 41.51258903 12.37139762\n",
            " 18.85596484 42.53483567 26.7670464  37.96468385 17.12006766 28.67469217\n",
            " 20.40701212 48.91409936 28.40455462 29.97076619 25.93217237 30.43299528\n",
            " 26.18918202 17.31876667 29.6465868  24.52994699 15.49138962 38.92123766\n",
            " 15.60997    34.40420191 33.40391523 38.33682443 39.92453828 33.13450762\n",
            " 27.52054531 23.68324797 26.80960745 30.96077994 20.57289528 18.84437421\n",
            " 41.50929517 20.07051471 44.95557795 36.88824986 24.67932019 30.81410219\n",
            " 27.05634042 42.67821381 12.59132577 30.61458288 27.20438112 25.8540027\n",
            "  9.90524691 33.75987999 21.91667009 22.48618753 21.80656259 31.69424164\n",
            " 16.41761218 30.18368674 30.28905743 40.71525498 29.5221886  30.23817302\n",
            " 22.63314055  0.        ]\n"
          ]
        },
        {
          "output_type": "display_data",
          "data": {
            "text/plain": [
              "<Figure size 432x288 with 1 Axes>"
            ],
            "image/png": "[encoded data removed]"
          },
          "metadata": {
            "needs_background": "light"
          }
        }
      ]
    },
    {
      "cell_type": "code",
      "source": [
        "print(\"date\", date, \",\", len([1 for l in stopping_probability if l > 0.5]))\n",
        "print(stopping_probability.shape)\n",
        "F_theta_train[date]=(stopping_probability > 0.5)*1.0   # transform stopping probabilities in 0-1 decision\n",
        "which = stopping_probability > 0.5\n",
        "immediate_exercise_value = profit_testing.current_payoff_trained(stock_paths, Y_train, date, regimes, regime_path, which)\n",
        "\n",
        "\n",
        "values[which] = immediate_exercise_value[which] # when we switch we take the current profit\n",
        "values[~which] *= np.math.exp((-model.drift) * ((model.periods-date)/model.periods))           # when we don't switch we take final profit discounted \n",
        "Y_train[date, :] = values\n",
        "\n",
        "mods[date]=networks \n",
        "loss_functions[date]=loss\n",
        "\n",
        "\n",
        "\n",
        "print(profit_testing.g(date, 2, stock_paths))\n",
        "print(stock_paths[date, 2, :])\n",
        "max1=np.max(stock_paths[date , 2 , : ])\n",
        "print(np.max(max1,0) )"
      ],
      "metadata": {
        "colab": {
          "base_uri": "https://localhost:8080/"
        },
        "id": "OP6ndvxegqoH",
        "outputId": "21ef1688-a3d4-49d3-a547-a01d1c23f087"
      },
      "execution_count": 43,
      "outputs": [
        {
          "output_type": "stream",
          "name": "stdout",
          "text": [
            "date 8 , 200\n",
            "torch.Size([200])\n",
            "7.807109024841125\n",
            "[107.80710902 100.1512072 ]\n",
            "107.80710902484113\n"
          ]
        }
      ]
    },
    {
      "cell_type": "markdown",
      "source": [
        "#Lower bound\n",
        "\n",
        "the stopping time $\\tau^{\\Theta}$ gives a lower bound $L=\\mathbb{E}g(\\tau^{\\Theta}, X_{\\tau^{\\Theta}})$ for the optimal value $V_0= \\sup_{\\tau \\in \\mathcal{T}}\\mathbb{E}g(\\tau, X_{\\tau})$.\n",
        "\n",
        "Simulate \n",
        "- $K_L = 1024$ paths $(y_n^k)_{n=0}^N$, $k=1, \\ldots, K_L$, of $(X_n)_{n=0}^N$ and assume these are drawn independently from the realizations $(x_n^k)_{n=0}^N$, $k=1, \\ldots, K$.\n",
        "\n",
        "The unbiased estimate of the lower bound $L$ is given by\n",
        "\\begin{equation}\n",
        "\\hat{L}=\\frac{1}{K_L} \\sum_{k=1}^{K_L} g(l^k, y_{l^k}^k)\n",
        "\\end{equation}\n",
        "where $l^k = l(y_0^k, \\ldots, y_{N-1}^k)$"
      ],
      "metadata": {
        "id": "k8JSTFLsNMD8"
      }
    },
    {
      "cell_type": "code",
      "source": [
        "# Testing phase - Lower bound\n",
        "\n",
        "# sample y from the process (Y)\n",
        "hyperparam_testing_L = {'drift': 0.2, 'sigma': 0.05, 'delta': 0.1,  'paths':5000, 'periods': 9, 'maturity': 3., 'strike' : 100,'assets':20,  'spot':110,}\n",
        "S_test_L=BlackScholes(**hyperparam_testing_L)\n",
        "\n",
        "# now we can compute all the stopping times recursively"
      ],
      "metadata": {
        "id": "eBdQnHLJNOMj"
      },
      "execution_count": 44,
      "outputs": []
    },
    {
      "cell_type": "code",
      "source": [
        "# Testing\n",
        "\n",
        "class Testing_Lower:\n",
        "  def __init__(self, model, training, testing, mods):   \n",
        "    self.model = model # argument is S   \n",
        "    self.neural_stopping = Training_network(model.assets, 400) \n",
        "    self.profit_testing = Profit_testing(self.model)\n",
        "    self.mods = mods\n",
        "\n",
        "  def price(self):\n",
        "    model = self.model\n",
        "    disc_factor = np.math.exp((-model.drift) * model.maturity/(model.periods))\n",
        "    stock_paths = self.model.simulate_process()\n",
        "    k = np.array([0.4, 0.7])\n",
        "    regimes = [0, 1]\n",
        "    regime_path=np.zeros((model.periods+1, model.paths)) # record at which regime we're at at each n\n",
        "    Y_train=np.zeros((model.periods+1, model.paths))\n",
        "    F_theta_train=np.zeros((model.periods+1,model.paths)) # record switching events for each n\n",
        " \n",
        "    # at maturity N\n",
        "    final_payoff = np.array([self.profit_training.terminal(stock_paths[-1, :, :]), self.profit_training.terminal(stock_paths[-1, :, :])])   # payoff of the last date for each path.\n",
        "    future_payoff = torch.from_numpy(final_payoff*(np.math.exp((-model.drift) * model.periods))).double() \n",
        "    Y_train[model.periods, :]= final_payoff[0]\n",
        "    F_theta_train[model.periods,:]=1 # at maturity we switch (does it matter?)\n",
        "    regime_path[model.periods, :] = random.sample(regimes, 1)[0] # sample a regime at maturity\n",
        "    values = Y_train[model.periods, :]\n",
        "\n",
        "\n",
        "    \n",
        "\n",
        "\n",
        "    # recursive calc. before maturity\n",
        "         \n",
        "    for date in range(stock_paths.shape[0] - 2, 0, -1):\n",
        "      current_payoff = self.profit_training.running(Y_train[date+1, :], stock_paths[date, :, :])\n",
        "      mod_curr=self.mods[date]\n",
        "      probs=mod_curr(torch.from_numpy(stock_paths[date])) \n",
        "      np_probs=probs.detach().numpy().reshape(self.model.paths)\n",
        "      \n",
        "      F_theta_train[date,:]=(np_probs > 0.5)*1.0   # transform stopping probabilities in 0-1 decision\n",
        "      which = np_probs > 0.5\n",
        "\n",
        "      for m in range(0,model.paths-1):\n",
        "        old_regime = regime_path[date +1, m]\n",
        "        regime_path[date, m] = int(which[m])\n",
        "        if which[m] == True:\n",
        "          if int(old_regime) - int(which[m])>0:  #gamma 0-1\n",
        "            gamma = self.profit_testing.g(date, m, stock_paths)+0.7\n",
        "          else: gamma = -self.profit_testing.g(date, m, stock_paths) #gamma 1-0  \n",
        "        else:\n",
        "          gamma = 0 \n",
        "        Y_train[date, m] = Y_train[date+1, m]- gamma\n",
        "\n",
        "\n",
        "      immediate_exercise_value = Y_train[date, :]       \n",
        "      values[which] = immediate_exercise_value[which] # when we switch we take the current profit\n",
        "      values[~which] *= ((model.periods-date)/model.periods)           # when we don't switch we take final profit discounted \n",
        "\n",
        "      #Y_train[date, :] = values\n",
        "      print(\"date\", date, round(np.mean(values), 3), len([1 for l in np_probs if l > 0.5]))\n",
        "\n",
        "    \n",
        "    return round(np.mean(values), 3), Y_train\n",
        "\n"
      ],
      "metadata": {
        "id": "PpoI_K_MNO6b"
      },
      "execution_count": 45,
      "outputs": []
    },
    {
      "cell_type": "code",
      "source": [
        "\n",
        "\n",
        "dict ={}\n",
        " \n",
        "# Insert data into dictionary\n",
        "dict1 = {\n",
        "     1: [\"2\", 90, 97.339, 0.009],\n",
        "     2: [\"2\", 100, 205.426, 0.006],\n",
        "     3: [\"2\", 110, 315.878, 0.007],\n",
        "     7: [\"4\", 90, 130.082, 0.008],\n",
        "     8: [\"4\", 100, 235.951, 0.008],\n",
        "     9: [\"4\", 110, 334.079, 0.005],\n",
        "     10: [\"5\", 90, 134.486, 0.008],\n",
        "     11: [\"5\", 100, 224.051, 0.006],\n",
        "     12: [\"5\", 110, 282.737, 0.006],\n",
        "     13: [\"10\", 90, 158.875, 0.005],\n",
        "     14: [\"10\", 100, 273.452, 0.008],\n",
        "     15: [\"10\", 110, 391.043, 0.015],\n",
        "     16: [\"20\", 90, 100.447, 0.008],\n",
        "     17: [\"20\", 100, 192.448, 0.01],\n",
        "     18: [\"20\", 110, 301.107, 0.009],\n",
        "     }\n",
        " \n",
        "# Print the names of the columns.\n",
        "print (\"{:<10} {:<10} {:<10} {:<10}\".format('assets', 'spot', 'L', 'timeL'))\n",
        " \n",
        "# print each data item.\n",
        "for key, value in dict1.items():\n",
        "    assets, spot, L, timeL = value\n",
        "    print (\"{:<10} {:<10} {:<10} {:<10}\".format(assets, spot, L, timeL))"
      ],
      "metadata": {
        "id": "qsGOwzwDvUCX",
        "colab": {
          "base_uri": "https://localhost:8080/"
        },
        "outputId": "c5fa5b12-d937-458f-ed07-73a8ab68698e"
      },
      "execution_count": 46,
      "outputs": [
        {
          "output_type": "stream",
          "name": "stdout",
          "text": [
            "assets     spot       L          timeL     \n",
            "2          90         97.339     0.009     \n",
            "2          100        205.426    0.006     \n",
            "2          110        315.878    0.007     \n",
            "4          90         130.082    0.008     \n",
            "4          100        235.951    0.008     \n",
            "4          110        334.079    0.005     \n",
            "5          90         134.486    0.008     \n",
            "5          100        224.051    0.006     \n",
            "5          110        282.737    0.006     \n",
            "10         90         158.875    0.005     \n",
            "10         100        273.452    0.008     \n",
            "10         110        391.043    0.015     \n",
            "20         90         100.447    0.008     \n",
            "20         100        192.448    0.01      \n",
            "20         110        301.107    0.009     \n"
          ]
        }
      ]
    }
  ]
}