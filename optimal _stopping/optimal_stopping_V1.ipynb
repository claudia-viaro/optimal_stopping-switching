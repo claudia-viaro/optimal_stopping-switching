{
  "cells": [
    {
      "cell_type": "markdown",
      "metadata": {
        "id": "view-in-github",
        "colab_type": "text"
      },
      "source": [
        "<a href=\"https://colab.research.google.com/github/claudia-viaro/optimal_stopping-switching/blob/main/optimal%20_stopping/optimal_stopping_V1.ipynb\" target=\"_parent\"><img src=\"https://colab.research.google.com/assets/colab-badge.svg\" alt=\"Open In Colab\"/></a>"
      ]
    },
    {
      "cell_type": "markdown",
      "metadata": {
        "id": "-aX5-o2Sa7nC"
      },
      "source": [
        "#Problem Formulation\n",
        "Let $(\\Omega, \\mathcal{F}, \\mathbb{P})$ be a fixed probability space on which an adapted stochastic process is defined $X=(X_t)_{0 \\leq t \\leq T}$ whose natural filtration is $(\\mathcal{F}_t^0 := \\sigma \\{ X_s, s \\leq t \\})_{0 \\leq t \\leq T}$. Let $\\mathbf{F}=(\\mathcal{F}_0)_{0 \\leq t \\leq t}$ be the complete filtration of $(\\mathcal{F}_t^0 := \\sigma \\{ X_s, s \\leq t \\})_{0 \\leq t \\leq T}$. with $P$-null sets of $\\mathcal{F}$.\n",
        "\n",
        "The stochastic process $X$ is $\\mathbb{R}^d$-valued and represents the market price of $d$ financial assets (Bermudan call options) that influence the production of power. Assume $(X^i)_{i=1}^d$ follows a geometric Brownian motion satisfying the SDE:\n",
        "\\begin{equation}\n",
        "dX_t^i = (b-\\delta_i)dt + \\sigma_i dW_t^i\n",
        "\\end{equation}\n",
        "where $W$ is a standard Brownian otion on a filtered probability space $(\\Omega, \\mathcal{F}, (\\mathcal{F}_t)_{t \\geq 0}, \\mathbb{P})$ and $b$, $d_i$, $\\sigma_i >0$ are the drift. dividend yield and volatility of the system at time $t$.\n",
        "\n",
        "We will consider a discrete time approximization (Euler schema) on an equidistant time grid $0=t_0 < t_1 < \\ldots < t_N = T$, where $t_n = n \\cdot T/N$. For $i = 1, \\ldots, d$ we simulate $p$ paths\n",
        "\\begin{equation}\n",
        "x^p_{n,i} = x_{0,i} \\cdot \\exp \\Big\\{ \\sum_{k=0}^n \\big( (b-\\delta_i - \\sigma^2_i /2)\\Delta t + \\sigma_{i} \\sqrt{\\Delta t} \\cdot Z_{k, i}^p \\big)     \\Big\\}\n",
        "\\end{equation}\n",
        "where $\\Delta t = T/N$ and $Z_{k, i}^{p} \\sim \\mathcal{N} (0,1)$.\n",
        "\n"
      ]
    },
    {
      "cell_type": "code",
      "execution_count": 213,
      "metadata": {
        "id": "yEZA-EFaBd0w"
      },
      "outputs": [],
      "source": [
        "import numpy as np\n",
        "import torch\n",
        "import torch.nn as nn\n",
        "np.random.seed(234198)\n",
        "import itertools\n",
        "import random\n",
        "import time\n",
        "import scipy.stats\n",
        "import math\n",
        "import matplotlib.pyplot as plt\n",
        "import torch.optim as optim\n",
        "import torch.utils.data as tdata\n",
        "from google.colab import files\n",
        "import helper"
      ]
    },
    {
      "cell_type": "code",
      "execution_count": 214,
      "metadata": {
        "id": "xJbxC0rzBhrT"
      },
      "outputs": [],
      "source": [
        "class BlackScholes:\n",
        "  def __init__(self, drift, sigma, delta, spot, assets,  paths, periods,\n",
        "         maturity, strike, dividend=0):\n",
        "\n",
        "    self.drift = drift - dividend\n",
        "    self.sigma = sigma\n",
        "    self.delta = delta\n",
        "    self.spot = spot\n",
        "    self.assets = assets\n",
        "    self.paths = paths\n",
        "    self.periods = periods\n",
        "    self.maturity = maturity\n",
        "    self.strike = strike\n",
        "    self.dt = self.maturity / self.periods\n",
        "    self.df = math.exp(-self.drift * self.dt)\n",
        "\n",
        "  def drift_fct(self, x, t):\n",
        "    del t\n",
        "    return self.drift * x\n",
        "\n",
        "  def diffusion_fct(self, x, t, v=0):\n",
        "    del t\n",
        "    return self.sigma * x\n",
        "\n",
        "\n",
        "\n",
        "  def simulate_process(self):\n",
        "    \"\"\"Returns a nparray (nb_paths * assets * nb_dates) with prices.\"\"\"\n",
        "    paths = self.paths\n",
        "    spot_paths = np.empty((self.periods+1, paths, self.assets ))\n",
        "\n",
        "    spot_paths[0, :, :] = self.spot\n",
        "    random_numbers = np.random.normal(\n",
        "        0, 1, (self.periods, paths, self.assets ))\n",
        "    dW = random_numbers * np.sqrt(self.dt)\n",
        "    drift = self.drift\n",
        "    r = np.repeat(np.repeat(np.repeat(\n",
        "        np.reshape(drift, (-1, 1, 1)), self.periods, axis=0),\n",
        "        paths, axis=1), self.assets, axis=2)\n",
        "    sig = np.ones((self.periods, paths, self.assets))*self.sigma\n",
        "    #sig = np.repeat(np.repeat(np.repeat(\n",
        "    #    np.reshape(self.sigma, (-1, 1, 1)), self.periods+1, axis=2),\n",
        "    #    paths, axis=1), self.assets, axis=0)\n",
        "    \n",
        "    spot_paths[1:, :,  :] = np.repeat(\n",
        "        spot_paths[0:1, :, :], self.periods, axis=0)* np.exp(np.cumsum((r-self.delta) * self.dt - (sig ** 2) * self.dt / 2 + sig * dW, axis=0))\n",
        "\n",
        "    return spot_paths #.reshape(spot_paths.shape[2], spot_paths.shape[0], spot_paths.shape[1])"
      ]
    },
    {
      "cell_type": "code",
      "execution_count": 215,
      "metadata": {
        "id": "v1c9hUTGBzcz"
      },
      "outputs": [],
      "source": [
        "def draw_stock_model(stockmodel):\n",
        "    stock_paths = stockmodel\n",
        "\n",
        "    # draw a path\n",
        "    \n",
        "    one_path = stock_paths[:, 0, 0]\n",
        "    dates = np.array([i for i in range(len(one_path))])\n",
        "    plt.plot(dates, one_path, label='stock path')\n",
        "    plt.ylabel('Stock price')\n",
        "    plt.ylabel('Time')\n",
        "    plt.legend()\n",
        "    return plt.show()   "
      ]
    },
    {
      "cell_type": "markdown",
      "source": [
        "# Class \"Payoff\"\n",
        "This class specifies the payoff (some alternatives) that is received when selling/buying the option. \n",
        "\n",
        "- MaxCall\n",
        "\\begin{equation}\n",
        "\\pi(n) = \\Big(\\max_{d \\in \\{1, \\ldots, D \\}} x_n^d - K   \\Big)^{+} \\tag{1}\n",
        "\\end{equation}\n",
        "where $K$ is the strike price"
      ],
      "metadata": {
        "id": "aGaMrPaHkF9H"
      }
    },
    {
      "cell_type": "code",
      "execution_count": 216,
      "metadata": {
        "id": "FRYgMuM2C_K0"
      },
      "outputs": [],
      "source": [
        "'''\n",
        "PAYOFF\n",
        "'''\n",
        "class Payoff_:\n",
        "  def __init__(self, model):\n",
        "    self.strike = model.strike\n",
        "    self.model = model\n",
        "\n",
        "  \n",
        "  def MaxCall_(self, n, X): # already get tensor\n",
        "    a = torch.tensor(())\n",
        "    for m in range(0, self.model.paths):\n",
        "      date = n[m]\n",
        "      tensorX= torch.from_numpy(X[int(date),m,:])\n",
        "      max1=torch.max(tensorX-100)  \n",
        "      i = torch.tensor([max1]).float()\n",
        "      a = torch.cat((a, i), 0)\n",
        "    return a"
      ]
    },
    {
      "cell_type": "markdown",
      "source": [
        "# Class \"Ftheta_NN\"\n",
        "\n",
        "We employ a neural network to approximate the stopping decision functions $\\{f_n\\}_{n=0}^N$ by constructing a sequence of neural networks of the form $f^{\\theta_n}:\\mathbb{R}^d → \\{0,1\\}$ with parameters $\\theta_n \\in \\mathbb{R}^q$ to approximate $f_n$.\n",
        "\n",
        "The neural network used here takes the form $F^{\\theta}: \\mathbb{R}^d → (0,1)$ for $\\theta \\in \\{\\theta_0, \\ldots, \\theta_N  \\}$, that is the parameters are trained via a neural network that outputs probabilities in the interval $(0,1)$. This is due to the fact that the G-B optimization algorithm is to be applied to a continuous function with respect to $\\theta_n$, which $f^{\\theta_n}$ is not. Hence, the multi-layer, feed-forward neural network takes the form:\n",
        "\n",
        "\\begin{equation}\n",
        "F^{\\theta}= \\psi \\circ a_3^{\\theta} \\circ \\phi_{q_2} \\circ a_2^{\\theta} \\circ \\phi_{q_1} \\circ a_1^{\\theta}\n",
        "\\end{equation}\n",
        "where \n",
        "\n",
        "-  $q_1, q_2$ are the number of nodes in the hidden layers\n",
        "- $a_1^{\\theta} : \\mathbb{R}^d → \\mathbb{R}^{q_1}, a_2^{\\theta}: \\mathbb{R}^{q_1} → \\mathbb{R}^{q_2}$ are linear transformation functions: $a_i^{\\theta}(x)=W_i x + b_i$ with matrices $W_1 \\in \\mathbb{R}^{q_1 \\times d}, W_2 \\in \\mathbb{R}^{q_2 \\times q_1}, W_3 \\in \\mathbb{R}^{q_2 \\times 1}$ and vectors $b_1 \\in \\mathbb{R}^{q_1}, b_2 \\in \\mathbb{R}^{q_2}, b_3 \\in \\mathbb{R}^{1}$.\n",
        "- $\\phi_{q_i}: \\mathbb{R}^{q_i}$ is the ReLU activation function: $\\phi_{q_1}(x_i, \\ldots, x_{q_i})=(x_i^{+}, \\ldots, x_{q_i}^{+})$\n",
        "- $\\psi = \\mathbb{R} → \\mathbb{R}$ is the logistic sigmoid function: $\\psi(x)=1/(1+ e^{-x})$.\n",
        "Between the layers a batch normalization is also added, it takes the output from the previous layer and normalizes it before sending it to the next layer. This has the effect of stabilizing the neural network. \n",
        "\n",
        "The parameters will comprise $\\theta = \\{W_1, W_2,, W_3, b_1, b_2, b_3\\}\\in \\mathbb{R}^q$, where $q=q_1(d+q_2+1)+2q_2+1$. The value of $d$ stands for the dimension, that is the number of assets and will be varied among $d=\\{2,4, 5, 10, 20\\}$. \n"
      ],
      "metadata": {
        "id": "1eZ7Tt2TlARg"
      }
    },
    {
      "cell_type": "code",
      "execution_count": 217,
      "metadata": {
        "id": "MpTiRUxLBj5L"
      },
      "outputs": [],
      "source": [
        "'''\n",
        "Neural network\n",
        "'''\n",
        "\n",
        "class Ftheta_NN(nn.Module):\n",
        "  def __init__(self, assets):\n",
        "    super(Ftheta_NN, self).__init__()\n",
        "    H = assets + 40\n",
        "    self.bn0 = nn.BatchNorm1d(num_features=assets)\n",
        "    self.a1 = nn.Linear(assets, H)\n",
        "    self.relu = nn.ReLU()\n",
        "    self.bn1 = nn.BatchNorm1d(num_features=H)\n",
        "    self.a2 = nn.Linear(H, H)\n",
        "    self.bn2 = nn.BatchNorm1d(num_features=H)\n",
        "    self.a3 = nn.Linear(H, 1)\n",
        "    self.bn3 = nn.BatchNorm1d(num_features=1)\n",
        "    self.sigmoid = nn.Sigmoid()\n",
        "\n",
        "  def forward(self, input):\n",
        "    out = self.bn0(input)\n",
        "    out = self.a1(out)\n",
        "    out = self.relu(out)\n",
        "    #out = self.bn1(out)\n",
        "    #out = self.a2(out)    \n",
        "    #out = self.relu(out)\n",
        "    out = self.bn2(out)\n",
        "    out = self.a3(out)    \n",
        "    out = self.sigmoid(out)\n",
        "    return out\n",
        "\n",
        "# set initial weights of a linear layer of the NN with uniform values and bias=0.01 (or choose zero initial weights)\n",
        "def init_weights(m):\n",
        "  if isinstance(m, torch.nn.Linear):\n",
        "    torch.manual_seed(42)\n",
        "    # torch.nn.init.zeros_(m.weight)\n",
        "    torch.nn.init.xavier_uniform_(m.weight)\n",
        "    m.bias.data.fill_(0.01) "
      ]
    },
    {
      "cell_type": "markdown",
      "source": [
        "# Class \"Training_network\"\n",
        "\n",
        "The NN is used to approximate the optimal stopping decisions $f_n: \\mathbb{R}^d \\rightarrow \\{0, 1 \\}$, $n = \\{ 1, \\ldots, N-1 \\}$, at each date by a neural network $f^{\\theta}: \\mathbb{R}^d \\rightarrow \\{0, 1 \\}$ with parameter $\\theta \\in \\mathbb{R}^q$. \n",
        "\n",
        "We choose $\\theta_N \\in \\mathbb{R}^q$ such that $f^{\\theta}_N \\equiv 1$ and determine $\\theta_n \\in \\mathbb{R}^q$ for $n \\leq N-1$ by recursion of the form:\n",
        "\n",
        "\\begin{equation}\n",
        "\\tau_{n+1} = \\sum_{m=n+1}^N m f^{\\theta_m}(X_m) \\prod _{j=n+1}^{m-1} (1-f^{\\theta_j}(X_j))\n",
        "\\end{equation}\n",
        "\n",
        "Since $f^{\\theta}$ takes values in $\\{ 0,1 \\}$, hence not appropriate for a gradient-descent optimization method, the neural network includes a layer performing a logistic transformation such that we have a continuous output function $F^{\\theta}: \\mathbb{R}^d \\rightarrow (0,1)$.\n",
        "\n",
        "At each time step, for each epoch we compute $F^{\\theta_n}$ using the $\\theta_n$ from the previous epoch. Then, the parameter $\\theta_n$ is update via backpropagation by the gradient of the loss function (Adam optimization algorithm \\citep{kingma2014adam}), which is specified as:\n",
        "\n",
        "\\begin{equation}\n",
        "    Loss = - \\mathbb{E}[g(n, X_n)F^{\\theta_n}(X_n) + g(\\tau_{n+1}, X_{\\tau_{n+1}})(1-F^{\\theta_n}(X_n))]\n",
        "\\end{equation}\n",
        "\n",
        "The aim is to determine $\\theta_n \\in \\mathbb{R}^q$ so that the negative of the loss function is close to the supremum $\\sup_{\\theta \\in \\mathbb{R}^q}\\mathbb{E}[g(n, X_n)F^{\\theta}(X_n) + g(\\tau_{n+1}, X_{\\tau_{n+1}})(1-F^{\\theta}(X_n))   ]$. \n",
        "\n",
        "Looking at the formula for the loss function, it takes as inputs:\n",
        "- _current payoff:_ payoff of the option computed at time $n$ for all paths if it is exercised at time $n$. this is the value of the option at time $n$ when it is exercised\n",
        "- _future payoff:_ expected value of the future payoff, computed at a stopping time observed in the future ($\\tau+1$), this is the value of the option at time $n$ when it is not exercised (continuation value)\n",
        "\n",
        "The NN takes as inputs:\n",
        "- _stock prices:_ the prices of the stock at time $n$ across multiple paths\n",
        "\n",
        "and as outputs:\n",
        "- values in $\\{ 0,1 \\}$, representing the probability of stopping the process (exercising the option). "
      ],
      "metadata": {
        "id": "DkGCjRMDJuP6"
      }
    },
    {
      "cell_type": "code",
      "source": [
        "class Training_network(object):\n",
        "\n",
        "  def __init__(self, assets,  epochs=400, batch_size=2000):\n",
        "    self.assets = assets\n",
        "    self.epochs = epochs\n",
        "    self.batch_size = batch_size\n",
        "    self.network = Ftheta_NN(self.assets).double()\n",
        "    self.network.apply(init_weights)\n",
        "\n",
        "  # training part\n",
        "  def train_network(self,  stock_values, current_payoff,\n",
        "                    future_payoff):\n",
        "    \n",
        "    # set values for the NN inputs (stock_values) \n",
        "    X_inputs = torch.from_numpy(stock_values).double() \n",
        "\n",
        "    # set values for the loss\n",
        "    # current_payoff, future_payoff are already tensors\n",
        "    ones = torch.ones(len(future_payoff)) # we need a vector of 1's in the loss function\n",
        "\n",
        "    # several optimization methods are available (here Adam algorithm). as argument input the parameters to be optimized    \n",
        "    # try diff learning rates\n",
        "    optimizer = optim.Adam(self.network.parameters())\n",
        "    self.network.train(True) # set training mode ON    \n",
        "    losses = []\n",
        "    #weights = []\n",
        "    \n",
        "    for epoch in range(self.epochs):\n",
        "      running_loss = 0.0\n",
        "      for batch in tdata.BatchSampler(\n",
        "              tdata.RandomSampler(range(len(X_inputs)), replacement=False),\n",
        "              batch_size=self.batch_size, drop_last=False):\n",
        "        \n",
        "        optimizer.zero_grad()\n",
        "        with torch.set_grad_enabled(True):\n",
        "          F_theta = self.network.forward((X_inputs[batch])).reshape(-1) \n",
        "          reward = (current_payoff[batch].reshape(-1)* F_theta + \n",
        "                    future_payoff[batch] * (ones[batch] - F_theta)) \n",
        "          \n",
        "          # compute loss function\n",
        "          loss = -torch.mean(reward)\n",
        "          \n",
        "          # compute gradients\n",
        "          loss.backward()\n",
        "          # take a step, updating the parameters \n",
        "          optimizer.step()\n",
        "\n",
        "          running_loss += loss.item() * self.batch_size\n",
        "      epoch_loss = running_loss /  len(tdata.BatchSampler(\n",
        "              tdata.RandomSampler(range(len(X_inputs)), replacement=False),\n",
        "              batch_size=self.batch_size, drop_last=False).sampler)\n",
        "      losses.append(epoch_loss*(-1))          \n",
        "    \n",
        "    #weights.append(self.network.state_dict())\n",
        "    # I would like to retain params computed at each each date so that I can access them later\n",
        "    #torch.save(weights, 'checkpoint.pth') # edit here to store them\n",
        "\n",
        "    return F_theta, self.network, losses, self.network.state_dict()\n",
        "\n",
        "  def evaluate_network(self, X_inputs, date):\n",
        "    self.network.load_state_dict(torch.load(f\"test{date}.pth\"))\n",
        "    self.network.eval()\n",
        "    X_inputs = torch.from_numpy(X_inputs).double()\n",
        "    outputs = self.network(X_inputs)\n",
        "    return outputs.view(len(X_inputs)).detach().numpy()  "
      ],
      "metadata": {
        "id": "ZbIYQqM3bKnb"
      },
      "execution_count": 218,
      "outputs": []
    },
    {
      "cell_type": "markdown",
      "source": [
        "#Training\n",
        "\n",
        "We conduct $3000+d$ training steps and for each we generate a batch of $8192$ paths of $(X_n)_{n=0}^N$.\n",
        "\n",
        "The resulting output will be \n",
        "- the stopping decisions $f_n: \\mathbb{R}^d \\rightarrow \\{0, 1 \\}$, $n = \\{ 1, \\ldots, N-1 \\}$\n",
        "- ideally the parameters $\\theta_n$ \n"
      ],
      "metadata": {
        "id": "F67WgZCjmvmS"
      }
    },
    {
      "cell_type": "code",
      "source": [
        "# simulate paths \n",
        "hyperparam_training = {'drift': 0.2, 'sigma': 0.05, 'delta': 0.1,  'paths':40, 'periods': 9, 'maturity': 1., 'strike' : 100,'assets':2,  'spot':90,}\n",
        "S_train=BlackScholes(**hyperparam_training)"
      ],
      "metadata": {
        "id": "67CEvqrDYbYI"
      },
      "execution_count": 219,
      "outputs": []
    },
    {
      "cell_type": "markdown",
      "source": [
        "# Class \"Training\"\n",
        "\n",
        "This is a recursion. It starts by initializing:\n",
        "- model, that is the simulated stock prices\n",
        "- payoff class\n",
        "- NN \n",
        "\n",
        "Create some matrices to store values that will be accessed to at different time steps\n",
        "- _mods_ records the models at each time step, basically it appends, by date, the networks (not sure if it is enough to say that it stores the optimized parameters)\n",
        "- _loss functions_ just to plot\n",
        "- _tau dates:_ it is a matrix $(n \\times m)$, it records for each date when there is a stopping time (can only be at such date or higher)\n",
        "- _F theta:_ it is a matrix $(n \\times m)$, it records the outputs of the NN (0,1 values), only used to obtain the tau_dates\n",
        "\n",
        "The backward induction goes as:\n",
        "1. at maturity\n",
        "  - compute the terminal payoff\n",
        "  - no need to compute the stopping times/stopping decision functions because by construction $f_N \\equiv 1$\n",
        "  - hence set F_theta[N,:]=1 and tau_dates[N,:]=N\n",
        "\n",
        "2. before maturity\n",
        "- compute values for training the NN, hence current payoff $g(n, X_n)$ and future payoff $g(\\tau_{n+1}, X_{\\tau_{n+1}})$. The future payoff needs as time variable $\\tau_{n+1}$, we get it from the matrix tau_dates, taking value at $n+1$. The future payoff, as it refers to a value at time $\\tau_{n+1}$, needs to be discounted to $n$ \n",
        "- feed in the values in the function neural_stopping.train_network()\n",
        "- using the outputs returned by this function, we record values in matrices F_theta and tau_dates\n",
        "\n",
        "This is repeated until $n=1$"
      ],
      "metadata": {
        "id": "_Mizg-2Xr71G"
      }
    },
    {
      "cell_type": "code",
      "source": [
        "class Training:\n",
        "  def __init__(self, model, payoff_function):\n",
        "\n",
        "    self.model = model\n",
        "    self.payoff = payoff_function(self.model)\n",
        "    self.neural_stopping = Training_network(self.model.assets)\n",
        "\n",
        "  def value(self):\n",
        "    model = self.model\n",
        "    stock_paths = self.model.simulate_process()  \n",
        "\n",
        "    # lists to store some values\n",
        "    mods=[None]*model.periods # to record the models of the NN for testing\n",
        "    parameters=[None]*model.periods\n",
        "    loss_functions = [None]*model.periods # to record loss\n",
        "    tau_dates=np.zeros((model.periods+1,model.paths)) # to record stopping times    \n",
        "    F_theta_train=np.zeros((model.periods+1,model.paths)) # to record indicator of stopping times\n",
        "    \n",
        "    \n",
        "    # AT MATURITY N\n",
        "    tau_dates[model.periods,:]=model.periods   \n",
        "    final_dates =  tau_dates[model.periods,:]\n",
        "    F_theta_train[model.periods,:]=1\n",
        "    \n",
        "    terminal_payoff = self.payoff.MaxCall_(final_dates, stock_paths) # payoff of the last date\n",
        "\n",
        "    print(\"date\", model.periods, \", # switches\", model.paths)\n",
        " \n",
        "\n",
        "    # from n=N-1 to 0 with steps of -1\n",
        "\n",
        "    for date in range(stock_paths.shape[0] - 2, 0, -1):      \n",
        "      tau_date_plus_one = tau_dates[date+1, :]\n",
        "      discount_factor = np.exp(-model.drift*model.dt*(tau_date_plus_one-date))\n",
        "\n",
        "      continuation_value =  self.payoff.MaxCall_(tau_date_plus_one, stock_paths)\n",
        "      current_value =  self.payoff.MaxCall_([date]*model.paths, stock_paths)\n",
        "      \n",
        "      stopping_rule , networks, loss, params = self.neural_stopping.train_network(stock_paths[date, : , :], \n",
        "                                                  current_value,\n",
        "                                                  continuation_value*discount_factor)\n",
        "      mods[date]=networks\n",
        "      loss_functions[date]=loss\n",
        "      F_theta_train[date,:]=(stopping_rule > 0.5)*1.0 \n",
        "      tau_dates[date,:]=np.argmax(F_theta_train, axis=0)\n",
        "\n",
        "      print(\"date\", date, \", # switches\", len([1 for l in stopping_rule if l > 0.5]), \" mean reward \", np.mean(loss))\n",
        "      parameters[date]=params\n",
        "      torch.save(params, f\"test{date}.pth\")\n",
        "      \n",
        "    return mods, loss_functions"
      ],
      "metadata": {
        "id": "T6mxhgqPaQj5"
      },
      "execution_count": 220,
      "outputs": []
    },
    {
      "cell_type": "code",
      "source": [
        "pricing = Training(S_train, Payoff_)\n",
        "mods, loss_function = pricing.value()"
      ],
      "metadata": {
        "id": "2XEhZY0obdbh",
        "colab": {
          "base_uri": "https://localhost:8080/"
        },
        "outputId": "c22db66b-a093-4bdd-a581-7fcfef8a0fc0"
      },
      "execution_count": 221,
      "outputs": [
        {
          "output_type": "stream",
          "name": "stdout",
          "text": [
            "date 9 , # switches 40\n",
            "date 8 , # switches 1  mean reward  78.76491031535522\n",
            "date 7 , # switches 0  mean reward  85.01551259318474\n",
            "date 6 , # switches 1  mean reward  83.99049040705209\n",
            "date 5 , # switches 0  mean reward  80.02550237971619\n",
            "date 4 , # switches 0  mean reward  78.26879613486909\n",
            "date 3 , # switches 0  mean reward  76.54870277534114\n",
            "date 2 , # switches 0  mean reward  74.86638255639768\n",
            "date 1 , # switches 0  mean reward  73.22103454294675\n"
          ]
        }
      ]
    },
    {
      "cell_type": "code",
      "source": [
        "filtered_list = list(filter(None, loss_function))\n",
        "legend = [f't={i}' for i in range(len(loss_function))]\n",
        "\n",
        "for i in range(len(filtered_list)):\n",
        "  epochs = np.array([i for i in range(len(filtered_list[0]))])\n",
        "  plt.plot(epochs, filtered_list[i], label='reward funciton')\n",
        "  plt.ylabel('reward')\n",
        "  plt.xlabel('epochs')\n",
        "  plt.legend(legend)\n",
        "  plt.title('Reward curves across time periods')\n",
        "  plt.plot()\n"
      ],
      "metadata": {
        "id": "6IewJAQSf8OT",
        "colab": {
          "base_uri": "https://localhost:8080/",
          "height": 295
        },
        "outputId": "73e22766-59e8-44a0-c398-a0a4b3383fb8"
      },
      "execution_count": 222,
      "outputs": [
        {
          "output_type": "display_data",
          "data": {
            "text/plain": [
              "<Figure size 432x288 with 1 Axes>"
            ],
            "image/png": "[encoded data removed]"
          },
          "metadata": {
            "needs_background": "light"
          }
        }
      ]
    },
    {
      "cell_type": "code",
      "source": [
        "'''\n",
        "class Payoff_:\n",
        "  def __init__(self, model):\n",
        "    self.strike = model.strike\n",
        "    self.model = model\n",
        "\n",
        "  def MaxCall(self, X):\n",
        "    payoff = np.max(X, axis=1) - self.strike\n",
        "    return payoff.clip(0, None)\n",
        "\n",
        "  \n",
        "  def MaxCall_(self, n, X): # already get tensor\n",
        "    a = torch.tensor(())\n",
        "    for m in range(0, self.model.paths):\n",
        "      date = int(n[m])\n",
        "      tensorX= torch.from_numpy(X[date,m,:])\n",
        "      max1=torch.max(tensorX-100)  \n",
        "      i = torch.tensor([max1]).float()\n",
        "      a = torch.cat((a, i), 0)\n",
        "    return a\n",
        "\n",
        "'''    \n",
        "\n",
        "\n",
        "'''\n",
        "\n",
        "# CHECK TRAINING\n",
        "\n",
        "# check training\n",
        "hyperparam_training = {'drift': 0.2, 'sigma': 0.05, 'delta': 0.1,  'paths':7, 'periods': 9, 'maturity': 3., 'strike' : 100,'assets':2,  'spot':90,}\n",
        "model=BlackScholes(**hyperparam_training)\n",
        "\n",
        "neural_stopping = Training_network(model.assets)\n",
        "stock_paths = model.simulate_process()    \n",
        "disc_factor = np.math.exp((-model.drift) * model.maturity/(model.periods))\n",
        "\n",
        "payoff = Payoff_(model)\n",
        "# some objects\n",
        "mods=[None]*model.periods\n",
        "tau_dates=np.zeros((model.periods+1,model.paths)) # record stopping times\n",
        "tau_dates[model.periods,:]=model.periods\n",
        "loss_functions = [None]*model.periods # record loss\n",
        "F_theta_train=np.zeros((model.periods+1,model.paths))\n",
        "F_theta_train[model.periods,:]=1\n",
        "    \n",
        "    \n",
        "# AT MATURITY N\n",
        "\n",
        "terminal_payoff = payoff.MaxCall_(tau_dates[model.periods,:], stock_paths) # payoff of the last date\n",
        "#print(\"terminal_payoff\", terminal_payoff)\n",
        "print(\"tau end\", tau_dates[model.periods,:])\n",
        "m=1\n",
        "b = torch.tensor(())\n",
        "n=tau_dates[model.periods,:]\n",
        "print(\"n\", n)\n",
        "date = n[m]\n",
        "print(\"date\", date)\n",
        "tensorX= torch.from_numpy(stock_paths[int(date),m,:])\n",
        "max1=torch.max(tensorX-100)  \n",
        "print(\"max1\", max1)\n",
        "\n",
        "# recursive calc. before maturity\n",
        "date = stock_paths.shape[0] - 2\n",
        "tau_date_plus_one = tau_dates[date+1, :]\n",
        "print(\"tau_date_plus_one\", tau_date_plus_one)\n",
        "date1 = int(tau_date_plus_one[m])\n",
        "print(date1)\n",
        "\n",
        "continuation_value =  payoff.MaxCall_(tau_date_plus_one, stock_paths)\n",
        "discount = np.exp(-model.drift*model.dt*(tau_date_plus_one-date))\n",
        "print(\"discounted\", continuation_value)\n",
        "print(\"discount\", discount, (tau_date_plus_one-date))\n",
        "current_value =  payoff.MaxCall_([date]*model.paths, stock_paths)\n",
        "print([date]*model.paths)\n",
        "#print(\"continuation_value\", continuation_value)\n",
        "print(\"current_value\", current_value)\n",
        "\n",
        "a = torch.tensor(())\n",
        "for m in range(0, model.paths):\n",
        "  date = int(tau_date_plus_one[m])\n",
        "  tensorX= torch.from_numpy(stock_paths[date,m,:])\n",
        "  max1=torch.max(tensorX-100)  \n",
        "  i = torch.tensor([max1]).float()\n",
        "  a = torch.cat((a, i), 0)\n",
        "print(\"a\", a)\n",
        "\n",
        "X_inputs = torch.from_numpy(stock_paths[date, : , :]).double() # input to the NN must be a tensor\n",
        "\n",
        "print(X_inputs.shape) # 7 paths, 2 assets for that date\n",
        "#print(\"X_inputs\", X_inputs)\n",
        "\n",
        "\n",
        "\n",
        "stopping_rule , networks, loss = neural_stopping.train_network(stock_paths[date, : , :], \n",
        "                                                  current_value,\n",
        "                                                  continuation_value*disc_factor)\n",
        "mods[date]=networks\n",
        "loss_functions[date]=loss\n",
        "print(\"date\", date, \",\", len([1 for l in stopping_rule if l > 0.5]), \" mean loss \", np.mean(loss))\n",
        "print(stopping_rule.shape)\n",
        "F_theta_train[date,:]=(stopping_rule > 0.5)*1.0 \n",
        "#print(F_theta_train[date,:])\n",
        "tau_dates[date,:]=np.argmax(F_theta_train, axis=0)\n",
        "#print(tau_dates[date,:].shape)\n",
        "\n",
        "#print(tau_dates)\n",
        "'''\n"
      ],
      "metadata": {
        "colab": {
          "base_uri": "https://localhost:8080/",
          "height": 140
        },
        "id": "5oB2_W0Yi5p6",
        "outputId": "897fa9cb-2530-414d-e18e-e8b2665da6ab"
      },
      "execution_count": 223,
      "outputs": [
        {
          "output_type": "execute_result",
          "data": {
            "text/plain": [
              "'\\n\\n# CHECK TRAINING\\n\\n# check training\\nhyperparam_training = {\\'drift\\': 0.2, \\'sigma\\': 0.05, \\'delta\\': 0.1,  \\'paths\\':7, \\'periods\\': 9, \\'maturity\\': 3., \\'strike\\' : 100,\\'assets\\':2,  \\'spot\\':90,}\\nmodel=BlackScholes(**hyperparam_training)\\n\\nneural_stopping = Training_network(model.assets)\\nstock_paths = model.simulate_process()    \\ndisc_factor = np.math.exp((-model.drift) * model.maturity/(model.periods))\\n\\npayoff = Payoff_(model)\\n# some objects\\nmods=[None]*model.periods\\ntau_dates=np.zeros((model.periods+1,model.paths)) # record stopping times\\ntau_dates[model.periods,:]=model.periods\\nloss_functions = [None]*model.periods # record loss\\nF_theta_train=np.zeros((model.periods+1,model.paths))\\nF_theta_train[model.periods,:]=1\\n    \\n    \\n# AT MATURITY N\\n\\nterminal_payoff = payoff.MaxCall_(tau_dates[model.periods,:], stock_paths) # payoff of the last date\\n#print(\"terminal_payoff\", terminal_payoff)\\nprint(\"tau end\", tau_dates[model.periods,:])\\nm=1\\nb = torch.tensor(())\\nn=tau_dates[model.periods,:]\\nprint(\"n\", n)\\ndate = n[m]\\nprint(\"date\", date)\\ntensorX= torch.from_numpy(stock_paths[int(date),m,:])\\nmax1=torch.max(tensorX-100)  \\nprint(\"max1\", max1)\\n\\n# recursive calc. before maturity\\ndate = stock_paths.shape[0] - 2\\ntau_date_plus_one = tau_dates[date+1, :]\\nprint(\"tau_date_plus_one\", tau_date_plus_one)\\ndate1 = int(tau_date_plus_one[m])\\nprint(date1)\\n\\ncontinuation_value =  payoff.MaxCall_(tau_date_plus_one, stock_paths)\\ndiscount = np.exp(-model.drift*model.dt*(tau_date_plus_one-date))\\nprint(\"discounted\", continuation_value)\\nprint(\"discount\", discount, (tau_date_plus_one-date))\\ncurrent_value =  payoff.MaxCall_([date]*model.paths, stock_paths)\\nprint([date]*model.paths)\\n#print(\"continuation_value\", continuation_value)\\nprint(\"current_value\", current_value)\\n\\na = torch.tensor(())\\nfor m in range(0, model.paths):\\n  date = int(tau_date_plus_one[m])\\n  tensorX= torch.from_numpy(stock_paths[date,m,:])\\n  max1=torch.max(tensorX-100)  \\n  i = torch.tensor([max1]).float()\\n  a = torch.cat((a, i), 0)\\nprint(\"a\", a)\\n\\nX_inputs = torch.from_numpy(stock_paths[date, : , :]).double() # input to the NN must be a tensor\\n\\nprint(X_inputs.shape) # 7 paths, 2 assets for that date\\n#print(\"X_inputs\", X_inputs)\\n\\n\\n\\nstopping_rule , networks, loss = neural_stopping.train_network(stock_paths[date, : , :], \\n                                                  current_value,\\n                                                  continuation_value*disc_factor)\\nmods[date]=networks\\nloss_functions[date]=loss\\nprint(\"date\", date, \",\", len([1 for l in stopping_rule if l > 0.5]), \" mean loss \", np.mean(loss))\\nprint(stopping_rule.shape)\\nF_theta_train[date,:]=(stopping_rule > 0.5)*1.0 \\n#print(F_theta_train[date,:])\\ntau_dates[date,:]=np.argmax(F_theta_train, axis=0)\\n#print(tau_dates[date,:].shape)\\n\\n#print(tau_dates)\\n'"
            ],
            "application/vnd.google.colaboratory.intrinsic+json": {
              "type": "string"
            }
          },
          "metadata": {},
          "execution_count": 223
        }
      ]
    },
    {
      "cell_type": "markdown",
      "source": [
        "#Lower bound\n",
        "\n",
        "the stopping time $\\tau^{\\Theta}$ gives a lower bound $L=\\mathbb{E}g(\\tau^{\\Theta}, X_{\\tau^{\\Theta}})$ for the optimal value $V_0= \\sup_{\\tau \\in \\mathcal{T}}\\mathbb{E}g(\\tau, X_{\\tau})$.\n",
        "\n",
        "Simulate \n",
        "- $K_L = 1024$ paths $(y_n^k)_{n=0}^N$, $k=1, \\ldots, K_L$, of $(X_n)_{n=0}^N$ and assume these are drawn independently from the realizations $(x_n^k)_{n=0}^N$, $k=1, \\ldots, K$.\n",
        "\n",
        "The unbiased estimate of the lower bound $L$ is given by\n",
        "\\begin{equation}\n",
        "\\hat{L}=\\frac{1}{K_L} \\sum_{k=1}^{K_L} g(l^k, y_{l^k}^k)\n",
        "\\end{equation}\n",
        "where $l^k = l(y_0^k, \\ldots, y_{N-1}^k)$"
      ],
      "metadata": {
        "id": "u6ULiVMClRqG"
      }
    },
    {
      "cell_type": "code",
      "source": [
        "# Testing\n",
        "\n",
        "class Testing_Lower2:\n",
        "  def __init__(self, model, payoff, mods):   \n",
        "    self.model = model # argument is S   \n",
        "    self.payoff = payoff(self.model)\n",
        "    self.neural_stopping = Training_network(self.model.assets)\n",
        "    self.mods = mods\n",
        "\n",
        "\n",
        "\n",
        "  def price(self):\n",
        "    model = self.model    \n",
        "    stock_paths = model.simulate_process()\n",
        "\n",
        "    loss_functions = [None]*model.periods # to record loss\n",
        "    tau_dates=np.zeros((model.periods+1,model.paths)) # to record stopping times    \n",
        "    F_theta_train=np.zeros((model.periods+1,model.paths)) # to record indicator of stopping times\n",
        "    \n",
        "    \n",
        "    # AT MATURITY N\n",
        "    \n",
        "    tau_dates[model.periods,:]=model.periods   \n",
        "    final_dates =  tau_dates[model.periods,:]\n",
        "    F_theta_train[model.periods,:]=1\n",
        "    \n",
        "    terminal_payoff = self.payoff.MaxCall_(final_dates, stock_paths) # payoff of the last date\n",
        "\n",
        "    print(\"date\", model.periods, \", # switches\", model.paths)\n",
        " \n",
        "\n",
        "    # BEFORE MATURITY\n",
        "         \n",
        "    for date in range(stock_paths.shape[0] - 2, 0, -1):\n",
        "      tau_date_plus_one = tau_dates[date+1, :]\n",
        "      discount_factor = np.exp(-model.drift*model.dt*(tau_date_plus_one-date))\n",
        "\n",
        "      continuation_value =  self.payoff.MaxCall_(tau_date_plus_one, stock_paths)\n",
        "      current_value =  self.payoff.MaxCall_([date]*model.paths, stock_paths)\n",
        "\n",
        "      np_probs = self.neural_stopping.evaluate_network(stock_paths[date, :, :], date)   \n",
        "      which = np_probs > 0.5\n",
        "\n",
        "      F_theta_train[date,:]=(np_probs > 0.5)*1.0 \n",
        "      tau_dates[date,:]=np.argmax(F_theta_train, axis=0)\n",
        "\n",
        "      # continuation value\n",
        "      tau = tau_dates[date,:]\n",
        "      disc_factor = np.exp(-model.drift*model.dt*(tau-date))\n",
        "      cont_value = ((self.payoff.MaxCall_(tau, stock_paths)).detach().numpy())*disc_factor\n",
        "\n",
        "      # stop value\n",
        "      # current_value\n",
        "\n",
        "      values = current_value.detach().numpy()\n",
        "      for i in range(0, model.paths):\n",
        "        if which[i]==1:\n",
        "          values[i]=current_value[i]\n",
        "        else:\n",
        "          values[i]=cont_value[i]\n",
        "\n",
        "      # payoff at 0\n",
        "      payoff_0 = (self.payoff.MaxCall_([0]*model.paths, stock_paths)).detach().numpy()\n",
        "      print(\"date\", date, \" , # switches \", len([1 for l in np_probs if l > 0.5]), \"value\", round(np.mean(values), 3))\n",
        "\n",
        "    \n",
        "    return max(np.mean(payoff_0), np.mean(values))\n",
        "\n"
      ],
      "metadata": {
        "id": "Pju2V_si86rg"
      },
      "execution_count": 225,
      "outputs": []
    },
    {
      "cell_type": "code",
      "source": [
        "# Testing\n",
        "\n",
        "class Testing_Lower:\n",
        "  def __init__(self, model, payoff, mods):   \n",
        "    self.model = model # argument is S   \n",
        "    self.payoff = payoff(self.model)\n",
        "    #self.neural_stopping = Training_network(self.model.assets)\n",
        "    self.mods = mods\n",
        "\n",
        "\n",
        "\n",
        "  def price(self):\n",
        "    model = self.model    \n",
        "    stock_paths = model.simulate_process()\n",
        "\n",
        "    loss_functions = [None]*model.periods # to record loss\n",
        "    tau_dates=np.zeros((model.periods+1,model.paths)) # to record stopping times    \n",
        "    F_theta_train=np.zeros((model.periods+1,model.paths)) # to record indicator of stopping times\n",
        "    \n",
        "    \n",
        "    # AT MATURITY N\n",
        "    \n",
        "    tau_dates[model.periods,:]=model.periods   \n",
        "    final_dates =  tau_dates[model.periods,:]\n",
        "    F_theta_train[model.periods,:]=1\n",
        "    \n",
        "    terminal_payoff = self.payoff.MaxCall_(final_dates, stock_paths) # payoff of the last date\n",
        "\n",
        "    print(\"date\", model.periods, \", # switches\", model.paths)\n",
        " \n",
        "\n",
        "    # BEFORE MATURITY\n",
        "         \n",
        "    for date in range(stock_paths.shape[0] - 2, 0, -1):\n",
        "      tau_date_plus_one = tau_dates[date+1, :]\n",
        "      discount_factor = np.exp(-model.drift*model.dt*(tau_date_plus_one-date))\n",
        "\n",
        "      continuation_value =  self.payoff.MaxCall_(tau_date_plus_one, stock_paths)\n",
        "      current_value =  self.payoff.MaxCall_([date]*model.paths, stock_paths)\n",
        "\n",
        "      mod_curr=self.mods[date]      \n",
        "      probs=mod_curr(torch.from_numpy(stock_paths[date, :, :])) \n",
        "      np_probs=probs.detach().numpy().reshape(model.paths)     \n",
        "      which = np_probs > 0.5\n",
        "\n",
        "      F_theta_train[date,:]=(np_probs > 0.5)*1.0 \n",
        "      tau_dates[date,:]=np.argmax(F_theta_train, axis=0)\n",
        "\n",
        "      # continuation value\n",
        "      #tau = tau_dates[date,:]\n",
        "      #cont_value = self.payoff.MaxCall_(tau, stock_paths)\n",
        "      #disc_factor = np.exp(-model.drift*model.dt*(tau-date))\n",
        "\n",
        "      # stop value\n",
        "      # current_value\n",
        "\n",
        "      values = current_value.detach().numpy()\n",
        "      values[which] = current_value[which] # stop\n",
        "      values[~which] = continuation_value[~which]*discount_factor     # continue\n",
        "\n",
        "      # payoff at 0\n",
        "      payoff_0 = (self.payoff.MaxCall_([0]*model.paths, stock_paths)).detach().numpy()\n",
        "      print(\"date\", date, \" , # switches \", len([1 for l in np_probs if l > 0.5]), \"value\", round(np.mean(values), 3))\n",
        "\n",
        "    \n",
        "    return max(np.mean(payoff_0), np.mean(values))\n",
        "\n"
      ],
      "metadata": {
        "id": "aNegNcskb5gl"
      },
      "execution_count": 226,
      "outputs": []
    },
    {
      "cell_type": "code",
      "source": [
        "# Testing phase - Lower bound\n",
        "\n",
        "# sample y from the process (Y)\n",
        "hyperparam_testing_L = {'drift': 0.2, 'sigma': 0.05, 'delta': 0.1,  'paths':40, 'periods': 9, 'maturity': 1., 'strike' : 100,'assets':2,  'spot':90,}\n",
        "S_test_L=BlackScholes(**hyperparam_testing_L)\n",
        "\n",
        "# now we can compute all the stopping times recursively\n",
        "price_testing = Testing_Lower2(S_test_L, Payoff_, mods)\n",
        "\n",
        "MC_estimate = price_testing.price()\n",
        "print(MC_estimate)"
      ],
      "metadata": {
        "id": "fFwBlDkLbnxg",
        "colab": {
          "base_uri": "https://localhost:8080/"
        },
        "outputId": "351dd5e0-aadc-49bb-9d16-ad650d58d16e"
      },
      "execution_count": 233,
      "outputs": [
        {
          "output_type": "stream",
          "name": "stdout",
          "text": [
            "date 9 , # switches 40\n",
            "date 8  , # switches  0 value 1.567\n",
            "date 7  , # switches  0 value 1.532\n",
            "date 6  , # switches  0 value 1.499\n",
            "date 5  , # switches  0 value 1.466\n",
            "date 4  , # switches  0 value 1.433\n",
            "date 3  , # switches  0 value 1.402\n",
            "date 2  , # switches  0 value 1.371\n",
            "date 1  , # switches  0 value 1.341\n",
            "1.3409948\n"
          ]
        }
      ]
    },
    {
      "cell_type": "code",
      "source": [
        "dict ={}\n",
        " \n",
        "# Insert data into dictionary\n",
        "dict1 = {\n",
        "     1: [\"2\", 90, 97.339, 0.009],\n",
        "     2: [\"2\", 100, 205.426, 0.006],\n",
        "     3: [\"2\", 110, 315.878, 0.007],\n",
        "     7: [\"4\", 90, 130.082, 0.008],\n",
        "     8: [\"4\", 100, 235.951, 0.008],\n",
        "     9: [\"4\", 110, 334.079, 0.005],\n",
        "     10: [\"5\", 90, 134.486, 0.008],\n",
        "     11: [\"5\", 100, 224.051, 0.006],\n",
        "     12: [\"5\", 110, 282.737, 0.006],\n",
        "     13: [\"10\", 90, 158.875, 0.005],\n",
        "     14: [\"10\", 100, 273.452, 0.008],\n",
        "     15: [\"10\", 110, 391.043, 0.015],\n",
        "     16: [\"20\", 90, 100.447, 0.008],\n",
        "     17: [\"20\", 100, 192.448, 0.01],\n",
        "     18: [\"20\", 110, 301.107, 0.009],\n",
        "     }\n",
        " \n",
        "# Print the names of the columns.\n",
        "print (\"{:<10} {:<10} {:<10} {:<10}\".format('assets', 'spot', 'L', 'timeL'))\n",
        " \n",
        "# print each data item.\n",
        "for key, value in dict1.items():\n",
        "    assets, spot, L, timeL = value\n",
        "    print (\"{:<10} {:<10} {:<10} {:<10}\".format(assets, spot, L, timeL))"
      ],
      "metadata": {
        "colab": {
          "base_uri": "https://localhost:8080/"
        },
        "id": "xT2b8j6kOCV8",
        "outputId": "7d4629c4-8e02-4cea-cc7f-e0e9d1a51622"
      },
      "execution_count": 228,
      "outputs": [
        {
          "output_type": "stream",
          "name": "stdout",
          "text": [
            "assets     spot       L          timeL     \n",
            "2          90         97.339     0.009     \n",
            "2          100        205.426    0.006     \n",
            "2          110        315.878    0.007     \n",
            "4          90         130.082    0.008     \n",
            "4          100        235.951    0.008     \n",
            "4          110        334.079    0.005     \n",
            "5          90         134.486    0.008     \n",
            "5          100        224.051    0.006     \n",
            "5          110        282.737    0.006     \n",
            "10         90         158.875    0.005     \n",
            "10         100        273.452    0.008     \n",
            "10         110        391.043    0.015     \n",
            "20         90         100.447    0.008     \n",
            "20         100        192.448    0.01      \n",
            "20         110        301.107    0.009     \n"
          ]
        }
      ]
    },
    {
      "cell_type": "code",
      "source": [
        "'''\n",
        "CHECK\n",
        "\n",
        "\n",
        "model=S_test_L\n",
        "stock_paths = model.simulate_process()\n",
        "payoff = Payoff_(model)\n",
        "neural_stopping = Training_network(model.assets)\n",
        "loss_functions = [None]*model.periods # to record loss\n",
        "tau_dates=np.zeros((model.periods+1,model.paths)) # to record stopping times    \n",
        "F_theta_train=np.zeros((model.periods+1,model.paths)) # to record indicator of stopping times\n",
        "\n",
        "\n",
        "# AT MATURITY N\n",
        "\n",
        "tau_dates[model.periods,:]=model.periods   \n",
        "final_dates =  tau_dates[model.periods,:]\n",
        "F_theta_train[model.periods,:]=1\n",
        "\n",
        "terminal_payoff = payoff.MaxCall_(final_dates, stock_paths) # payoff of the last date\n",
        "\n",
        "print(\"date\", model.periods, \", # switches\", model.paths)\n",
        "\n",
        "\n",
        "# BEFORE MATURITY\n",
        "      \n",
        "date = stock_paths.shape[0] - 2\n",
        "tau_date_plus_one = tau_dates[date+1, :]\n",
        "discount_factor = np.exp(-model.drift*model.dt*(tau_date_plus_one-date))\n",
        "\n",
        "continuation_value =  payoff.MaxCall_(tau_date_plus_one, stock_paths)\n",
        "current_value =  payoff.MaxCall_([date]*model.paths, stock_paths)\n",
        "print(\"current\", current_value)\n",
        "\n",
        "np_probs = neural_stopping.evaluate_network(stock_paths[date, :, :], date)   \n",
        "which = np_probs > 0.5\n",
        "print(len(which), \"type which\", type(which))\n",
        "\n",
        "F_theta_train[date,:]=(np_probs > 0.5)*1.0 \n",
        "tau_dates[date,:]=np.argmax(F_theta_train, axis=0)\n",
        "\n",
        "# continuation value\n",
        "tau_dates = tau_dates[date,:]\n",
        "disc_factor = np.exp(-model.drift*model.dt*(tau_dates-date))\n",
        "cont_value = ((payoff.MaxCall_(tau_dates, stock_paths)).detach().numpy())*disc_factor\n",
        "print(\"len cont\", len(cont_value), cont_value[3])\n",
        "\n",
        "\n",
        "# stop value\n",
        "# current_value\n",
        "\n",
        "values = current_value.detach().numpy()\n",
        "print(\"values\", values, values[3], type(values))\n",
        "\n",
        "for i in range(0, model.paths):\n",
        "  if which[i]==1:\n",
        "    values[i]=current_value[i]\n",
        "  else:\n",
        "    values[i]=cont_value[i]\n",
        "\n",
        "\n",
        "#values[which] = current_value[which] # stop\n",
        "#values[~which] = cont_value[~which]*discount_factor     # continue\n",
        "payoff_0 = (payoff.MaxCall_([0]*model.paths, stock_paths)).detach().numpy()\n",
        "print(payoff_0)\n",
        "print(max(np.mean(payoff_0), np.mean(values)))\n",
        "'''"
      ],
      "metadata": {
        "colab": {
          "base_uri": "https://localhost:8080/",
          "height": 140
        },
        "id": "iuS35DAxJrDR",
        "outputId": "376d45f3-cba0-402e-bf5d-3d4bb79afccd"
      },
      "execution_count": 234,
      "outputs": [
        {
          "output_type": "execute_result",
          "data": {
            "text/plain": [
              "'\\nCHECK\\n\\n\\nmodel=S_test_L\\nstock_paths = model.simulate_process()\\npayoff = Payoff_(model)\\nneural_stopping = Training_network(model.assets)\\nloss_functions = [None]*model.periods # to record loss\\ntau_dates=np.zeros((model.periods+1,model.paths)) # to record stopping times    \\nF_theta_train=np.zeros((model.periods+1,model.paths)) # to record indicator of stopping times\\n\\n\\n# AT MATURITY N\\n\\ntau_dates[model.periods,:]=model.periods   \\nfinal_dates =  tau_dates[model.periods,:]\\nF_theta_train[model.periods,:]=1\\n\\nterminal_payoff = payoff.MaxCall_(final_dates, stock_paths) # payoff of the last date\\n\\nprint(\"date\", model.periods, \", # switches\", model.paths)\\n\\n\\n# BEFORE MATURITY\\n      \\ndate = stock_paths.shape[0] - 2\\ntau_date_plus_one = tau_dates[date+1, :]\\ndiscount_factor = np.exp(-model.drift*model.dt*(tau_date_plus_one-date))\\n\\ncontinuation_value =  payoff.MaxCall_(tau_date_plus_one, stock_paths)\\ncurrent_value =  payoff.MaxCall_([date]*model.paths, stock_paths)\\nprint(\"current\", current_value)\\n\\nnp_probs = neural_stopping.evaluate_network(stock_paths[date, :, :], date)   \\nwhich = np_probs > 0.5\\nprint(len(which), \"type which\", type(which))\\n\\nF_theta_train[date,:]=(np_probs > 0.5)*1.0 \\ntau_dates[date,:]=np.argmax(F_theta_train, axis=0)\\n\\n# continuation value\\ntau_dates = tau_dates[date,:]\\ndisc_factor = np.exp(-model.drift*model.dt*(tau_dates-date))\\ncont_value = ((payoff.MaxCall_(tau_dates, stock_paths)).detach().numpy())*disc_factor\\nprint(\"len cont\", len(cont_value), cont_value[3])\\n\\n\\n# stop value\\n# current_value\\n\\nvalues = current_value.detach().numpy()\\nprint(\"values\", values, values[3], type(values))\\n\\nfor i in range(0, model.paths):\\n  if which[i]==1:\\n    values[i]=current_value[i]\\n  else:\\n    values[i]=cont_value[i]\\n\\n\\n#values[which] = current_value[which] # stop\\n#values[~which] = cont_value[~which]*discount_factor     # continue\\npayoff_0 = (payoff.MaxCall_([0]*model.paths, stock_paths)).detach().numpy()\\nprint(payoff_0)\\nprint(max(np.mean(payoff_0), np.mean(values)))\\n'"
            ],
            "application/vnd.google.colaboratory.intrinsic+json": {
              "type": "string"
            }
          },
          "metadata": {},
          "execution_count": 234
        }
      ]
    },
    {
      "cell_type": "markdown",
      "source": [
        "# Upper Bound\n",
        "\n",
        "For every $(\\mathcal{F}_n)$-martingale $(M_n)_{n=0}^N$ starting from $0$ and each sequence of integrable error terms $(\\epsilon_n)_{m=0}^N$ satisfying $\\mathbb{E}[\\epsilon_n | \\mathcal{F}_n]=0$ for all $n$, the following expression provides an upper bound for $V_0$, which is also tight if $M=M^H$ and $\\epsilon \\equiv 0$.\n",
        "\\begin{equation}\n",
        "U = \\mathbb{E} \\Big[ \\max_{0 \\leq n \\leq N} [g(n, X_n) - M_n^{\\Theta} - \\epsilon_n ]  \\Big]\n",
        "\\end{equation}\n",
        "\n",
        "\n",
        "We need an expression for $M^H$ and use the Doob-Meyer decomposition on the Snell envelope of the reward process:\n",
        "\\begin{equation}\n",
        "H_n = \\text{ess} \\sup_{\\tau \\in \\mathcal{T}_n} \\mathbb{E}[g(\\tau)| \\mathcal{F}_n], \\;\\;\\;\\ n=0, 1, \\ldots, N\n",
        "\\end{equation}\n",
        "where its Doob-Meyer deomposition is given by:\n",
        "\\begin{equation}\n",
        "H_n = H_0 + M_n^H - A_n^H\n",
        "\\end{equation}\n",
        "and\n",
        "\\begin{equation}\n",
        "M_0^H = 0\\;\\;\\;\\; \\text{and} \\;\\; M_n^H-M_{n-1}^H=H_n-\\mathbb{E}[H_n | \\mathcal{F}_{n-1}], \\;\\;\\; n=1, \\ldots, N\n",
        "\\end{equation}\n",
        "\n",
        "\n",
        "\n",
        "We use $\\tau^{\\Theta}$ to construct a martingale close to $M^H$. The martingale part of $(H_n^{\\Theta})_{n=0}^N$ is given by:\n",
        "\\begin{equation}\n",
        "\\begin{split}\n",
        "&M_0^{\\Theta}\\\\\n",
        "&M_N^{\\Theta}- M_{n-1}^{\\Theta} = H_n^{\\Theta}-\\mathbb{E}[H_n^{\\Theta} | \\mathcal{F}_{n-1}] = f^{\\theta_n}(X_n)g(n, X_n) + (1- f^{\\theta_n})) C_n^{\\Theta}-C_{n-1}^{\\Theta}, \\;\\; n \\geq 1\n",
        "\\end{split}\n",
        "\\end{equation}\n",
        "and the continuation value is:\n",
        "\\begin{equation}\n",
        "C_n^{\\Theta}=\\mathbb{E}[g(\\tau_{n+1}^{\\Theta}, X_{\\tau_{n+1}^{\\Theta}})| \\mathcal{F}_n] = \\mathbb{E}[g(\\tau_{n+1}^{\\Theta}, X_{\\tau_{n+1}^{\\Theta}})| X_n], \\;\\;\\;\\ n=0, 1, \\ldots, N-1\n",
        "\\end{equation}\n",
        "there is no need to specify $C_N^{\\Theta}$ because $(1- f^{\\theta_N}(X_N))$ is always $0$.\n",
        "\n",
        "\n",
        "Simulate \n",
        "- $K_U = 1024$ paths $(z_n^k)_{n=0}^N$, $k=1, \\ldots, K_U$, of $(X_n)_{n=0}^N$\n",
        "- $K_U \\times J$ realizations $(v_n^{k,j})_{n=0}^N$, $k=1, \\ldots, K_U$, $j=1, \\ldots, J$, of $(W_{t_n} - W_{t_n - 1})_{n=1}^N$ with $J=16384$\n",
        "- for all $n$ and $k$, generate the $i$-th component of the $j$-th continuation path departing from  $z_n^k$ according to:\n",
        "\\begin{equation}\n",
        "\\tilde{z}_n^{i,k,j}=z_n^{i,k} \\exp \\Big([r- \\delta_i - \\sigma_i^2 /2] (m-n)\\Delta t + \\sigma_i [v_{n+1}^{i,k,j} + \\ldots, v_{m}^{i,k,j}]  \\Big), \\;\\;\\;\\; m=n+1, \\ldots, N\n",
        "\\end{equation}\n",
        "we assume that $\\tilde{z}_{n+1}^{k,j}, \\ldots, \\tilde{z}_{N}^{k,j}$ are conditionally independent of each other and of $z_{n+1}^{k}, \\ldots, z_{N}^{k}$ \n"
      ],
      "metadata": {
        "id": "ffDydd-UaBXq"
      }
    },
    {
      "cell_type": "code",
      "source": [
        "# Testing phase - Upper bound\n",
        "\n",
        "# sample Z from the process (X)\n",
        "hyperparam_testing_U = {'drift': 0.2, 'sigma': 0.05, 'delta': 0.1,  'paths':1024, 'periods': 4, 'maturity': 3., 'strike' : 100,'assets':1,  'spot':90,}\n",
        "S_test_U=BlackScholes(**hyperparam_testing_U)\n",
        "stock_paths = S_test_U.simulate_process()\n",
        "print(stock_paths.shape) #(5, 1024, 1)"
      ],
      "metadata": {
        "id": "vSpdEj0XXLuB",
        "colab": {
          "base_uri": "https://localhost:8080/"
        },
        "outputId": "c91d0f19-b12d-4433-9ae3-f29609e02971"
      },
      "execution_count": 230,
      "outputs": [
        {
          "output_type": "stream",
          "name": "stdout",
          "text": [
            "(5, 1024, 1)\n"
          ]
        }
      ]
    },
    {
      "cell_type": "code",
      "source": [
        "# need to generate v values\n",
        "\n",
        "class Zvalues:\n",
        "  def __init__(self, drift, sigma, delta, spot, assets,  paths, periods,\n",
        "         maturity, strike, dividend=0):\n",
        "\n",
        "    self.drift = drift - dividend\n",
        "    self.sigma = sigma\n",
        "    self.delta = delta\n",
        "    self.spot = spot\n",
        "    self.assets = assets\n",
        "    self.paths = paths\n",
        "    self.periods = periods\n",
        "    self.maturity = maturity\n",
        "    self.strike = strike\n",
        "    self.dt = self.maturity / self.periods\n",
        "    self.df = math.exp(-self.drift * self.dt)\n",
        "\n",
        "  def drift_fct(self, x, t):\n",
        "    del t\n",
        "    return self.drift * x\n",
        "\n",
        "  def diffusion_fct(self, x, t, v=0):\n",
        "    del t\n",
        "    return self.sigma * x\n",
        "\n",
        "\n",
        "\n",
        "  def simulate_process(self):\n",
        "    \"\"\"Returns a nparray (nb_paths * assets * nb_dates) with prices.\"\"\"\n",
        "    paths = self.paths\n",
        "    spot_paths = np.empty((self.periods+1, paths))\n",
        "\n",
        "    spot_paths[0, :] = self.spot\n",
        "    random_numbers = np.random.normal(\n",
        "        0, 1, (self.periods, paths))\n",
        "    dW = random_numbers * np.sqrt(self.dt)\n",
        "    drift = self.drift\n",
        "    r = np.repeat(np.repeat(\n",
        "        np.reshape(drift, (-1, 1)), self.periods, axis=0),\n",
        "        paths, axis=1)\n",
        "    sig = np.ones((self.periods, paths))*self.sigma\n",
        "    #sig = np.repeat(np.repeat(np.repeat(\n",
        "    #    np.reshape(self.sigma, (-1, 1, 1)), self.periods+1, axis=2),\n",
        "    #    paths, axis=1), self.assets, axis=0)\n",
        "    \n",
        "    spot_paths[1:, :] = np.repeat(\n",
        "        spot_paths[0:1, :], self.periods, axis=0)* np.exp(np.cumsum((r-self.delta) * self.dt - (sig ** 2) * self.dt / 2 + sig * dW, axis=0))\n",
        "\n",
        "    return spot_paths #.reshape(spot_paths.shape[2], spot_paths.shape[0], spot_paths.shape[1])"
      ],
      "metadata": {
        "id": "TshW4LLYDkEt"
      },
      "execution_count": 231,
      "outputs": []
    },
    {
      "cell_type": "code",
      "source": [
        "hyperparam_V = {'drift': 0.2, 'sigma': 0.05, 'delta': 0.1,  'paths':7, 'periods': 4, 'maturity': 3., 'strike' : 100,  'assets': 2,'spot':90,}\n",
        "S_test_U=Zvalues(**hyperparam_V)\n",
        "stock_paths_Z = S_test_U.simulate_process()\n",
        "print(stock_paths_Z)"
      ],
      "metadata": {
        "id": "ngTGSEUHZQk3",
        "colab": {
          "base_uri": "https://localhost:8080/"
        },
        "outputId": "9bf3e794-6a32-492d-f7c1-5fce9953b34e"
      },
      "execution_count": 232,
      "outputs": [
        {
          "output_type": "stream",
          "name": "stdout",
          "text": [
            "[[ 90.          90.          90.          90.          90.\n",
            "   90.          90.        ]\n",
            " [100.07746492  99.8122985   97.67885798  95.82588284  95.82672242\n",
            "  100.80099317  98.21043761]\n",
            " [111.02852352 112.43092462 110.96151741 106.99610162 101.64151379\n",
            "  108.15167663 106.79071959]\n",
            " [117.44619783 118.00845366 119.417282   112.84268746 116.2322202\n",
            "  117.71580308 124.82744426]\n",
            " [127.4402081  128.7832959  131.40661747 123.91980518 131.31268032\n",
            "  117.46264757 133.93220751]]\n"
          ]
        }
      ]
    }
  ],
  "metadata": {
    "colab": {
      "name": "optimal_stopping_V1.ipynb",
      "provenance": [],
      "collapsed_sections": [],
      "include_colab_link": true
    },
    "kernelspec": {
      "display_name": "Python 3",
      "name": "python3"
    },
    "language_info": {
      "name": "python"
    }
  },
  "nbformat": 4,
  "nbformat_minor": 0
}