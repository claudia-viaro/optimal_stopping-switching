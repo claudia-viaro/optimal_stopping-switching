{
  "cells": [
    {
      "cell_type": "markdown",
      "metadata": {
        "id": "view-in-github",
        "colab_type": "text"
      },
      "source": [
        "<a href=\"https://colab.research.google.com/github/claudia-viaro/optimal_stopping-switching/blob/main/optimal_stopping/optimal_stopping_V1.ipynb\" target=\"_parent\"><img src=\"https://colab.research.google.com/assets/colab-badge.svg\" alt=\"Open In Colab\"/></a>"
      ]
    },
    {
      "cell_type": "markdown",
      "metadata": {
        "id": "-aX5-o2Sa7nC"
      },
      "source": [
        "#Problem Formulation\n",
        "Let $(\\Omega, \\mathcal{F}, \\mathbb{P})$ be a fixed probability space on which an adapted stochastic process is defined $X=(X_t)_{0 \\leq t \\leq T}$ whose natural filtration is $(\\mathcal{F}_t^0 := \\sigma \\{ X_s, s \\leq t \\})_{0 \\leq t \\leq T}$. Let $\\mathbf{F}=(\\mathcal{F}_0)_{0 \\leq t \\leq t}$ be the complete filtration of $(\\mathcal{F}_t^0 := \\sigma \\{ X_s, s \\leq t \\})_{0 \\leq t \\leq T}$. with $P$-null sets of $\\mathcal{F}$.\n",
        "\n",
        "The stochastic process $X$ is $\\mathbb{R}^d$-valued and represents the market price of $d$ financial assets (Bermudan call options) that influence the production of power. Assume $(X^i)_{i=1}^d$ follows a geometric Brownian motion satisfying the SDE:\n",
        "\\begin{equation}\n",
        "dX_t^i = (b-\\delta_i)dt + \\sigma_i dW_t^i\n",
        "\\end{equation}\n",
        "where $W$ is a standard Brownian otion on a filtered probability space $(\\Omega, \\mathcal{F}, (\\mathcal{F}_t)_{t \\geq 0}, \\mathbb{P})$ and $b$, $d_i$, $\\sigma_i >0$ are the drift. dividend yield and volatility of the system at time $t$.\n",
        "\n",
        "We will consider a discrete time approximization (Euler schema) on an equidistant time grid $0=t_0 < t_1 < \\ldots < t_N = T$, where $t_n = n \\cdot T/N$. For $i = 1, \\ldots, d$ we simulate $p$ paths\n",
        "\\begin{equation}\n",
        "x^p_{n,i} = x_{0,i} \\cdot \\exp \\Big\\{ \\sum_{k=0}^n \\big( (b-\\delta_i - \\sigma^2_i /2)\\Delta t + \\sigma_{i} \\sqrt{\\Delta t} \\cdot Z_{k, i}^p \\big)     \\Big\\}\n",
        "\\end{equation}\n",
        "where $\\Delta t = T/N$ and $Z_{k, i}^{p} \\sim \\mathcal{N} (0,1)$.\n",
        "\n"
      ]
    },
    {
      "cell_type": "code",
      "execution_count": 105,
      "metadata": {
        "id": "yEZA-EFaBd0w"
      },
      "outputs": [],
      "source": [
        "import numpy as np\n",
        "import torch\n",
        "import torch.nn as nn\n",
        "np.random.seed(234198)\n",
        "import itertools\n",
        "import random\n",
        "import time\n",
        "import scipy.stats\n",
        "import math\n",
        "import matplotlib.pyplot as plt\n",
        "import torch.optim as optim\n",
        "import torch.utils.data as tdata\n",
        "from google.colab import files\n",
        "import helper"
      ]
    },
    {
      "cell_type": "code",
      "execution_count": 106,
      "metadata": {
        "id": "xJbxC0rzBhrT"
      },
      "outputs": [],
      "source": [
        "class BlackScholes:\n",
        "  def __init__(self, drift, sigma, delta, spot, assets,  paths, periods,\n",
        "         maturity, strike, dividend=0):\n",
        "\n",
        "    self.drift = drift - dividend\n",
        "    self.sigma = sigma\n",
        "    self.delta = delta\n",
        "    self.spot = spot\n",
        "    self.assets = assets\n",
        "    self.paths = paths\n",
        "    self.periods = periods\n",
        "    self.maturity = maturity\n",
        "    self.strike = strike\n",
        "    self.dt = self.maturity / self.periods\n",
        "    self.df = math.exp(-self.drift * self.dt)\n",
        "\n",
        "  def drift_fct(self, x, t):\n",
        "    del t\n",
        "    return self.drift * x\n",
        "\n",
        "  def diffusion_fct(self, x, t, v=0):\n",
        "    del t\n",
        "    return self.sigma * x\n",
        "\n",
        "\n",
        "\n",
        "  def simulate_process(self):\n",
        "    \"\"\"Returns a nparray (nb_paths * assets * nb_dates) with prices.\"\"\"\n",
        "    paths = self.paths\n",
        "    spot_paths = np.empty((self.periods+1, paths, self.assets ))\n",
        "\n",
        "    spot_paths[0, :, :] = self.spot\n",
        "    random_numbers = np.random.normal(\n",
        "        0, 1, (self.periods, paths, self.assets ))\n",
        "    dW = random_numbers * np.sqrt(self.dt)\n",
        "    drift = self.drift\n",
        "    r = np.repeat(np.repeat(np.repeat(\n",
        "        np.reshape(drift, (-1, 1, 1)), self.periods, axis=0),\n",
        "        paths, axis=1), self.assets, axis=2)\n",
        "    sig = np.ones((self.periods, paths, self.assets))*self.sigma\n",
        "    #sig = np.repeat(np.repeat(np.repeat(\n",
        "    #    np.reshape(self.sigma, (-1, 1, 1)), self.periods+1, axis=2),\n",
        "    #    paths, axis=1), self.assets, axis=0)\n",
        "    \n",
        "    spot_paths[1:, :,  :] = np.repeat(\n",
        "        spot_paths[0:1, :, :], self.periods, axis=0)* np.exp(np.cumsum((r-self.delta) * self.dt - (sig ** 2) * self.dt / 2 + sig * dW, axis=0))\n",
        "\n",
        "    return spot_paths #.reshape(spot_paths.shape[2], spot_paths.shape[0], spot_paths.shape[1])\n",
        "\n",
        "\n",
        "\n",
        "class GBM:\n",
        "    def __init__(self, drift, sigma, delta, spot, assets,  paths, periods,\n",
        "         maturity, strike = 100,dividend=0):\n",
        "        self.maturity = maturity\n",
        "        self.strike = strike\n",
        "        self.assets = assets\n",
        "        self.sigma=sigma *np.ones(self.assets)\n",
        "        self.delta=delta\n",
        "        self.spot = spot*np.ones(self.assets)\n",
        "        self.drift = drift - dividend\n",
        "        self.paths = paths\n",
        "        self.periods = periods\n",
        "        self.dt = self.maturity / self.periods\n",
        "    \n",
        "    def simulate_process(self):\n",
        "        \n",
        "        dt = self.maturity / self.periods\n",
        "        So_vec=self.spot*np.ones((1,S.paths, S.assets))\n",
        "        \n",
        "        Z=np.random.standard_normal((self.periods,self.paths, self.assets))\n",
        "        s=self.spot*np.exp(np.cumsum((self.drift-self.delta-0.5*self.sigma**2)*dt+self.sigma*np.sqrt(dt)*Z, axis=0))\n",
        "        \n",
        "        s=np.append(So_vec, s, axis=0)\n",
        "        return s  \n",
        "    "
      ]
    },
    {
      "cell_type": "code",
      "execution_count": 107,
      "metadata": {
        "id": "MpTiRUxLBj5L"
      },
      "outputs": [],
      "source": [
        "'''\n",
        "Neural network\n",
        "'''\n",
        "\n",
        "class Ftheta_NN(nn.Module):\n",
        "  def __init__(self, assets):\n",
        "    super(Ftheta_NN, self).__init__()\n",
        "    H = assets + 40\n",
        "    self.bn0 = nn.BatchNorm1d(num_features=assets)\n",
        "    self.a1 = nn.Linear(assets, H)\n",
        "    self.relu = nn.ReLU()\n",
        "    self.bn1 = nn.BatchNorm1d(num_features=H)\n",
        "    self.a2 = nn.Linear(H, H)\n",
        "    self.bn2 = nn.BatchNorm1d(num_features=H)\n",
        "    self.a3 = nn.Linear(H, 1)\n",
        "    self.bn3 = nn.BatchNorm1d(num_features=1)\n",
        "    self.sigmoid = nn.Sigmoid()\n",
        "\n",
        "  def forward(self, input):\n",
        "    out = self.bn0(input)\n",
        "    out = self.a1(out)\n",
        "\n",
        "    out = self.relu(out)\n",
        "    #out = self.bn1(out)\n",
        "\n",
        "    #out = self.a2(out)\n",
        "    \n",
        "    #out = self.relu(out)\n",
        "    out = self.bn2(out)\n",
        "    out = self.a3(out)\n",
        "    \n",
        "    out = self.sigmoid(out)\n",
        "    return out\n",
        "\n",
        "\n",
        "\n",
        "# set initial weights of a linear layer of the NN with uniform values and bias=0.01 (or choose zero initial weights)\n",
        "def init_weights(m):\n",
        "  if isinstance(m, torch.nn.Linear):\n",
        "    torch.manual_seed(42)\n",
        "    # torch.nn.init.zeros_(m.weight)\n",
        "    torch.nn.init.xavier_uniform_(m.weight)\n",
        "    m.bias.data.fill_(0.01)\n",
        "    \n",
        " "
      ]
    },
    {
      "cell_type": "code",
      "execution_count": 108,
      "metadata": {
        "id": "FRYgMuM2C_K0"
      },
      "outputs": [],
      "source": [
        "'''\n",
        "PAYOFF\n",
        "'''\n",
        "\n",
        "# Payoff\n",
        "class Payoff:\n",
        "  def __init__(self, model):\n",
        "    self.strike = model.strike\n",
        "\n",
        "  def MaxCall(self, X):\n",
        "    payoff = np.max(X, axis=1) - self.strike\n",
        "    return payoff.clip(0, None)\n",
        "\n",
        "  def MaxPut(self, X):\n",
        "    payoff = self.strike - np.max(X, axis=1)\n",
        "    return payoff.clip(0, None)   \n",
        "\n",
        "\n",
        "  def GeometricPut(self, X):\n",
        "    dim = len(X[1])  \n",
        "    payoff = self.strike - np.prod(X, axis=1) ** (1/dim)\n",
        "    return payoff.clip(0, None)\n"
      ]
    },
    {
      "cell_type": "markdown",
      "source": [
        "# Class \"Recursive\"\n",
        "This class contains the main calculations of the algorithm, hence the recursion.\n",
        "\n",
        "### price\n",
        "First we start with some elements:\n",
        "1. we simulate $d$ asset prices $\\{X^i \\}^d_{i=1}$ along $m$ paths according to a geometric Brownian motion process. We consider the iys discretized version on an equidistant time grid, $t_n = n \\cdot T/N$ for $n=0, \\ldots, N$:\n",
        "\\begin{equation} \\tag{7}\n",
        "x_{n,i}^m = x_{0,i} \\cdot \\exp \\Big\\{\\sum_{k=0}^n \\Big((r-\\delta_i - \\sigma_i^2 /2) \\Delta t + \\sigma_i \\sqrt{\\Delta t} \\cdot Z_{k, i}^m  \\Big) \\Big\\}\n",
        "\\end{equation}\n",
        "where $(r-\\delta_i) \\in \\mathbb{R}$ and $\\sigma_i >0$ are the drift and volatility of the system $X$, $\\Delta t =T/N$ and $Z_{k, i}^m \\sim \\mathcal{N}(0,1)$\n",
        "2. we define the discount factor $\\exp \\{(r-\\delta_i )\\Delta t \\}$\n",
        "\n",
        "\n",
        "Then we can start the recursion:\n",
        "\n",
        "*At maturity $N$*\n",
        "1. we compute the profit at $N$ \"final_payoff\" $(4)$\n",
        "\n",
        "*Before maturity, for each date $ n=N-1, \\ldots, 0$*\n",
        "1. we compute \"current_payoff\" using \"Profit_training.running()\"\n",
        "2. we obtain a stopping rule for each path, using as arguments the current payoff, the discounted final payoff (now called \"values\") and the entire process. Record then the stopping rules in \"F_theta_train\" **[I am not sure about the discounting]**\n",
        "3. we compute $\\check{V}_{n}^i$ according to $(4)$, using \"Payoff.Maxcall()\"  and record it under \"Y_train\". Hence we have a matrix with dimension periods x paths, recording $\\check{V}_{n}^i$\n",
        "5. we compute the mean estimate across paths for each date (Y_test_mean) and the standard error so that we can plot the values with a 95% CI"
      ],
      "metadata": {
        "id": "DkGCjRMDJuP6"
      }
    },
    {
      "cell_type": "code",
      "execution_count": 109,
      "metadata": {
        "id": "v1c9hUTGBzcz"
      },
      "outputs": [],
      "source": [
        "def draw_stock_model(stockmodel):\n",
        "    stock_paths = stockmodel\n",
        "\n",
        "    # draw a path\n",
        "    one_path = stock_paths[:, 0, 0]\n",
        "    dates = np.array([i for i in range(len(one_path))])\n",
        "    plt.plot(dates, one_path, label='stock path')\n",
        "    plt.ylabel('Stock price')\n",
        "    plt.ylabel('Time')\n",
        "    plt.legend()\n",
        "    return plt.show()   "
      ]
    },
    {
      "cell_type": "code",
      "source": [
        "class Training_network(object):\n",
        "\n",
        "  def __init__(self, assets, paths, epochs=50):\n",
        "    self.assets = assets\n",
        "    self.paths = paths\n",
        "    self.epochs = epochs\n",
        "    self.network = Ftheta_NN(self.assets).double()\n",
        "    self.network.apply(init_weights)\n",
        "\n",
        "  # training part\n",
        "  def train_network(self,  stock_values, current_payoff,\n",
        "                    future_payoff):\n",
        "        \n",
        "    # several optimization methods are available (here Adam algorithm). as argument input the parameters to be optimized    \n",
        "    optimizer = optim.Adam(self.network.parameters())\n",
        "    \n",
        "    # set values for the NN inputs (stock_values) and loss function\n",
        "    future_payoff = torch.from_numpy(future_payoff).double()\n",
        "    current_payoff = torch.from_numpy(current_payoff).double()\n",
        "    X_inputs = torch.from_numpy(stock_values).double() # input to the NN must be a tensor\n",
        "    self.network.train(True) # set training mode ON\n",
        "    ones = torch.ones(len(future_payoff)) # we need a vector of 1's in the loss function\n",
        "    losses = []\n",
        "    for epoch in range(self.epochs):\n",
        "      # set the gradients of all optimized tensors to zero (at every step we start fresh)\n",
        "      optimizer.zero_grad()\n",
        "      with torch.set_grad_enabled(True):\n",
        "        F_theta = self.network.forward((X_inputs)).reshape(-1) # probabilities\n",
        "        reward = (current_payoff.reshape(-1)* F_theta + future_payoff * (ones - F_theta)) \n",
        "        \n",
        "        # compute loss function\n",
        "        loss = -torch.mean(reward)\n",
        "        losses.append(loss.item())\n",
        "\n",
        "        # compute gradients\n",
        "        loss.backward()\n",
        "      \n",
        "      # take a step, updating the parameters \n",
        "      optimizer.step()\n",
        "    \n",
        "    torch.save(self.network.state_dict(), 'checkpoint.pth')\n",
        "\n",
        "    return F_theta, self.network, losses  \n",
        "  \n",
        "  # function to inform the NN to perform a testing phase\n",
        "  def evaluate_network(self, X_inputs):\n",
        "    state_dict = torch.load('checkpoint.pth')\n",
        "    self.network.load_state_dict(state_dict)\n",
        "\n",
        "    self.network.eval()\n",
        "    X_inputs = torch.from_numpy(X_inputs).double()\n",
        "    \n",
        "    # the output is a probability for each date and path\n",
        "    # it is obtained by feeding the NN with the dimension of the assets (at a specific date for all paths), \n",
        "    outputs = self.network(X_inputs)\n",
        "    return outputs.view(X_inputs.size()).detach().numpy()\n"
      ],
      "metadata": {
        "id": "ZbIYQqM3bKnb"
      },
      "execution_count": 110,
      "outputs": []
    },
    {
      "cell_type": "markdown",
      "source": [
        "#Training\n",
        "\n",
        "We conduct $3000+d$ training steps and for each we generate a batch of $8192$ paths of $(X_n)_{n=0}^N$.\n",
        "\n",
        "The resulting output will be the stopping decisions $f^{\\theta_n}$\n"
      ],
      "metadata": {
        "id": "F67WgZCjmvmS"
      }
    },
    {
      "cell_type": "code",
      "source": [
        "# simulate paths Y\n",
        "hyperparam_training = {'drift': 0.2, 'sigma': 0.05, 'delta': 0.1,  'paths':2000, 'periods': 9, 'maturity': 3., 'strike' : 100,'assets':10,  'spot':90,}\n",
        "S_train=BlackScholes(**hyperparam_training)\n"
      ],
      "metadata": {
        "id": "67CEvqrDYbYI"
      },
      "execution_count": 111,
      "outputs": []
    },
    {
      "cell_type": "code",
      "source": [
        "class Training:\n",
        "  def __init__(self, model, payoff_function):\n",
        "\n",
        "    self.model = model\n",
        "    self.payoff = payoff_function(self.model)\n",
        "    self.neural_stopping = Training_network(self.model.assets, self.model.paths)\n",
        "\n",
        "  def value(self):\n",
        "    model = self.model\n",
        "    stock_paths = self.model.simulate_process()    \n",
        "    mods=[None]*model.periods # record the models of the NN for testing\n",
        "    loss_functions = [None]*model.periods\n",
        "    \n",
        "    \n",
        "    # AT MATURITY N\n",
        "    final_payoff = self.payoff.MaxCall(stock_paths[-1, :, :]) # payoff of the last date\n",
        "    print(\"date\", model.periods, \",\", model.paths)\n",
        " \n",
        "\n",
        "    # from n=N-1 to 0 with steps of -1\n",
        "\n",
        "    for date in range(stock_paths.shape[0] - 2, 0, -1):      \n",
        "      current_payoff = self.payoff.MaxCall(stock_paths[date, :, :])\n",
        "      stopping_rule , networks, loss = self.neural_stopping.train_network(stock_paths[date, : , :], \n",
        "                                                  current_payoff,\n",
        "                                                  final_payoff*(np.math.exp((-model.drift) * (model.periods-date)/model.periods)))\n",
        "      mods[date]=networks\n",
        "      loss_functions[date]=loss\n",
        "      print(\"date\", date, \",\", len([1 for l in stopping_rule if l > 0.5]), \" mean loss \", np.mean(loss))\n",
        "\n",
        "\n",
        "    return mods, loss_functions\n",
        "\n",
        "  def stop(self, stock_values, current_payoff, future_payoff, train=True):\n",
        "    if train:\n",
        "      stopping_probability, networks, losses = self.neural_stopping.train_network(stock_values,\n",
        "                                                                          current_payoff,\n",
        "                                                                          future_payoff)\n",
        "      #inputs = stock_values\n",
        "      #stopping_probability , networks   = self.neural_stopping.evaluate_network(inputs)\n",
        "    return stopping_probability, networks, losses  "
      ],
      "metadata": {
        "id": "T6mxhgqPaQj5"
      },
      "execution_count": 112,
      "outputs": []
    },
    {
      "cell_type": "code",
      "source": [
        "pricing = Training(S_train, Payoff)\n",
        "mods, loss_function = pricing.value()"
      ],
      "metadata": {
        "id": "2XEhZY0obdbh",
        "colab": {
          "base_uri": "https://localhost:8080/"
        },
        "outputId": "61620685-4f10-4e48-d954-881ed952beba"
      },
      "execution_count": 113,
      "outputs": [
        {
          "output_type": "stream",
          "name": "stdout",
          "text": [
            "date 9 , 2000\n",
            "date 8 , 569  mean loss  -35.551161136532784\n",
            "date 7 , 336  mean loss  -33.95588337460426\n",
            "date 6 , 92  mean loss  -33.40578030288877\n",
            "date 5 , 0  mean loss  -33.91814081013949\n",
            "date 4 , 0  mean loss  -33.93614483344813\n",
            "date 3 , 0  mean loss  -33.44514653051972\n",
            "date 2 , 0  mean loss  -32.792822994212116\n",
            "date 1 , 0  mean loss  -32.09536271264336\n"
          ]
        }
      ]
    },
    {
      "cell_type": "code",
      "source": [
        "filtered_list = list(filter(None, loss_function))\n",
        "legend = [\"n = 1\", \"n = 2\", \"n = 3\", \"n = 4\", \"n = 5\", \"n = 6\", \"n = 7\", \"n = 8\"]\n",
        "\n",
        "for i in range(len(filtered_list)):\n",
        "  epochs = np.array([i for i in range(len(filtered_list[0]))])\n",
        "  plt.plot(epochs, filtered_list[i], label='loss funciton')\n",
        "  plt.ylabel('loss')\n",
        "  plt.xlabel('epochs')\n",
        "  plt.legend(legend)\n",
        "  plt.title('Loss curves across time periods')\n",
        "  plt.plot()\n"
      ],
      "metadata": {
        "colab": {
          "base_uri": "https://localhost:8080/",
          "height": 295
        },
        "id": "6IewJAQSf8OT",
        "outputId": "5259ee5b-d94c-420e-a8f1-c38bd698bd15"
      },
      "execution_count": 120,
      "outputs": [
        {
          "output_type": "display_data",
          "data": {
            "text/plain": [
              "<Figure size 432x288 with 1 Axes>"
            ],
            "image/png": "[encoded data removed]"
          },
          "metadata": {
            "needs_background": "light"
          }
        }
      ]
    },
    {
      "cell_type": "code",
      "source": [
        ""
      ],
      "metadata": {
        "id": "53elhfVnl60H"
      },
      "execution_count": 114,
      "outputs": []
    },
    {
      "cell_type": "code",
      "source": [
        "'''\n",
        "\n",
        "# CHECK TRAINING\n",
        "\n",
        "# check training\n",
        "hyperparam_training = {'drift': 0.2, 'sigma': 0.05, 'delta': 0.1,  'paths':10, 'periods': 9, 'maturity': 3., 'strike' : 100,'assets':2,  'spot':90,}\n",
        "model=BlackScholes(**hyperparam_training)\n",
        "payoff = Payoff(model)\n",
        "stock_paths = model.simulate_process()    \n",
        "disc_factor = np.math.exp((-model.drift) * model.maturity/(model.periods))\n",
        "mods=[None]*model.periods\n",
        "    \n",
        "    \n",
        "# AT MATURITY N\n",
        "final_payoff = payoff.MaxCall(stock_paths[-1, :, :]) # payoff of the last date\n",
        "future_payoff = torch.from_numpy(final_payoff).double() # better discounting\n",
        "values = final_payoff  \n",
        "\n",
        "# recursive calc. before maturity\n",
        "date = stock_paths.shape[0] - 2\n",
        "current_payoff =  payoff.MaxCall(stock_paths[date, :, :])\n",
        "current_payoff = torch.from_numpy(current_payoff).double()\n",
        "future_payoff = torch.from_numpy(values*disc_factor).double()\n",
        "X_inputs = torch.from_numpy(stock_paths[date, : , :]).double() # input to the NN must be a tensor\n",
        "\n",
        "# check function stop\n",
        "#stopping_rule , networks= stop(stock_paths[date, : , :],  current_payoff, values*disc_factor)\n",
        "#mods[date]=networks\n",
        "\n",
        "# check function training_network\n",
        "#neural_stopping = Training_network(model.assets, model.paths)\n",
        "#neural_stopping.train_network(stock_paths[date, : , :], current_payoff , values*disc_factor)\n",
        "\n",
        "network = Ftheta_NN(model.assets)\n",
        "network.apply(init_weights).double()\n",
        "\n",
        "optimizer = optim.Adam(network.parameters())\n",
        "criterion = nn.MSELoss()\n",
        "\n",
        "\n",
        "network.train(True) # set training mode ON\n",
        "ones = torch.ones(len(future_payoff), requires_grad=True) # we need a vector of 1's in the loss function\n",
        "losses = []\n",
        "for epoch in range(5000):\n",
        "  optimizer.zero_grad()\n",
        "  with torch.set_grad_enabled(True):\n",
        "    F_theta = network(X_inputs)   #.reshape(-1) # probabilities\n",
        "    reward = (current_payoff.reshape(-1)[0] * F_theta + future_payoff * (ones - F_theta)) \n",
        "    Y = torch.rand([2, 10]).double()\n",
        "    # compute loss function\n",
        "    loss = -torch.mean(reward)\n",
        "    losses.append(loss.item())\n",
        "    #loss = criterion(Y, F_theta)\n",
        "    \n",
        "    loss.backward()\n",
        "    optimizer.step()\n",
        "\n",
        "plt.plot(losses)\n",
        "plt.ylabel('loss')\n",
        "plt.xlabel('epoch')\n",
        "plt.title(\"Learning rate %f\")\n",
        "plt.show()\n",
        "'''\n"
      ],
      "metadata": {
        "colab": {
          "base_uri": "https://localhost:8080/",
          "height": 227
        },
        "id": "5oB2_W0Yi5p6",
        "outputId": "30c2c020-3c18-48f1-a5cd-080a8b8b4c74"
      },
      "execution_count": 115,
      "outputs": [
        {
          "output_type": "execute_result",
          "data": {
            "text/plain": [
              "'\\n\\n# CHECK TRAINING\\n\\n# check training\\nhyperparam_training = {\\'drift\\': 0.2, \\'sigma\\': 0.05, \\'delta\\': 0.1,  \\'paths\\':10, \\'periods\\': 9, \\'maturity\\': 3., \\'strike\\' : 100,\\'assets\\':2,  \\'spot\\':90,}\\nmodel=BlackScholes(**hyperparam_training)\\npayoff = Payoff(model)\\nstock_paths = model.simulate_process()    \\ndisc_factor = np.math.exp((-model.drift) * model.maturity/(model.periods))\\nmods=[None]*model.periods\\n    \\n    \\n# AT MATURITY N\\nfinal_payoff = payoff.MaxCall(stock_paths[-1, :, :]) # payoff of the last date\\nfuture_payoff = torch.from_numpy(final_payoff).double() # better discounting\\nvalues = final_payoff  \\n\\n# recursive calc. before maturity\\ndate = stock_paths.shape[0] - 2\\ncurrent_payoff =  payoff.MaxCall(stock_paths[date, :, :])\\ncurrent_payoff = torch.from_numpy(current_payoff).double()\\nfuture_payoff = torch.from_numpy(values*disc_factor).double()\\nX_inputs = torch.from_numpy(stock_paths[date, : , :]).double() # input to the NN must be a tensor\\n\\n# check function stop\\n#stopping_rule , networks= stop(stock_paths[date, : , :],  current_payoff, values*disc_factor)\\n#mods[date]=networks\\n\\n# check function training_network\\n#neural_stopping = Training_network(model.assets, model.paths)\\n#neural_stopping.train_network(stock_paths[date, : , :], current_payoff , values*disc_factor)\\n\\nnetwork = Ftheta_NN(model.assets)\\nnetwork.apply(init_weights).double()\\n\\noptimizer = optim.Adam(network.parameters())\\ncriterion = nn.MSELoss()\\n\\n\\nnetwork.train(True) # set training mode ON\\nones = torch.ones(len(future_payoff), requires_grad=True) # we need a vector of 1\\'s in the loss function\\nlosses = []\\nfor epoch in range(5000):\\n  optimizer.zero_grad()\\n  with torch.set_grad_enabled(True):\\n    F_theta = network(X_inputs)   #.reshape(-1) # probabilities\\n    reward = (current_payoff.reshape(-1)[0] * F_theta + future_payoff * (ones - F_theta)) \\n    Y = torch.rand([2, 10]).double()\\n    # compute loss function\\n    loss = -torch.mean(reward)\\n    losses.append(loss.item())\\n    #loss = criterion(Y, F_theta)\\n    \\n    loss.backward()\\n    optimizer.step()\\n\\nplt.plot(losses)\\nplt.ylabel(\\'loss\\')\\nplt.xlabel(\\'epoch\\')\\nplt.title(\"Learning rate %f\")\\nplt.show()\\n'"
            ],
            "application/vnd.google.colaboratory.intrinsic+json": {
              "type": "string"
            }
          },
          "metadata": {},
          "execution_count": 115
        }
      ]
    },
    {
      "cell_type": "markdown",
      "source": [
        "#Lower bound\n",
        "\n",
        "the stopping time $\\tau^{\\Theta}$ gives a lower bound $L=\\mathbb{E}g(\\tau^{\\Theta}, X_{\\tau^{\\Theta}})$ for the optimal value $V_0= \\sup_{\\tau \\in \\mathcal{T}}\\mathbb{E}g(\\tau, X_{\\tau})$.\n",
        "\n",
        "Simulate \n",
        "- $K_L = 1024$ paths $(y_n^k)_{n=0}^N$, $k=1, \\ldots, K_L$, of $(X_n)_{n=0}^N$ and assume these are drawn independently from the realizations $(x_n^k)_{n=0}^N$, $k=1, \\ldots, K$.\n",
        "\n",
        "The unbiased estimate of the lower bound $L$ is given by\n",
        "\\begin{equation}\n",
        "\\hat{L}=\\frac{1}{K_L} \\sum_{k=1}^{K_L} g(l^k, y_{l^k}^k)\n",
        "\\end{equation}\n",
        "where $l^k = l(y_0^k, \\ldots, y_{N-1}^k)$"
      ],
      "metadata": {
        "id": "u6ULiVMClRqG"
      }
    },
    {
      "cell_type": "code",
      "source": [
        "# Testing phase - Lower bound\n",
        "\n",
        "# sample y from the process (Y)\n",
        "hyperparam_testing_L = {'drift': 0.2, 'sigma': 0.05, 'delta': 0.1,  'paths':40, 'periods': 9, 'maturity': 3., 'strike' : 100,'assets':2,  'spot':90,}\n",
        "S_test_L=BlackScholes(**hyperparam_testing_L)\n",
        "\n",
        "# now we can compute all the stopping times recursively"
      ],
      "metadata": {
        "id": "fFwBlDkLbnxg"
      },
      "execution_count": 116,
      "outputs": []
    },
    {
      "cell_type": "code",
      "source": [
        "'''\n",
        "\n",
        "model = S_test_L\n",
        "stock_paths = model.simulate_process()\n",
        "date = stock_paths.shape[0] - 2\n",
        "\n",
        "mod_curr = mods[date]     \n",
        "probs=mod_curr(torch.from_numpy(stock_paths[date])) \n",
        "np_probs=probs.detach().numpy().reshape(model.paths)     \n",
        "which = np_probs > 0.5\n",
        "print(which)\n",
        "\n",
        "neural_stopping = Training_network(model.assets, model.paths)\n",
        "stopping_probability , networks   = neural_stopping.evaluate_network(stock_paths[date])\n",
        "print(stopping_probability  > 0.5)\n",
        "\n",
        "'''"
      ],
      "metadata": {
        "colab": {
          "base_uri": "https://localhost:8080/",
          "height": 123
        },
        "id": "MW7B4vELqcXd",
        "outputId": "50387a8c-b258-451b-e478-3b0f3543258e"
      },
      "execution_count": 117,
      "outputs": [
        {
          "output_type": "execute_result",
          "data": {
            "text/plain": [
              "'\\n\\nmodel = S_test_L\\nstock_paths = model.simulate_process()\\ndate = stock_paths.shape[0] - 2\\n\\nmod_curr = mods[date]     \\nprobs=mod_curr(torch.from_numpy(stock_paths[date])) \\nnp_probs=probs.detach().numpy().reshape(model.paths)     \\nwhich = np_probs > 0.5\\nprint(which)\\n\\nneural_stopping = Training_network(model.assets, model.paths)\\nstopping_probability , networks   = neural_stopping.evaluate_network(stock_paths[date])\\nprint(stopping_probability  > 0.5)\\n\\n'"
            ],
            "application/vnd.google.colaboratory.intrinsic+json": {
              "type": "string"
            }
          },
          "metadata": {},
          "execution_count": 117
        }
      ]
    },
    {
      "cell_type": "code",
      "source": [
        "# Testing\n",
        "\n",
        "class Testing_Lower:\n",
        "  def __init__(self, model, payoff):   \n",
        "    self.model = model # argument is S   \n",
        "    self.payoff = payoff(self.model)\n",
        "    self.neural_stopping = Training_network(self.model.assets, self.model.paths)\n",
        "\n",
        "\n",
        "  def price(self):\n",
        "    model = self.model    \n",
        "    stock_paths = self.model.simulate_process()\n",
        "    \n",
        " \n",
        "    # at maturity N\n",
        "    final_payoff = self.payoff.MaxCall(stock_paths[-1, :, :]) # payoff of the last date\n",
        "    payoff_0 = self.payoff.MaxCall(stock_paths[0, :, :])  \n",
        "    values = final_payoff\n",
        "    print(\"date\", model.periods, \":\", 1,\" , \", 1, \" , \", model.paths, \"value\", np.mean(values))\n",
        "\n",
        "\n",
        "    # recursive calc. before maturity\n",
        "         \n",
        "    for date in range(stock_paths.shape[0] - 2, 0, -1):\n",
        "      current_payoff = self.payoff.MaxCall(stock_paths[date, :, :])\n",
        "      #mod_curr=self.mods[date]\n",
        "\n",
        "      probs = self.neural_stopping.evaluate_network(stock_paths[date, : , :])\n",
        "      \n",
        "      #probs=mod_curr(torch.from_numpy(stock_paths[date])) \n",
        "      #np_probs=probs.detach().numpy().reshape(self.model.paths)     \n",
        "\n",
        "      which = np_probs > 0.5\n",
        "\n",
        "      values[which] = current_payoff[which]\n",
        "      values[~which] *= (np.math.exp((-model.drift) * (model.periods-date)/model.periods))\n",
        "      print(\"date\", date, \":\", round(np.min(np_probs), 3),\" , \", round(np.max(np_probs), 3), \" , \", len([1 for l in np_probs if l > 0.5]), \"value\", np.mean(values))\n",
        "\n",
        "    \n",
        "    return round(payoff_0[0], 3), round(np.mean(values)*(np.math.exp((-model.drift) * (date/model.periods))) , 3)\n",
        "\n"
      ],
      "metadata": {
        "id": "aNegNcskb5gl"
      },
      "execution_count": 118,
      "outputs": []
    },
    {
      "cell_type": "code",
      "source": [
        "price_testing = Testing_Lower(S_test_L, Payoff, mods)\n",
        "\n",
        "Y_test_mean, MC_estimate = price_testing.price()\n",
        "print(Y_test_mean, MC_estimate)"
      ],
      "metadata": {
        "id": "1oRLovDLcEwE",
        "colab": {
          "base_uri": "https://localhost:8080/",
          "height": 218
        },
        "outputId": "b824234a-b28f-4121-ae18-e8ceab234c5c"
      },
      "execution_count": 119,
      "outputs": [
        {
          "output_type": "error",
          "ename": "TypeError",
          "evalue": "ignored",
          "traceback": [
            "\u001b[0;31m---------------------------------------------------------------------------\u001b[0m",
            "\u001b[0;31mTypeError\u001b[0m                                 Traceback (most recent call last)",
            "\u001b[0;32m<ipython-input-119-7c1fc35261ea>\u001b[0m in \u001b[0;36m<module>\u001b[0;34m()\u001b[0m\n\u001b[0;32m----> 1\u001b[0;31m \u001b[0mprice_testing\u001b[0m \u001b[0;34m=\u001b[0m \u001b[0mTesting_Lower\u001b[0m\u001b[0;34m(\u001b[0m\u001b[0mS_test_L\u001b[0m\u001b[0;34m,\u001b[0m \u001b[0mPayoff\u001b[0m\u001b[0;34m,\u001b[0m \u001b[0mmods\u001b[0m\u001b[0;34m)\u001b[0m\u001b[0;34m\u001b[0m\u001b[0;34m\u001b[0m\u001b[0m\n\u001b[0m\u001b[1;32m      2\u001b[0m \u001b[0;34m\u001b[0m\u001b[0m\n\u001b[1;32m      3\u001b[0m \u001b[0mY_test_mean\u001b[0m\u001b[0;34m,\u001b[0m \u001b[0mMC_estimate\u001b[0m \u001b[0;34m=\u001b[0m \u001b[0mprice_testing\u001b[0m\u001b[0;34m.\u001b[0m\u001b[0mprice\u001b[0m\u001b[0;34m(\u001b[0m\u001b[0;34m)\u001b[0m\u001b[0;34m\u001b[0m\u001b[0;34m\u001b[0m\u001b[0m\n\u001b[1;32m      4\u001b[0m \u001b[0mprint\u001b[0m\u001b[0;34m(\u001b[0m\u001b[0mY_test_mean\u001b[0m\u001b[0;34m,\u001b[0m \u001b[0mMC_estimate\u001b[0m\u001b[0;34m)\u001b[0m\u001b[0;34m\u001b[0m\u001b[0;34m\u001b[0m\u001b[0m\n",
            "\u001b[0;31mTypeError\u001b[0m: __init__() takes 3 positional arguments but 4 were given"
          ]
        }
      ]
    },
    {
      "cell_type": "markdown",
      "source": [
        "# Upper Bound\n",
        "\n",
        "For every $(\\mathcal{F}_n)$-martingale $(M_n)_{n=0}^N$ starting from $0$ and each sequence of integrable error terms $(\\epsilon_n)_{m=0}^N$ satisfying $\\mathbb{E}[\\epsilon_n | \\mathcal{F}_n]=0$ for all $n$, the following expression provides an upper bound for $V_0$, which is also tight if $M=M^H$ and $\\epsilon \\equiv 0$.\n",
        "\\begin{equation}\n",
        "U = \\mathbb{E} \\Big[ \\max_{0 \\leq n \\leq N} [g(n, X_n) - M_n^{\\Theta} - \\epsilon_n ]  \\Big]\n",
        "\\end{equation}\n",
        "\n",
        "\n",
        "We need an expression for $M^H$ and use the Doob-Meyer decomposition on the Snell envelope of the reward process:\n",
        "\\begin{equation}\n",
        "H_n = \\text{ess} \\sup_{\\tau \\in \\mathcal{T}_n} \\mathbb{E}[g(\\tau)| \\mathcal{F}_n], \\;\\;\\;\\ n=0, 1, \\ldots, N\n",
        "\\end{equation}\n",
        "where its Doob-Meyer deomposition is given by:\n",
        "\\begin{equation}\n",
        "H_n = H_0 + M_n^H - A_n^H\n",
        "\\end{equation}\n",
        "and\n",
        "\\begin{equation}\n",
        "M_0^H = 0\\;\\;\\;\\; \\text{and} \\;\\; M_n^H-M_{n-1}^H=H_n-\\mathbb{E}[H_n | \\mathcal{F}_{n-1}], \\;\\;\\; n=1, \\ldots, N\n",
        "\\end{equation}\n",
        "\n",
        "\n",
        "\n",
        "We use $\\tau^{\\Theta}$ to construct a martingale close to $M^H$. The martingale part of $(H_n^{\\Theta})_{n=0}^N$ is given by:\n",
        "\\begin{equation}\n",
        "\\begin{split}\n",
        "&M_0^{\\Theta}\\\\\n",
        "&M_N^{\\Theta}- M_{n-1}^{\\Theta} = H_n^{\\Theta}-\\mathbb{E}[H_n^{\\Theta} | \\mathcal{F}_{n-1}] = f^{\\theta_n}(X_n)g(n, X_n) + (1- f^{\\theta_n})) C_n^{\\Theta}-C_{n-1}^{\\Theta}, \\;\\; n \\geq 1\n",
        "\\end{split}\n",
        "\\end{equation}\n",
        "and the continuation value is:\n",
        "\\begin{equation}\n",
        "C_n^{\\Theta}=\\mathbb{E}[g(\\tau_{n+1}^{\\Theta}, X_{\\tau_{n+1}^{\\Theta}})| \\mathcal{F}_n] = \\mathbb{E}[g(\\tau_{n+1}^{\\Theta}, X_{\\tau_{n+1}^{\\Theta}})| X_n], \\;\\;\\;\\ n=0, 1, \\ldots, N-1\n",
        "\\end{equation}\n",
        "there is no need to specify $C_N^{\\Theta}$ because $(1- f^{\\theta_N}(X_N))$ is always $0$.\n",
        "\n",
        "\n",
        "Simulate \n",
        "- $K_U = 1024$ paths $(z_n^k)_{n=0}^N$, $k=1, \\ldots, K_U$, of $(X_n)_{n=0}^N$\n",
        "- $K_U \\times J$ realizations $(v_n^{k,j})_{n=0}^N$, $k=1, \\ldots, K_U$, $j=1, \\ldots, J$, of $(W_{t_n} - W_{t_n - 1})_{n=1}^N$ with $J=16384$\n",
        "- for all $n$ and $k$, generate the $i$-th component of the $j$-th continuation path departing from  $z_n^k$ according to:\n",
        "\\begin{equation}\n",
        "\\tilde{z}_n^{i,k,j}=z_n^{i,k} \\exp \\Big([r- \\delta_i - \\sigma_i^2 /2] (m-n)\\Delta t + \\sigma_i [v_{n+1}^{i,k,j} + \\ldots, v_{m}^{i,k,j}]  \\Big), \\;\\;\\;\\; m=n+1, \\ldots, N\n",
        "\\end{equation}\n",
        "we assume that $\\tilde{z}_{n+1}^{k,j}, \\ldots, \\tilde{z}_{N}^{k,j}$ are conditionally independent of each other and of $z_{n+1}^{k}, \\ldots, z_{N}^{k}$ \n"
      ],
      "metadata": {
        "id": "ffDydd-UaBXq"
      }
    },
    {
      "cell_type": "code",
      "source": [
        "# Testing phase - Upper bound\n",
        "\n",
        "# sample Z from the process (X)\n",
        "hyperparam_testing_U = {'drift': 0.2, 'sigma': 0.05, 'delta': 0.1,  'paths':1024, 'periods': 4, 'maturity': 3., 'strike' : 100,'assets':1,  'spot':90,}\n",
        "S_test_U=BlackScholes(**hyperparam_testing_U)\n",
        "stock_paths = S_test_U.simulate_process()\n",
        "print(stock_paths.shape) #(5, 1024, 1)"
      ],
      "metadata": {
        "id": "vSpdEj0XXLuB"
      },
      "execution_count": null,
      "outputs": []
    },
    {
      "cell_type": "code",
      "source": [
        "# need to generate v values\n",
        "\n",
        "class Zvalues:\n",
        "  def __init__(self, drift, sigma, delta, spot, assets,  paths, periods,\n",
        "         maturity, strike, dividend=0):\n",
        "\n",
        "    self.drift = drift - dividend\n",
        "    self.sigma = sigma\n",
        "    self.delta = delta\n",
        "    self.spot = spot\n",
        "    self.assets = assets\n",
        "    self.paths = paths\n",
        "    self.periods = periods\n",
        "    self.maturity = maturity\n",
        "    self.strike = strike\n",
        "    self.dt = self.maturity / self.periods\n",
        "    self.df = math.exp(-self.drift * self.dt)\n",
        "\n",
        "  def drift_fct(self, x, t):\n",
        "    del t\n",
        "    return self.drift * x\n",
        "\n",
        "  def diffusion_fct(self, x, t, v=0):\n",
        "    del t\n",
        "    return self.sigma * x\n",
        "\n",
        "\n",
        "\n",
        "  def simulate_process(self):\n",
        "    \"\"\"Returns a nparray (nb_paths * assets * nb_dates) with prices.\"\"\"\n",
        "    paths = self.paths\n",
        "    spot_paths = np.empty((self.periods+1, paths))\n",
        "\n",
        "    spot_paths[0, :] = self.spot\n",
        "    random_numbers = np.random.normal(\n",
        "        0, 1, (self.periods, paths))\n",
        "    dW = random_numbers * np.sqrt(self.dt)\n",
        "    drift = self.drift\n",
        "    r = np.repeat(np.repeat(\n",
        "        np.reshape(drift, (-1, 1)), self.periods, axis=0),\n",
        "        paths, axis=1)\n",
        "    sig = np.ones((self.periods, paths))*self.sigma\n",
        "    #sig = np.repeat(np.repeat(np.repeat(\n",
        "    #    np.reshape(self.sigma, (-1, 1, 1)), self.periods+1, axis=2),\n",
        "    #    paths, axis=1), self.assets, axis=0)\n",
        "    \n",
        "    spot_paths[1:, :] = np.repeat(\n",
        "        spot_paths[0:1, :], self.periods, axis=0)* np.exp(np.cumsum((r-self.delta) * self.dt - (sig ** 2) * self.dt / 2 + sig * dW, axis=0))\n",
        "\n",
        "    return spot_paths #.reshape(spot_paths.shape[2], spot_paths.shape[0], spot_paths.shape[1])"
      ],
      "metadata": {
        "id": "TshW4LLYDkEt"
      },
      "execution_count": null,
      "outputs": []
    },
    {
      "cell_type": "code",
      "source": [
        "hyperparam_V = {'drift': 0.2, 'sigma': 0.05, 'delta': 0.1,  'paths':7, 'periods': 4, 'maturity': 3., 'strike' : 100,  'assets': 2,'spot':90,}\n",
        "S_test_U=Zvalues(**hyperparam_V)\n",
        "stock_paths_Z = S_test_U.simulate_process()\n",
        "print(stock_paths_Z)"
      ],
      "metadata": {
        "id": "ngTGSEUHZQk3"
      },
      "execution_count": null,
      "outputs": []
    },
    {
      "cell_type": "code",
      "source": [
        "W_matrix = np.random.normal(0, 1, (S_test_U.periods+1, 3, 2))\n",
        "V_matrix = np.zeros((S_test_U.periods+1, 3, 2))\n",
        "V_matrix[0, :, :] = W_matrix[0, :, :]\n",
        "\n",
        "for i in range(1,S_test_U.periods+1):\n",
        "  V_matrix[i, :, :] = W_matrix[i, :, :] - W_matrix[i-1, :, :]\n",
        "print(V_matrix.shape) #(5, 3, 2)\n",
        "\n",
        "print(V_matrix)"
      ],
      "metadata": {
        "id": "qoquSY2VIlX8"
      },
      "execution_count": null,
      "outputs": []
    },
    {
      "cell_type": "code",
      "source": [
        "# build z tilde matrix\n",
        "\n",
        "Z_matrix = np.zeros((S_test_U.periods+1, 3, 2))\n",
        "paths = S_test_U.paths\n",
        "dW = V_matrix * np.sqrt(S_test_U.dt)\n",
        "drift = S_test_U.drift\n",
        "r = np.repeat(np.repeat(np.repeat(\n",
        "        np.reshape(drift, (-1, 1, 1)), S_test_U.periods, axis=0),\n",
        "        paths, axis=1), 2, axis=2)\n",
        "sig = np.ones((S_test_U.periods, paths, 2))*S_test_U.sigma\n",
        "print(S_test_U.periods, stock_paths_Z.shape)\n",
        "a = np.repeat(stock_paths_Z[0:1, :], S_test_U.periods, axis=0)\n",
        "print(a.shape)\n",
        "print(stock_paths_Z[0:1, :])\n",
        "Z_matrix[1:, :, :] = np.repeat(stock_paths_Z[0:1, :], S_test_U.periods, axis=0)* np.exp(np.cumsum((r-S_test_U.delta) * S_test_U.dt - (sig ** 2) * S_test_U.dt / 2 + sig * dW, axis=0))"
      ],
      "metadata": {
        "id": "luS64oilSUXi"
      },
      "execution_count": null,
      "outputs": []
    },
    {
      "cell_type": "code",
      "source": [
        "# Estimate continuation values\n",
        "\n",
        "class continuation:\n",
        "  def __init__(self, model, payoff, mods):   \n",
        "    self.model = model # argument is S   \n",
        "    self.payoff = payoff(self.model)\n",
        "    self.mods = mods\n",
        "\n",
        "  def price(self):\n",
        "    model = self.model\n",
        "    disc_factor = np.math.exp((-model.drift) * model.maturity/(model.periods))\n",
        "    stock_paths = self.model.simulate_process()\n",
        "\n",
        "    F_theta_test=np.zeros((model.periods+1,model.paths))\n",
        "    F_theta_test[model.periods,:]=1\n",
        "    C_test=np.zeros(self.model.periods+1)\n",
        "    \n",
        " \n",
        "    # at maturity N\n",
        "    final_payoff = self.payoff.MaxCall(stock_paths[-1, :, :]) # payoff of the last date\n",
        "    C_test[model.periods] = np.mean(final_payoff)\n",
        "    payoff_0 = self.payoff.MaxCall(stock_paths[0, :, :])  \n",
        "    values = final_payoff\n",
        "    print(\"date\", model.periods, \":\", 1,\" , \", 1, \" , \", model.paths)\n",
        "\n",
        "\n",
        "    # recursive calc. before maturity\n",
        "         \n",
        "    for date in range(stock_paths.shape[0] - 2, 0, -1):\n",
        "      current_payoff = self.payoff.MaxCall(stock_paths[date, :, :])\n",
        "      mod_curr=self.mods[date]\n",
        "      probs=mod_curr(torch.from_numpy(stock_paths[date])) \n",
        "      np_probs=probs.detach().numpy().reshape(self.model.paths)\n",
        "      print(\"date\", date, \":\", round(np.min(np_probs), 3),\" , \", round(np.max(np_probs), 3), \" , \", len([1 for l in np_probs if l > 0.5]))\n",
        "\n",
        "      which = np_probs > 0.5\n",
        "\n",
        "      values[which] = current_payoff[which]\n",
        "      values[~which] *= disc_factor\n",
        "      C_test[date]=np.mean(values)\n",
        "\n",
        "    \n",
        "    return C_test"
      ],
      "metadata": {
        "id": "bC6TxtJPXLwY"
      },
      "execution_count": null,
      "outputs": []
    },
    {
      "cell_type": "code",
      "source": [
        "continuation_values = continuation(S_test_U, Payoff, mods)\n",
        "\n",
        "print(continuation_values.price())"
      ],
      "metadata": {
        "id": "c5cbon3kXLzN"
      },
      "execution_count": null,
      "outputs": []
    },
    {
      "cell_type": "code",
      "source": [
        "model = S\n",
        "payoff = Payoff(model)\n",
        "disc_factor = np.math.exp((-model.drift) * model.maturity/(model.periods))\n",
        "stock_paths = model.simulate_process()\n",
        "\n",
        "F_theta_test=np.zeros((model.periods+1,model.paths))\n",
        "F_theta_test[model.periods,:]=1\n",
        "C_test=np.zeros(model.periods+1)\n",
        "print(C_test)\n",
        "\n",
        "\n",
        "# at maturity N\n",
        "final_payoff = payoff.MaxCall(stock_paths[-1, :, :]) # payoff of the last date\n",
        "print(final_payoff)\n",
        "C_test[model.periods] = np.mean(final_payoff)"
      ],
      "metadata": {
        "id": "hJdetWn8i0__"
      },
      "execution_count": null,
      "outputs": []
    },
    {
      "cell_type": "code",
      "source": [
        "def stop(stock_values, current_payoff, future_payoff, train=True):\n",
        "    if train:\n",
        "      neural_stopping.train_network(\n",
        "          stock_values,\n",
        "          current_payoff ,\n",
        "          future_payoff)\n",
        "      inputs = stock_values\n",
        "      stopping_probability = neural_stopping.evaluate_network(inputs)\n",
        "    return stopping_probability \n",
        "\n",
        "\n",
        "pricing = Recursive(S, Payoff, epochs=500)\n",
        "model = S\n",
        "payoff = Payoff(model)\n",
        "neural_stopping = Train_Network(model.assets, model.paths)\n",
        "\n",
        "stock_paths = model.simulate_process()    \n",
        "disc_factor = np.math.exp((-model.drift) * model.maturity/(model.periods))\n",
        "    \n",
        "    \n",
        "    # AT MATURITY N\n",
        "final_payoff = payoff.MaxCall(stock_paths[-1, :, :]) # payoff of the last date\n",
        "payoff_0 = payoff.MaxCall(stock_paths[0, :, :])  \n",
        "values = final_payoff\n",
        "print(\"date\", model.periods, \":\", 1,\" , \", 1, \" , \", model.paths)\n",
        "\n",
        "\n",
        "# recursive calc, from n=N-1 to 0 with steps of -1\n",
        "\n",
        "date = 3   \n",
        "current_payoff = payoff.MaxCall(stock_paths[date, :, :])\n",
        "stopping_rule = stop(stock_paths[date, : , :], \n",
        "                          current_payoff,\n",
        "                          values*disc_factor)\n",
        "print(\"date\", date, \":\", round(np.min(stopping_rule), 3),\" , \", round(np.max(stopping_rule), 3), \" , \", len([1 for l in stopping_rule if l > 0.5]))\n",
        "which = stopping_rule > 0.5\n",
        "print(values)\n",
        "print(current_payoff)\n",
        "print(which)\n",
        "print(values[which])\n",
        "values[which] = current_payoff[which]\n",
        "values[~which] *= disc_factor"
      ],
      "metadata": {
        "id": "JVak1kL4v2JG"
      },
      "execution_count": null,
      "outputs": []
    }
  ],
  "metadata": {
    "colab": {
      "name": "optimal_stopping_V1.ipynb",
      "provenance": [],
      "collapsed_sections": [],
      "include_colab_link": true
    },
    "kernelspec": {
      "display_name": "Python 3",
      "name": "python3"
    },
    "language_info": {
      "name": "python"
    }
  },
  "nbformat": 4,
  "nbformat_minor": 0
}