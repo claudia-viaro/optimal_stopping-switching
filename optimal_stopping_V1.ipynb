{
  "cells": [
    {
      "cell_type": "markdown",
      "metadata": {
        "id": "view-in-github",
        "colab_type": "text"
      },
      "source": [
        "<a href=\"https://colab.research.google.com/github/claudia-viaro/optimal_switching/blob/main/optimal_stopping_V1.ipynb\" target=\"_parent\"><img src=\"https://colab.research.google.com/assets/colab-badge.svg\" alt=\"Open In Colab\"/></a>"
      ]
    },
    {
      "cell_type": "markdown",
      "metadata": {
        "id": "-aX5-o2Sa7nC"
      },
      "source": [
        "#Problem Formulation\n",
        "Let $(\\Omega, \\mathcal{F}, P)$ be a fixed probability space on which an adapted stochastic process is defined $X=(X_t)_{0 \\leq t \\leq T}$ whose natural filtration is $(\\mathcal{F}_t^0 := \\sigma \\{ X_s, s \\leq t \\})_{0 \\leq t \\leq T}$. Let $\\mathbf{F}=(\\mathcal{F}_0)_{0 \\leq t \\leq t}$ be the complete filtration of $(\\mathcal{F}_t^0 := \\sigma \\{ X_s, s \\leq t \\})_{0 \\leq t \\leq T}$. with $P$-null sets of $\\mathcal{F}$.\n",
        "\n",
        "The stochastic process $X$ is $\\mathbb{R}^d$-valued and represents the market price of $d$ financial assets (Bermudan call options) that influence the production of power. Assume $(X^i)_{i=1}^d$ follows a geometric Brownian motion satisfying the SDE:\n",
        "\\begin{equation}\n",
        "dX_t = b_{I_t}X_tdt + \\sigma_{I_t}X_tdW_t\n",
        "\\end{equation}\n",
        "where $W$ is a standard Brownian otion on a filtered probability space $(\\Omega, \\mathcal{F}, \\mathbf{F}=(\\mathcal{F}_t)_{t \\geq 0} P)$ and $I_t$ is the indicator variable of the regimes valued in $\\mathbf{I}_d = \\{1, \\ldots, d \\}$. $b_i \\in \\mathbf{R}$ and $\\sigma_i >0$ are the drift and volatility of the system $X$ once in regime $I_t=i$ at time $t$.\n",
        "\n",
        "We will consider a discrete approximization (Euler schema) with respect to. For $i = 1, \\ldots, d$ we simulate $p$ paths\n",
        "\\begin{equation}\n",
        "X^p_{n,i} = \\exp \\Big\\{ \\sum_{k=0}^n \\big( (b-\\sigma^2_i /2)_{\\mathbf{I}}\\Delta t + \\sigma_{i, \\mathbf{I}} \\sqrt{\\Delta t} \\cdot Z_{k, i}^p \\big)     \\Big\\}\n",
        "\\end{equation}\n",
        "where $\\Delta t = T/N$ and $Z_{k, i}^{p} \\sim \\mathcal{N} (0,1)$.\n",
        "\n"
      ]
    },
    {
      "cell_type": "code",
      "execution_count": 1,
      "metadata": {
        "id": "yEZA-EFaBd0w"
      },
      "outputs": [],
      "source": [
        "import numpy as np\n",
        "import torch\n",
        "import torch.nn as nn\n",
        "np.random.seed(234198)\n",
        "import itertools\n",
        "import random\n",
        "import time\n",
        "import scipy.stats\n",
        "import math\n",
        "import matplotlib.pyplot as plt\n",
        "import torch.optim as optim\n",
        "import torch.utils.data as tdata"
      ]
    },
    {
      "cell_type": "code",
      "execution_count": 15,
      "metadata": {
        "id": "xJbxC0rzBhrT"
      },
      "outputs": [],
      "source": [
        "''' \n",
        "underlying process - Geometric brownian motion\n",
        "'''\n",
        "\n",
        "class GBM:\n",
        "  def __init__(self, drift, sigma, delta, spot, assets,  paths, periods,\n",
        "         maturity, strike, dividend=0):\n",
        "    self.drift = drift - dividend\n",
        "    self.sigma = sigma\n",
        "    self.delta = delta\n",
        "    self.spot = spot\n",
        "    self.assets = assets\n",
        "    self.paths = paths\n",
        "    self.periods = periods\n",
        "    self.maturity = maturity\n",
        "    self.dt = self.maturity / self.periods\n",
        "    self.df = math.exp(-drift * self.dt)\n",
        "    self.strike = strike\n",
        "\n",
        "  def simulate_process(self):\n",
        "    \"\"\"Returns array of dimension (paths x periods x assets) \"\"\"\n",
        "    paths = self.paths\n",
        "    path = np.array([self.simulate_one_path() for i in range(paths)]) \n",
        "    return path.reshape(path.shape[2], path.shape[0], path.shape[1])\n",
        "\n",
        "  def drift_fct(self,x):\n",
        "    return  (self.drift-self.delta-0.5*self.sigma**2)* x\n",
        "\n",
        "  def diffusion_fct(self,x):\n",
        "    return self.sigma * x\n",
        "\n",
        "\n",
        "  def simulate_one_path(self):\n",
        "    ''' if a single path '''\n",
        "    path = np.empty((self.assets, self.periods+1))\n",
        "    path[:, 0] = self.spot\n",
        "    for k in range(1, self.periods+1):\n",
        "      random_numbers = np.random.normal(0, 1, self.assets)\n",
        "      dW =(random_numbers*np.sqrt(self.dt))\n",
        "      previous_spots = path[:, k - 1]\n",
        "      diffusion = (self.diffusion_fct(previous_spots))\n",
        "      path[:, k] = (\n",
        "          previous_spots\n",
        "          + self.drift_fct(previous_spots)* self.dt\n",
        "          + diffusion*dW) \n",
        "    return path   "
      ]
    },
    {
      "cell_type": "markdown",
      "metadata": {
        "id": "yqmbYE_8z_fe"
      },
      "source": [
        "As introduced, the stochastic system can operate in $m$ modes or regimes from the finite set $\\mathbb{I}=\\{1, \\ldots , m \\}$. In this case we consider $m=2$ with $\\mathbb{I}=\\{\\text{on}, \\text{off} \\}$. \n",
        "\n",
        "The regimes can be switched at a sequence of stopping times over a finite horizon $[0, \\ldots , T]$.\n",
        "\n",
        "There is a payoff rate per unit of time when the system is in mode $i \\in \\mathbb{I}$ at time $t$ as a mapping $\\Psi_i(t, X_t): \\Omega \\times [0, T] \\rightarrow \\mathbb{R}$. The payoff function for the call option used is of the form $( \\max_{i \\in \\{ 1, \\ldots , d \\}} X_t^i - K) ^{+}$, where $K$ is the strike price at any point in the time grid $0 = t_0 < t_1 < \\ldots < t_N = T$. the system also outputs a final reward for being in mode $i \\in \\mathbb{I}$ at time $T$ given by $\\Gamma_i$.\n",
        "\n",
        "There is a cost for switching from regime $i$ to $j$ given by the function $\\gamma_{i, j} : \\Omega \\times [0, T] \\rightarrow \\mathbb{R} $ to cover for the extra costs due to the change of the regime.\n",
        "\n",
        "A strategy $\\alpha$ for the power plant will be a combination of two sequences:\n",
        "- non decreasing sequence of $\\mathbb{F}$-stopping times $(\\tau_n)_{n \\geq 1}$, $n \\in \\mathbb{N} \\backslash \\{0\\}$, where at $\\tau_n$ the production is swithced from the current mode $i$ to $j$. we also assume: $\\tau_0=t$ and $\\tau_n \\leq \\tau_{n+1}$.\n",
        "- a sequence of indicators $(\\iota)_{n \\geq 1}$, $n \\in \\mathbb{N} \\backslash \\{0\\}$, $\\mathcal{F}_{\\tau_n}$- measurable valued in $\\mathbb{I}_m$. At time $t=\\tau_n$ the system is switched from the current regime $\\iota_{n-1}$ to $\\iota_{n}$, with $\\iota_{0}=i$.\n",
        "\n",
        "We denote by $\\mathcal{A}_{t, i}$ the set of admissible strategies to switch at time $\\tau_n$, $n \\geq 1$, from the current regime $\\iota_{n-1}$ to $\\iota_{n}$. \n"
      ]
    },
    {
      "cell_type": "markdown",
      "metadata": {
        "id": "KsWsO53nz_lG"
      },
      "source": [
        "For any initial condition $(x, i) \\in [0, T] \\times \\mathbb{I}_m$, and any control $\\alpha=(\\tau_n, \\iota_n)_{n \\leq 0} \\in \\mathcal{A}_{t, i}$. the total expected payoff up to $T$ for such strategy can be expressed as: \n",
        "\\begin{equation}\n",
        "J_i(x, \\alpha) = \\mathbb{E} \\Big[ \\sum_{s=t}^{T-1} \\Psi(X_t^{x, i}, I_t^i) + \\Gamma - \\sum_{n \\leq 1}\\gamma_{\\iota_{n-1}, \\iota_n} \\mathbf{1}_{ \\{ \\tau_n < T \\} }  | \\mathcal{F}_n   \\Big]\n",
        "\\end{equation}\n",
        "\n",
        "The objective is to maximize this expected total profit for all strategies $\\alpha$. For this purpose, we set the value function:\n",
        "\\begin{equation}\n",
        "V_i(x)=\\sup_{\\alpha \\in \\mathcal{A}} J_i(x, \\alpha) \\;\\;\\;\\;\\;\\;\\;\\;\\; \\forall \\alpha \\in \\mathcal{A}_{t, i} \\,\\, \\mathbb{P}\\; a.s. \n",
        "\\end{equation}"
      ]
    },
    {
      "cell_type": "markdown",
      "metadata": {
        "id": "lTuPqVNSVB-i"
      },
      "source": [
        "Following Becker, Cheridito and Jentzen, we reformulate stopping time problem into a sequence of $0-1$ stopping decisions. To optimally stop the Markov process $X$ we make stopping decisions according to $f_n(X_n)$ for measurable functions $f_n: \\mathbb{R}^d → \\{0, 1 \\}, n \\in \\mathbb{N}$. By construction $f_N \\equiv 1$ as at $n=N$ there is a terminal stopping decision where $\\tau_N \\equiv N$. \n",
        "\n",
        "Given $n \\in \\{0, 1, \\ldots, N-1 \\}$ and the final stopping decision, let $\\tau_{n+1}$ be a stopping time in $\\mathcal{T}_{n+1}$ of the form:\n",
        "\\begin{equation}\n",
        "\\tau_{n+1} = \\sum_{m=n+1}^N m f_m(X_m) \\prod _{j=n+1}^{m-1} (1-f_j(X_j))\n",
        "\\end{equation}\n",
        "\n",
        "\n",
        "To approach the problem, we iteratively approximate the optimal stopping decisions $f_n: \\mathbb{R}^d \\rightarrow \\{0, 1 \\}, n = \\{ 1, 2, \\ldots, N-1 \\}$, by a neural network $f^{\\theta}: \\mathbb{R}^d \\rightarrow \\{0, 1 \\}$ with parameter $\\theta \\in \\mathbb{R}^q$. We choose $\\theta_N \\in \\mathbb{R}^q$ such that $f^{\\theta}_N \\equiv 1$ and determine $\\theta_n \\in \\mathbb{R}^q$ for $n \\leq N-1$ by recursion of the form:\n",
        "\n",
        "\\begin{equation}\n",
        "\\tau_{n+1} = \\sum_{m=n+1}^N m f^{\\theta_m}(X_m) \\prod _{j=n+1}^{m-1} (1-f^{\\theta_j}(X_j))\n",
        "\\end{equation}\n",
        "\n",
        "Since $f^{\\theta}$ takes values in $\\{ 0,1 \\}$, hence not appropriate for a gradient-descent optimization method, the neural network includes a layer performing a logostic transformation such that we have the resulting output function $F^{\\theta}: \\mathbb{R}^d \\rightarrow (0,1)$.\n",
        "\n",
        "The Neural network includes $(d+40)$ hidden units and comprises a combination of linear and rectified linear activation functions. "
      ]
    },
    {
      "cell_type": "code",
      "execution_count": 4,
      "metadata": {
        "id": "MpTiRUxLBj5L"
      },
      "outputs": [],
      "source": [
        "'''\n",
        "Neural network\n",
        "'''\n",
        "\n",
        "class Ftheta_NN(nn.Module):\n",
        "  def __init__(self, assets, hidden_size):\n",
        "    super(Ftheta_NN, self).__init__()\n",
        "    H = hidden_size\n",
        "    self.bn0 = nn.BatchNorm1d(num_features=assets)\n",
        "    self.layer1 = nn.Linear(assets, H)\n",
        "    self.leakyReLU = nn.LeakyReLU(0.5)\n",
        "    self.Softplus = nn.Softplus()\n",
        "    self.sigmoid = nn.Sigmoid()\n",
        "    self.tanh = nn.Tanh()\n",
        "    self.relu = nn.ReLU()\n",
        "    self.bn1 = nn.BatchNorm1d(num_features=H)\n",
        "    self.layer2 = nn.Linear(H, H)\n",
        "    self.bn2 = nn.BatchNorm1d(num_features=H)\n",
        "    self.layer3 = nn.Linear(H, 1)\n",
        "    self.bn3 = nn.BatchNorm1d(num_features=1)\n",
        "\n",
        "  def forward(self, x):\n",
        "    x = self.bn0(x)\n",
        "    x = self.layer1(x)\n",
        "    x = self.relu(x)\n",
        "    x = self.bn2(x)\n",
        "    x = self.layer3(x)\n",
        "    x = self.sigmoid(x)\n",
        "    return x\n",
        "\n",
        "\n",
        "\n",
        "# set initial weights of a linear layer of the NN with uniform values and bias=0.01 (or choose zero initial weights)\n",
        "def init_weights(m):\n",
        "  if isinstance(m, torch.nn.Linear):\n",
        "    torch.manual_seed(42)\n",
        "    # torch.nn.init.zeros_(m.weight)\n",
        "    torch.nn.init.xavier_uniform_(m.weight)\n",
        "    m.bias.data.fill_(0.01)\n",
        "    \n",
        " "
      ]
    },
    {
      "cell_type": "code",
      "execution_count": 39,
      "metadata": {
        "id": "ARr530-tBreb"
      },
      "outputs": [],
      "source": [
        "class Train_Network(object):\n",
        "\n",
        "  def __init__(self, assets, paths, epochs=20, batch_size=2000):\n",
        "    self.assets = assets\n",
        "    self.paths = paths\n",
        "    self.epochs = epochs\n",
        "    self.batch_size = batch_size\n",
        "    self.network = Ftheta_NN(self.assets, hidden_size=self.assets+40).double()\n",
        "    self.network.apply(init_weights)\n",
        "\n",
        "  def train_network(self,  stock_values, current_payoff,\n",
        "                    future_payoff):\n",
        "        \n",
        "    # several optimization methods are available (here Adam algorithm). as argument input the parameters to be optimized    \n",
        "    optimizer = optim.Adam(self.network.parameters())\n",
        "    \n",
        "    # set values for the NN inputs (stock_values) and loss function\n",
        "    future_payoff = torch.from_numpy(future_payoff).double()\n",
        "    current_payoff = torch.from_numpy(current_payoff).double()\n",
        "    X_inputs = torch.from_numpy(stock_values).double() # input to the NN must be a tensor\n",
        "\n",
        "    self.network.train(True) # set training mode ON\n",
        "    ones = torch.ones(len(future_payoff)) # we need a vector of 1's in the loss function\n",
        "    for epoch in range(self.epochs):\n",
        "      # set the gradients of all optimized tensors to zero (at every step we start fresh)\n",
        "      optimizer.zero_grad()\n",
        "      F_theta = self.network(X_inputs).reshape(-1) # probabilities\n",
        "      reward = (current_payoff.reshape(-1)[0] * F_theta + future_payoff * (ones - F_theta)) \n",
        "      \n",
        "      # compute loss function\n",
        "      loss = -torch.mean(reward)\n",
        "      \n",
        "      # compute gradients\n",
        "      loss.backward()\n",
        "      \n",
        "      # take a step, updating the parameters \n",
        "      optimizer.step()\n",
        "  \n",
        "  # function to inform the NN to perform a training\n",
        "  def evaluate_network(self, X_inputs):\n",
        "    self.network.train(False)\n",
        "    X_inputs = torch.from_numpy(X_inputs).double()\n",
        "    \n",
        "    # the output is a probability for each date and path\n",
        "    # it is obtained by feeding the NN with the dimension of the assets (at a specific date for all paths), \n",
        "    outputs = self.network(X_inputs)\n",
        "    return outputs.view(X_inputs.size()[0]).detach().numpy()\n"
      ]
    },
    {
      "cell_type": "code",
      "execution_count": 7,
      "metadata": {
        "id": "FRYgMuM2C_K0"
      },
      "outputs": [],
      "source": [
        "'''\n",
        "PAYOFF\n",
        "'''\n",
        "\n",
        "# Payoff\n",
        "class Payoff:\n",
        "  def __init__(self, model):\n",
        "    self.strike = model.strike\n",
        "\n",
        "  def MaxCall(self, X):\n",
        "    payoff = np.max(X, axis=1) - self.strike\n",
        "    return payoff.clip(0, None)\n",
        "\n",
        "  def MaxPut(self, X):\n",
        "    payoff = self.strike - np.max(X, axis=1)\n",
        "    return payoff.clip(0, None)   \n",
        "\n",
        "\n",
        "  def GeometricPut(self, X):\n",
        "    dim = len(X[1])  \n",
        "    payoff = self.strike - np.prod(X, axis=1) ** (1/dim)\n",
        "    return payoff.clip(0, None)\n"
      ]
    },
    {
      "cell_type": "code",
      "execution_count": 40,
      "metadata": {
        "id": "yQtkD5yJCx75"
      },
      "outputs": [],
      "source": [
        "class Recursive:\n",
        "  def __init__(self, model, payoff_function, epochs=20):\n",
        "\n",
        "    self.model = model\n",
        "    self.payoff = payoff_function(self.model)\n",
        "    self.neural_stopping = Train_Network(model.assets, model.paths)\n",
        "\n",
        "  def price(self):\n",
        "    model = self.model\n",
        "    stock_paths = self.model.simulate_process()    \n",
        "    disc_factor = np.math.exp((-model.drift) * model.maturity/(model.periods))\n",
        "    \n",
        "    # AT MATURITY N\n",
        "    final_payoff = self.payoff.MaxPut(stock_paths[-1, :, :]) # payoff of the last date\n",
        "    payoff_0 = self.payoff.MaxPut(stock_paths[0, :, :])  \n",
        "    values = final_payoff\n",
        "\n",
        "\n",
        "    # recursive calc, from n=N-1 to 0 with steps of -1\n",
        "\n",
        "    for date in range(stock_paths.shape[0] - 2, 0, -1):\n",
        "      current_payoff = self.payoff.MaxPut(stock_paths[date, :, :])\n",
        "      stopping_rule = self.stop(stock_paths[date, : , :], \n",
        "                                current_payoff,\n",
        "                                values*disc_factor)\n",
        "      print(date, \":\", np.min(stopping_rule),\" , \", np.max(stopping_rule), \" , \", len([1 for l in stopping_rule if l > 0.5]))\n",
        "      which = stopping_rule > 0.5\n",
        "\n",
        "      values[which] = current_payoff[which]\n",
        "      values[~which] *= disc_factor\n",
        "\n",
        "\n",
        "    return print(max(payoff_0[0] , np.mean(values)* disc_factor))\n",
        "\n",
        "  def stop(self, stock_values, current_payoff, future_payoff):\n",
        "    self.neural_stopping.train_network(\n",
        "      stock_values,\n",
        "      current_payoff ,\n",
        "      future_payoff)\n",
        "\n",
        "    inputs = stock_values\n",
        "    stopping_probability = self.neural_stopping.evaluate_network(inputs)\n",
        "    return stopping_probability  "
      ]
    },
    {
      "cell_type": "code",
      "execution_count": 41,
      "metadata": {
        "colab": {
          "base_uri": "https://localhost:8080/",
          "height": 282
        },
        "id": "v1c9hUTGBzcz",
        "outputId": "3691d054-8f09-49a5-c19c-23bc5f76221f"
      },
      "outputs": [
        {
          "output_type": "display_data",
          "data": {
            "text/plain": [
              "<Figure size 432x288 with 1 Axes>"
            ],
            "image/png": "[encoded data removed]"
          },
          "metadata": {
            "needs_background": "light"
          }
        },
        {
          "output_type": "stream",
          "name": "stdout",
          "text": [
            "(11, 50, 10)\n"
          ]
        }
      ],
      "source": [
        "# generate underlying stochastic process\n",
        "\n",
        "hyperparam_test_stock_models = {'drift': 0.2, 'sigma': 0.05, 'delta': 0.1,  'paths':50, 'periods': 10, 'maturity': 2., 'strike' : 100,'assets':10,  'spot':90,}\n",
        "S = GBM(**hyperparam_test_stock_models)\n",
        "X=S.simulate_process()\n",
        "\n",
        "\n",
        "\n",
        "def draw_stock_model(stockmodel):\n",
        "    stock_paths = stockmodel\n",
        "\n",
        "    # draw a path\n",
        "    one_path = stock_paths[:, 0, 0]\n",
        "    dates = np.array([i for i in range(len(one_path))])\n",
        "    plt.plot(dates, one_path, label='stock path')\n",
        "    plt.ylabel('Stock price')\n",
        "    plt.ylabel('Time')\n",
        "    plt.legend()\n",
        "    return plt.show()   \n",
        "\n",
        "draw_stock_model(X)   \n",
        "print(X.shape) # (date, path, asset)\n"
      ]
    },
    {
      "cell_type": "code",
      "execution_count": 42,
      "metadata": {
        "id": "nzP8sWSG_kG_",
        "colab": {
          "base_uri": "https://localhost:8080/"
        },
        "outputId": "1671f284-3fd6-4c2b-8fba-0964f4f97356"
      },
      "outputs": [
        {
          "output_type": "stream",
          "name": "stdout",
          "text": [
            "9 : 0.019859971511433656  ,  0.7485785166233582  ,  7\n",
            "8 : 0.04082117040984684  ,  0.8707445197119069  ,  32\n",
            "7 : 0.01114388736584064  ,  0.8954234210177041  ,  23\n",
            "6 : 0.017009939332742353  ,  0.968442807730079  ,  18\n",
            "5 : 0.008667459495502149  ,  0.9919247183504313  ,  20\n",
            "4 : 0.001958894631830722  ,  0.9890601573176672  ,  15\n",
            "3 : 0.002361379274400962  ,  0.9491580267400254  ,  16\n",
            "2 : 0.001482819364037621  ,  0.99402408587215  ,  11\n",
            "1 : 0.001220238459728197  ,  0.9719274551730668  ,  11\n",
            "0.10382146324992184\n"
          ]
        }
      ],
      "source": [
        "pricing = Recursive(S, Payoff, epochs=50)\n",
        "testing = pricing.price()"
      ]
    }
  ],
  "metadata": {
    "colab": {
      "name": "optimal_stopping_V1.ipynb",
      "provenance": [],
      "collapsed_sections": [],
      "include_colab_link": true
    },
    "kernelspec": {
      "display_name": "Python 3",
      "name": "python3"
    },
    "language_info": {
      "name": "python"
    }
  },
  "nbformat": 4,
  "nbformat_minor": 0
}