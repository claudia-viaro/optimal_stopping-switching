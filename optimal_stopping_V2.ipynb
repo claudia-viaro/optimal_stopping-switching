{
  "cells": [
    {
      "cell_type": "markdown",
      "metadata": {
        "id": "view-in-github",
        "colab_type": "text"
      },
      "source": [
        "<a href=\"https://colab.research.google.com/github/claudia-viaro/optimal_switching/blob/main/optimal_stopping_V2.ipynb\" target=\"_parent\"><img src=\"https://colab.research.google.com/assets/colab-badge.svg\" alt=\"Open In Colab\"/></a>"
      ]
    },
    {
      "cell_type": "markdown",
      "metadata": {
        "id": "-aX5-o2Sa7nC"
      },
      "source": [
        "#Problem Formulation\n",
        "Let $(\\Omega, \\mathcal{F}, P)$ be a fixed probability space on which an adapted stochastic process is defined $X=(X_t)_{0 \\leq t \\leq T}$ whose natural filtration is $(\\mathcal{F}_t^0 := \\sigma \\{ X_s, s \\leq t \\})_{0 \\leq t \\leq T}$. Let $\\mathbf{F}=(\\mathcal{F}_0)_{0 \\leq t \\leq t}$ be the complete filtration of $(\\mathcal{F}_t^0 := \\sigma \\{ X_s, s \\leq t \\})_{0 \\leq t \\leq T}$. with $P$-null sets of $\\mathcal{F}$.\n",
        "\n",
        "The stochastic process $X$ is $\\mathbb{R}^d$-valued and represents the market price of $d$ financial assets (Bermudan call options) that influence the production of power. Assume $(X^i)_{i=1}^d$ follows a geometric Brownian motion satisfying the SDE:\n",
        "\\begin{equation}\n",
        "dX_t = b_{I_t}X_tdt + \\sigma_{I_t}X_tdW_t\n",
        "\\end{equation}\n",
        "where $W$ is a standard Brownian otion on a filtered probability space $(\\Omega, \\mathcal{F}, \\mathbf{F}=(\\mathcal{F}_t)_{t \\geq 0} P)$ and $I_t$ is the indicator variable of the regimes valued in $\\mathbf{I}_d = \\{1, \\ldots, d \\}$. $b_i \\in \\mathbf{R}$ and $\\sigma_i >0$ are the drift and volatility of the system $X$ once in regime $I_t=i$ at time $t$.\n",
        "\n",
        "We will consider a discrete approximization (Euler schema) with respect to. For $i = 1, \\ldots, d$ we simulate $p$ paths\n",
        "\\begin{equation}\n",
        "X^p_{n,i} = \\exp \\Big\\{ \\sum_{k=0}^n \\big( (b-\\sigma^2_i /2)_{\\mathbf{I}}\\Delta t + \\sigma_{i, \\mathbf{I}} \\sqrt{\\Delta t} \\cdot Z_{k, i}^p \\big)     \\Big\\}\n",
        "\\end{equation}\n",
        "where $\\Delta t = T/N$ and $Z_{k, i}^{p} \\sim \\mathcal{N} (0,1)$.\n",
        "\n"
      ]
    },
    {
      "cell_type": "code",
      "execution_count": 67,
      "metadata": {
        "id": "yEZA-EFaBd0w"
      },
      "outputs": [],
      "source": [
        "import numpy as np\n",
        "import torch\n",
        "import torch.nn as nn\n",
        "np.random.seed(234198)\n",
        "import itertools\n",
        "import random\n",
        "import time\n",
        "import scipy.stats\n",
        "import math\n",
        "import matplotlib.pyplot as plt\n",
        "import torch.optim as optim\n",
        "import torch.utils.data as tdata"
      ]
    },
    {
      "cell_type": "code",
      "execution_count": 78,
      "metadata": {
        "id": "xJbxC0rzBhrT"
      },
      "outputs": [],
      "source": [
        "''' \n",
        "underlying process - Geometric brownian motion\n",
        "'''\n",
        "\n",
        "class GBM:\n",
        "  def __init__(self, drift, sigma, delta, spot, assets,  paths, periods,\n",
        "         maturity, strike, dividend=0):\n",
        "    self.drift = drift - dividend\n",
        "    self.sigma = sigma\n",
        "    self.delta = delta\n",
        "    self.spot = spot\n",
        "    self.assets = assets\n",
        "    self.paths = paths\n",
        "    self.periods = periods\n",
        "    self.maturity = maturity\n",
        "    self.dt = self.maturity / self.periods\n",
        "    self.df = math.exp(-drift * self.dt)\n",
        "    self.strike = strike\n",
        "\n",
        "  def simulate_process(self):\n",
        "    \"\"\"Returns array of dimension (paths x periods x assets) \"\"\"\n",
        "    paths = self.paths\n",
        "    path = np.array([self.simulate_one_path() for i in range(paths)]) \n",
        "    return path.reshape(path.shape[2], path.shape[0], path.shape[1])\n",
        "\n",
        "  def drift_fct(self,x):\n",
        "    return  (self.drift-self.delta-0.5*self.sigma**2)* x\n",
        "\n",
        "  def diffusion_fct(self,x):\n",
        "    return self.sigma * x\n",
        "\n",
        "\n",
        "  def simulate_one_path(self):\n",
        "    ''' if a single path '''\n",
        "    path = np.empty((self.assets, self.periods+1))\n",
        "    path[:, 0] = self.spot\n",
        "    for k in range(1, self.periods+1):\n",
        "      random_numbers = np.random.normal(0, 1, self.assets)\n",
        "      dW =(random_numbers*np.sqrt(self.dt))\n",
        "      previous_spots = path[:, k - 1]\n",
        "      diffusion = (self.diffusion_fct(previous_spots))\n",
        "      path[:, k] = (\n",
        "          previous_spots\n",
        "          + self.drift_fct(previous_spots)* self.dt\n",
        "          + diffusion*dW) \n",
        "    return path   \n",
        "\n",
        "\n",
        "class stock:\n",
        "    def __init__(self, drift, sigma, delta, spot, assets,  paths, periods,\n",
        "         maturity, strike = 100,dividend=0):\n",
        "        self.maturity = maturity\n",
        "        self.strike = strike\n",
        "        self.assets = assets\n",
        "        self.sigma=sigma *np.ones(self.assets)\n",
        "        self.delta=delta\n",
        "        self.spot = spot*np.ones(self.assets)\n",
        "        self.drift = drift - dividend\n",
        "        self.paths = paths\n",
        "        self.periods = periods\n",
        "        self.dt = self.maturity / self.periods\n",
        "    \n",
        "    def GBM(self):\n",
        "        \n",
        "        dt = self.maturity / self.periods\n",
        "        So_vec=self.spot*np.ones((1,S.paths, S.assets))\n",
        "        \n",
        "        Z=np.random.standard_normal((self.periods,self.paths, self.assets))\n",
        "        s=self.spot*np.exp(np.cumsum((self.drift-0.5*self.sigma**2)*self.dt+self.sigma*np.sqrt(self.dt)*Z, axis=0))\n",
        "        \n",
        "        s=np.append(So_vec, s, axis=0)\n",
        "        return s    "
      ]
    },
    {
      "cell_type": "markdown",
      "metadata": {
        "id": "yqmbYE_8z_fe"
      },
      "source": [
        "As introduced, the stochastic system can operate in $m$ modes or regimes from the finite set $\\mathbb{I}=\\{1, \\ldots , m \\}$. In this case we consider $m=2$ with $\\mathbb{I}=\\{\\text{on}, \\text{off} \\}$. \n",
        "\n",
        "The regimes can be switched at a sequence of stopping times over a finite horizon $[0, \\ldots , T]$.\n",
        "\n",
        "There is a payoff rate per unit of time when the system is in mode $i \\in \\mathbb{I}$ at time $t$ as a mapping $\\Psi_i(t, X_t): \\Omega \\times [0, T] \\rightarrow \\mathbb{R}$. The payoff function for the call option used is of the form $( \\max_{i \\in \\{ 1, \\ldots , d \\}} X_t^i - K) ^{+}$, where $K$ is the strike price at any point in the time grid $0 = t_0 < t_1 < \\ldots < t_N = T$. the system also outputs a final reward for being in mode $i \\in \\mathbb{I}$ at time $T$ given by $\\Gamma_i$.\n",
        "\n",
        "There is a cost for switching from regime $i$ to $j$ given by the function $\\gamma_{i, j} : \\Omega \\times [0, T] \\rightarrow \\mathbb{R} $ to cover for the extra costs due to the change of the regime.\n",
        "\n",
        "A strategy $\\alpha$ for the power plant will be a combination of two sequences:\n",
        "- non decreasing sequence of $\\mathbb{F}$-stopping times $(\\tau_n)_{n \\geq 1}$, $n \\in \\mathbb{N} \\backslash \\{0\\}$, where at $\\tau_n$ the production is swithced from the current mode $i$ to $j$. we also assume: $\\tau_0=t$ and $\\tau_n \\leq \\tau_{n+1}$.\n",
        "- a sequence of indicators $(\\iota)_{n \\geq 1}$, $n \\in \\mathbb{N} \\backslash \\{0\\}$, $\\mathcal{F}_{\\tau_n}$- measurable valued in $\\mathbb{I}_m$. At time $t=\\tau_n$ the system is switched from the current regime $\\iota_{n-1}$ to $\\iota_{n}$, with $\\iota_{0}=i$.\n",
        "\n",
        "We denote by $\\mathcal{A}_{t, i}$ the set of admissible strategies to switch at time $\\tau_n$, $n \\geq 1$, from the current regime $\\iota_{n-1}$ to $\\iota_{n}$. \n"
      ]
    },
    {
      "cell_type": "markdown",
      "metadata": {
        "id": "KsWsO53nz_lG"
      },
      "source": [
        "For any initial condition $(x, i) \\in [0, T] \\times \\mathbb{I}_m$, and any control $\\alpha=(\\tau_n, \\iota_n)_{n \\leq 0} \\in \\mathcal{A}_{t, i}$. the total expected payoff up to $T$ for such strategy can be expressed as: \n",
        "\\begin{equation}\n",
        "J_i(x, \\alpha) = \\mathbb{E} \\Big[ \\sum_{s=t}^{T-1} \\Psi(X_t^{x, i}, I_t^i) + \\Gamma - \\sum_{n \\leq 1}\\gamma_{\\iota_{n-1}, \\iota_n} \\mathbf{1}_{ \\{ \\tau_n < T \\} }  | \\mathcal{F}_n   \\Big]\n",
        "\\end{equation}\n",
        "\n",
        "The objective is to maximize this expected total profit for all strategies $\\alpha$. For this purpose, we set the value function:\n",
        "\\begin{equation}\n",
        "V_i(x)=\\sup_{\\alpha \\in \\mathcal{A}} J_i(x, \\alpha) \\;\\;\\;\\;\\;\\;\\;\\;\\; \\forall \\alpha \\in \\mathcal{A}_{t, i} \\,\\, \\mathbb{P}\\; a.s. \n",
        "\\end{equation}"
      ]
    },
    {
      "cell_type": "markdown",
      "metadata": {
        "id": "lTuPqVNSVB-i"
      },
      "source": [
        "Following Becker, Cheridito and Jentzen, we reformulate stopping time problem into a sequence of $0-1$ stopping decisions. To optimally stop the Markov process $X$ we make stopping decisions according to $f_n(X_n)$ for measurable functions $f_n: \\mathbb{R}^d → \\{0, 1 \\}, n \\in \\mathbb{N}$. By construction $f_N \\equiv 1$ as at $n=N$ there is a terminal stopping decision where $\\tau_N \\equiv N$. \n",
        "\n",
        "Given $n \\in \\{0, 1, \\ldots, N-1 \\}$ and the final stopping decision, let $\\tau_{n+1}$ be a stopping time in $\\mathcal{T}_{n+1}$ of the form:\n",
        "\\begin{equation}\n",
        "\\tau_{n+1} = \\sum_{m=n+1}^N m f_m(X_m) \\prod _{j=n+1}^{m-1} (1-f_j(X_j))\n",
        "\\end{equation}\n",
        "\n",
        "\n",
        "To approach the problem, we iteratively approximate the optimal stopping decisions $f_n: \\mathbb{R}^d \\rightarrow \\{0, 1 \\}, n = \\{ 1, 2, \\ldots, N-1 \\}$, by a neural network $f^{\\theta}: \\mathbb{R}^d \\rightarrow \\{0, 1 \\}$ with parameter $\\theta \\in \\mathbb{R}^q$. We choose $\\theta_N \\in \\mathbb{R}^q$ such that $f^{\\theta}_N \\equiv 1$ and determine $\\theta_n \\in \\mathbb{R}^q$ for $n \\leq N-1$ by recursion of the form:\n",
        "\n",
        "\\begin{equation}\n",
        "\\tau_{n+1} = \\sum_{m=n+1}^N m f^{\\theta_m}(X_m) \\prod _{j=n+1}^{m-1} (1-f^{\\theta_j}(X_j))\n",
        "\\end{equation}\n",
        "\n",
        "Since $f^{\\theta}$ takes values in $\\{ 0,1 \\}$, hence not appropriate for a gradient-descent optimization method, the neural network includes a layer performing a logostic transformation such that we have the resulting output function $F^{\\theta}: \\mathbb{R}^d \\rightarrow (0,1)$.\n",
        "\n",
        "The Neural network includes $(d+40)$ hidden units and comprises a combination of linear and rectified linear activation functions. "
      ]
    },
    {
      "cell_type": "code",
      "execution_count": 69,
      "metadata": {
        "id": "MpTiRUxLBj5L"
      },
      "outputs": [],
      "source": [
        "class Ftheta_NN(nn.Module):\n",
        "  def __init__(self, assets):\n",
        "    super(Ftheta_NN, self).__init__()\n",
        "    H = assets + 40\n",
        "    self.bn0 = nn.BatchNorm1d(num_features=assets)\n",
        "    self.layer1 = nn.Linear(assets, H)\n",
        "    self.leakyReLU = nn.LeakyReLU(0.5)\n",
        "    self.Softplus = nn.Softplus()\n",
        "    self.sigmoid = nn.Sigmoid()\n",
        "    self.tanh = nn.Tanh()\n",
        "    self.relu = nn.ReLU()\n",
        "    self.bn1 = nn.BatchNorm1d(num_features=H)\n",
        "    self.layer2 = nn.Linear(H, H)\n",
        "    self.bn2 = nn.BatchNorm1d(num_features=H)\n",
        "    self.layer3 = nn.Linear(H, 1)\n",
        "    self.bn3 = nn.BatchNorm1d(num_features=1)\n",
        "\n",
        "  def forward(self, x):\n",
        "    x = self.bn0(x)\n",
        "    x = self.layer1(x)\n",
        "    x = self.relu(x)\n",
        "    x = self.bn2(x)\n",
        "    x = self.layer3(x)\n",
        "    x = self.sigmoid(x)\n",
        "    return x\n",
        "\n",
        "\n",
        "\n",
        "# set initial weights of a linear layer of the NN with uniform values and bias=0.01 (or choose zero initial weights)\n",
        "def init_weights(m):\n",
        "  if isinstance(m, torch.nn.Linear):\n",
        "    torch.manual_seed(42)\n",
        "    # torch.nn.init.zeros_(m.weight)\n",
        "    torch.nn.init.xavier_uniform_(m.weight)\n",
        "    m.bias.data.fill_(0.01)\n",
        "    \n",
        " "
      ]
    },
    {
      "cell_type": "code",
      "execution_count": 70,
      "metadata": {
        "id": "FRYgMuM2C_K0"
      },
      "outputs": [],
      "source": [
        "'''\n",
        "PAYOFF\n",
        "'''\n",
        "\n",
        "# Payoff\n",
        "class Payoff:\n",
        "  def __init__(self, model):\n",
        "    self.strike = model.strike\n",
        "    self.model = model\n",
        "\n",
        "  def MaxCall(self, n, m, X):\n",
        "    max1=torch.max(X[int(n),m,:].float()-self.strike)\n",
        "    return np.exp(-self.model.drift*(self.model.maturity/self.model.periods)*n)*torch.max(max1,torch.tensor([0.0]))\n",
        "\n",
        "  def MaxPut(self, n, m, X):\n",
        "    max1=self.strike - torch.max(X[int(n),m,:].float())\n",
        "    return np.exp(-self.model.drift*(self.model.maturity/self.model.periods)*n)*torch.max(max1,torch.tensor([0.0]))  \n",
        "\n",
        "\n",
        "  def GeometricPut(self, n, m, X):\n",
        "    dim = len(X[1])  \n",
        "    payoff = self.strike - np.prod(X, axis=1) ** (1/dim)\n",
        "    return payoff.clip(0, None)\n",
        " \n",
        "        \n"
      ]
    },
    {
      "cell_type": "code",
      "execution_count": 71,
      "metadata": {
        "id": "ARr530-tBreb"
      },
      "outputs": [],
      "source": [
        "'''\n",
        "OPTIMIZATION AND LOSS FUNCTION\n",
        "'''\n",
        "\n",
        "def Optim(n,X,S, tau_n_plus_1): # Y is Y_train, n is date, tau_n_plus_1 is tau_mat_test[date+1]\n",
        "    epochs=50\n",
        "    network=Ftheta_NN(S.assets)\n",
        "    optimizer = torch.optim.Adam(network.parameters(), lr = 0.0001)\n",
        "\n",
        "    for epoch in range(epochs):\n",
        "        F = network.forward(X[n])   #torch.from_numpy(X[n]).float())  # probabilities\n",
        "        reward = loss(F,S,X,n,tau_n_plus_1) \n",
        "        reward.backward()\n",
        "        optimizer.step()\n",
        "    \n",
        "    return F,network\n",
        "\n",
        "def loss(y_pred,S, X, n, tau): # input tau is tau_mat_test[date+1]\n",
        "    payoff = Payoff(S)\n",
        "    r_n=torch.zeros((S.paths))\n",
        "    for m in range(0,S.paths):\n",
        "\n",
        "        r_n[m]=-(payoff.MaxPut(n,m,X)*y_pred[m] + payoff.MaxPut(tau[m],m,X)*(1-y_pred[m]))\n",
        "    \n",
        "    return(r_n.mean())\n"
      ]
    },
    {
      "cell_type": "code",
      "execution_count": 72,
      "metadata": {
        "id": "yQtkD5yJCx75"
      },
      "outputs": [],
      "source": [
        "class Training:\n",
        "  def __init__(self, model, payoff, nb_epochs=50):\n",
        "\n",
        "    self.model = model # argument is S    \n",
        "    self.payoff = payoff(self.model)\n",
        "\n",
        "  def price(self):\n",
        "    model = self.model\n",
        "    stock_paths = torch.from_numpy(self.model.simulate_process()).float()\n",
        "    \n",
        "    # create empty objects to store values\n",
        "    tau_dates=np.zeros((model.periods+1,model.paths))\n",
        "    tau_dates[model.periods,:]=model.periods\n",
        "    F_theta_train=np.zeros((model.periods+1,model.paths))\n",
        "    F_theta_train[model.periods,:]=1\n",
        "    mods=[None]*model.periods\n",
        "        \n",
        "    # recursive calc. before maturity\n",
        "    for date in range(model.periods - 1, -1, -1):\n",
        "      probs, mod_temp=Optim(date, stock_paths, model, torch.from_numpy((tau_dates[date+1]-1)).float())\n",
        "      np_probs=probs.detach().numpy().reshape(model.paths)\n",
        "      mods[date]=mod_temp\n",
        "      print(date, \":\", np.min(np_probs),\" , \", np.max(np_probs),  \" , \", len([1 for l in np_probs if l > 0.5])) # print the min/max stopping probabilities and the count of stopping times for each date\n",
        "      F_theta_train[date,:]=(np_probs > 0.5)*1.0\n",
        "      tau_dates[date,:]=np.argmax(F_theta_train, axis=0) \n",
        "\n",
        "    return mods "
      ]
    },
    {
      "cell_type": "code",
      "execution_count": 79,
      "metadata": {
        "colab": {
          "base_uri": "https://localhost:8080/",
          "height": 282
        },
        "id": "v1c9hUTGBzcz",
        "outputId": "f7e63d4d-ad90-4040-d97b-ad337a8a4eef"
      },
      "outputs": [
        {
          "output_type": "display_data",
          "data": {
            "text/plain": [
              "<Figure size 432x288 with 1 Axes>"
            ],
            "image/png": "[encoded data removed]"
          },
          "metadata": {
            "needs_background": "light"
          }
        },
        {
          "output_type": "stream",
          "name": "stdout",
          "text": [
            "(10, 5000, 10)\n"
          ]
        }
      ],
      "source": [
        "# generate underlying stochastic process\n",
        "\n",
        "hyperparam_test_stock_models = {'drift': 0.2, 'sigma': 0.05, 'delta': 0.1,  'paths':5000, 'periods': 9, 'maturity': 3., 'strike' : 100,'assets':10,  'spot':90,}\n",
        "#S = GBM(**hyperparam_test_stock_models)\n",
        "#X=S.simulate_process()\n",
        "\n",
        "\n",
        "S=stock(**hyperparam_test_stock_models)\n",
        "X=S.GBM()\n",
        "\n",
        "\n",
        "\n",
        "def draw_stock_model(stockmodel):\n",
        "    stock_paths = stockmodel\n",
        "\n",
        "    # draw a path\n",
        "    one_path = stock_paths[:, 0, 0]\n",
        "    dates = np.array([i for i in range(len(one_path))])\n",
        "    plt.plot(dates, one_path, label='stock path')\n",
        "    plt.ylabel('Stock price')\n",
        "    plt.ylabel('Time')\n",
        "    plt.legend()\n",
        "    return plt.show()   \n",
        "\n",
        "draw_stock_model(X)   \n",
        "print(X.shape) # (date, path, asset)\n"
      ]
    },
    {
      "cell_type": "code",
      "execution_count": 74,
      "metadata": {
        "id": "nzP8sWSG_kG_",
        "colab": {
          "base_uri": "https://localhost:8080/"
        },
        "outputId": "caeb8651-54e5-4267-feb7-7b2613a2f2f0"
      },
      "outputs": [
        {
          "output_type": "stream",
          "name": "stdout",
          "text": [
            "8 : 0.17710392  ,  0.8207418  ,  3211\n",
            "7 : 0.004856346  ,  0.981293  ,  2666\n",
            "6 : 0.113336  ,  0.89031506  ,  2400\n",
            "5 : 0.18957058  ,  0.9835541  ,  1868\n",
            "4 : 0.19390869  ,  0.88882995  ,  2259\n",
            "3 : 0.09406293  ,  0.95163435  ,  2329\n",
            "2 : 0.2135076  ,  0.7421192  ,  2301\n",
            "1 : 0.16155478  ,  0.8957554  ,  2666\n",
            "0 : 0.03996482  ,  0.83406204  ,  3031\n"
          ]
        }
      ],
      "source": [
        "pricingtraining = Training(S, Payoff,  nb_epochs=50)\n",
        "mods = pricingtraining.price()"
      ]
    },
    {
      "cell_type": "code",
      "source": [
        "# Testing\n",
        "\n",
        "class Testing:\n",
        "  def __init__(self, model, payoff, mods, nb_epochs=50):   \n",
        "    self.model = model # argument is S   \n",
        "    self.payoff = payoff(self.model)\n",
        "    self.mods = mods\n",
        "\n",
        "  def price(self):\n",
        "    model = self.model\n",
        "    stock_paths = torch.from_numpy(self.model.simulate_process()).float()\n",
        "    \n",
        "    # create empty objects to store values\n",
        "    tau_dates=np.zeros((model.periods+1,model.paths))\n",
        "    tau_dates[model.periods,:]=model.periods\n",
        "    F_theta_test=np.zeros((model.periods+1,model.paths))\n",
        "    F_theta_test[model.periods,:]=1\n",
        "    Y_test=np.zeros((self.model.periods+1, self.model.paths))\n",
        "    Y_test_mean = np.zeros((self.model.periods+1))\n",
        "    \n",
        "\n",
        "    # at maturity N\n",
        "    for path in range(0,self.model.paths):\n",
        "      Y_test[self.model.periods, path]=self.payoff.MaxPut(self.model.periods, path, stock_paths)\n",
        "        \n",
        "    Y_test_mean[self.model.periods]=np.mean(Y_test[self.model.periods,:])\n",
        "    print(self.model.periods, \":\", F_theta_test[self.model.periods,:][0],  \" , \", len([1 for l in F_theta_test[self.model.periods,:] if l > 0.5])) # print the min/max stopping probabilities and the count of stopping times for each date\n",
        "\n",
        "    # recursive calc. before maturity\n",
        "    for date in range(model.periods - 1, -1, -1):\n",
        "       mod_curr=self.mods[date]\n",
        "       probs=mod_curr(stock_paths[date])\n",
        "       np_probs=probs.detach().numpy().reshape(self.model.paths)\n",
        "       F_theta_test[date,:]=(np_probs > 0.5)*1.0\n",
        "       tau_dates[date,:]=np.argmax(F_theta_test, axis=0) \n",
        "       print(date, \":\", np.min(np_probs),\" , \", np.max(np_probs),  \" , \", len([1 for l in np_probs if l > 0.5])) # print the min/max stopping probabilities and the count of stopping times for each date\n",
        "\n",
        "       for path in range(0,self.model.paths):\n",
        "         Y_test[date, path]=np.exp((date-tau_dates[date, path])*(-self.model.drift*self.model.maturity/self.model.periods))*self.payoff.MaxPut(tau_dates[date, path], path,stock_paths) \n",
        "\n",
        "    Y_test_mean=np.mean(Y_test, axis=1)\n",
        "    Y_test_std=np.std(Y_test, axis=1)\n",
        "    Y_test_se=Y_test_std/(np.sqrt(self.model.paths))\n",
        "\n",
        "    z=scipy.stats.norm.ppf(0.975)\n",
        "    lower=Y_test_se - z*Y_test_se\n",
        "    upper=Y_test_se + z*Y_test_se\n",
        "\n",
        "    return Y_test_mean, upper, lower \n",
        "\n"
      ],
      "metadata": {
        "id": "hdTOYT6JiF2k"
      },
      "execution_count": 75,
      "outputs": []
    },
    {
      "cell_type": "code",
      "source": [
        "modelclass=GBM(**hyperparam_test_stock_models)\n",
        "price_testing = Testing(modelclass, Payoff, mods, nb_epochs=50)\n",
        "Y_test_mean, upper, lower = price_testing.price()"
      ],
      "metadata": {
        "colab": {
          "base_uri": "https://localhost:8080/"
        },
        "id": "gqIw47VRokUt",
        "outputId": "937200ec-27be-4f97-bb30-8a13a795b57a"
      },
      "execution_count": 76,
      "outputs": [
        {
          "output_type": "stream",
          "name": "stdout",
          "text": [
            "9 : 1.0  ,  5000\n",
            "8 : 0.18173753  ,  0.8056721  ,  3254\n",
            "7 : 0.0054105883  ,  0.97051203  ,  2612\n",
            "6 : 0.12509997  ,  0.8985979  ,  2345\n",
            "5 : 0.20487611  ,  0.9803831  ,  1897\n",
            "4 : 0.17155345  ,  0.88921094  ,  2274\n",
            "3 : 0.13186538  ,  0.95619196  ,  2335\n",
            "2 : 0.18478186  ,  0.76460165  ,  2315\n",
            "1 : 0.14524548  ,  0.8880913  ,  2687\n",
            "0 : 0.02227343  ,  0.85705066  ,  3125\n"
          ]
        }
      ]
    },
    {
      "cell_type": "code",
      "source": [
        "dates = np.array([i for i in range(len(Y_test_mean))])\n",
        "fig, ax = plt.subplots()\n",
        "ax.plot(dates,Y_test_mean)\n",
        "ax.fill_between(dates, (lower), (upper), color='b', alpha=.1)\n",
        "plt.xlabel(\"Dates\")\n",
        "plt.ylabel(\"Value\")"
      ],
      "metadata": {
        "colab": {
          "base_uri": "https://localhost:8080/",
          "height": 300
        },
        "id": "OMq3bI8usHmq",
        "outputId": "6ccb1243-41bb-4005-de16-ce9ab9ec2f0b"
      },
      "execution_count": 77,
      "outputs": [
        {
          "output_type": "execute_result",
          "data": {
            "text/plain": [
              "Text(0, 0.5, 'Value')"
            ]
          },
          "metadata": {},
          "execution_count": 77
        },
        {
          "output_type": "display_data",
          "data": {
            "text/plain": [
              "<Figure size 432x288 with 1 Axes>"
            ],
            "image/png": "[encoded data removed]"
          },
          "metadata": {
            "needs_background": "light"
          }
        }
      ]
    }
  ],
  "metadata": {
    "colab": {
      "name": "optimal_stopping_V2.ipynb",
      "provenance": [],
      "collapsed_sections": [],
      "include_colab_link": true
    },
    "kernelspec": {
      "display_name": "Python 3",
      "name": "python3"
    },
    "language_info": {
      "name": "python"
    }
  },
  "nbformat": 4,
  "nbformat_minor": 0
}