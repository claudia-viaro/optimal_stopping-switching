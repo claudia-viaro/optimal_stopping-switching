{
  "nbformat": 4,
  "nbformat_minor": 0,
  "metadata": {
    "colab": {
      "name": "optimal_switching_V1.ipynb",
      "provenance": [],
      "collapsed_sections": [],
      "authorship_tag": "ABX9TyN2Y+EwZwqNMFhnod9gJOol",
      "include_colab_link": true
    },
    "kernelspec": {
      "name": "python3",
      "display_name": "Python 3"
    },
    "language_info": {
      "name": "python"
    }
  },
  "cells": [
    {
      "cell_type": "markdown",
      "metadata": {
        "id": "view-in-github",
        "colab_type": "text"
      },
      "source": [
        "<a href=\"https://colab.research.google.com/github/claudia-viaro/optimal_switching/blob/main/optimal_switching_V1.ipynb\" target=\"_parent\"><img src=\"https://colab.research.google.com/assets/colab-badge.svg\" alt=\"Open In Colab\"/></a>"
      ]
    },
    {
      "cell_type": "code",
      "execution_count": 1,
      "metadata": {
        "id": "LbFaWc55v5HL"
      },
      "outputs": [],
      "source": [
        "import numpy as np\n",
        "import torch\n",
        "import torch.nn as nn\n",
        "np.random.seed(234198)\n",
        "import itertools\n",
        "import random\n",
        "import time\n",
        "import scipy.stats\n",
        "\n",
        "import math\n",
        "import matplotlib.pyplot as plt\n",
        "import torch.optim as optim\n",
        "import torch.utils.data as tdata"
      ]
    },
    {
      "cell_type": "code",
      "source": [
        "class stock:\n",
        "    def __init__(self, drift, sigma, delta, spot, assets,  paths, periods,\n",
        "         maturity, strike = 100,dividend=0):\n",
        "        self.maturity = maturity\n",
        "        self.strike = strike\n",
        "        self.assets = assets\n",
        "        self.sigma=sigma *np.ones(self.assets)\n",
        "        self.delta=delta\n",
        "        self.spot = spot*np.ones(self.assets)\n",
        "        self.drift = drift - dividend\n",
        "        self.paths = paths\n",
        "        self.periods = periods\n",
        "        self.dt = self.maturity / self.periods\n",
        "    \n",
        "    def GBM(self):\n",
        "        \n",
        "        dt = self.maturity / self.periods\n",
        "        So_vec=self.spot*np.ones((1,S.paths, S.assets))\n",
        "        \n",
        "        Z=np.random.standard_normal((self.periods,self.paths, self.assets))\n",
        "        s=self.spot*np.exp(np.cumsum((self.drift-0.5*self.sigma**2)*self.dt+self.sigma*np.sqrt(self.dt)*Z, axis=0))\n",
        "        \n",
        "        s=np.append(So_vec, s, axis=0)\n",
        "        return s"
      ],
      "metadata": {
        "id": "Eba9zKxNwIv4"
      },
      "execution_count": 2,
      "outputs": []
    },
    {
      "cell_type": "code",
      "source": [
        "class GBM:\n",
        "  def __init__(self, drift, sigma, delta, spot, assets,  paths, periods,\n",
        "         maturity, strike = 100,dividend=0):\n",
        "    self.drift = drift - dividend\n",
        "    self.sigma = sigma\n",
        "    self.delta = delta\n",
        "    self.spot = spot\n",
        "    self.assets = assets\n",
        "    self.paths = paths\n",
        "    self.periods = periods\n",
        "    self.maturity = maturity\n",
        "    self.dt = self.maturity / self.periods\n",
        "    self.df = math.exp(-drift * self.dt)\n",
        "    self.strike = strike\n",
        "\n",
        "  def simulate_process(self):\n",
        "    paths = self.paths\n",
        "    path = np.array([self.simulate_one_path() for i in range(paths)]) \n",
        "    return path.reshape(path.shape[2], path.shape[0], path.shape[1])\n",
        "\n",
        "  def drift_fct(self,x):\n",
        "    return  (self.drift-self.delta-0.5*self.sigma**2)* x\n",
        "\n",
        "  def diffusion_fct(self,x):\n",
        "    return self.sigma * x\n",
        "\n",
        "\n",
        "  def simulate_one_path(self):\n",
        "    path = np.empty((self.assets, self.periods+1))\n",
        "    path[:, 0] = self.spot\n",
        "    for k in range(1, self.periods+1):\n",
        "      random_numbers = np.random.normal(0, 1, self.assets)\n",
        "      dW =(random_numbers*np.sqrt(self.dt))\n",
        "      previous_spots = path[:, k - 1]\n",
        "      diffusion = (self.diffusion_fct(previous_spots))\n",
        "      path[:, k] = (\n",
        "          previous_spots\n",
        "          + self.drift_fct(previous_spots)* self.dt\n",
        "          + diffusion*dW) \n",
        "    return path  "
      ],
      "metadata": {
        "id": "QzgW1KFUwTXW"
      },
      "execution_count": 3,
      "outputs": []
    },
    {
      "cell_type": "code",
      "source": [
        "def draw_stock_model(stockmodel):\n",
        "    stock_paths = stockmodel\n",
        "\n",
        "    # draw a path\n",
        "    one_path = stock_paths[:, 0, 0]\n",
        "    dates = np.array([i for i in range(len(one_path))])\n",
        "    plt.plot(dates, one_path, label='stock path')\n",
        "    plt.ylabel('Stock price')\n",
        "    plt.ylabel('Time')\n",
        "    plt.legend()\n",
        "    return plt.show()   "
      ],
      "metadata": {
        "id": "bjcflzhmwbOR"
      },
      "execution_count": 4,
      "outputs": []
    },
    {
      "cell_type": "code",
      "source": [
        "hyperparam_test_stock_models = {'drift': 0.2, 'sigma': 0.05, 'delta': 0.1,  'paths':5000, 'periods': 49, 'maturity': 3., 'strike' : 100,'assets':10,  'spot':90,}\n",
        "#S = GBM(**hyperparam_test_stock_models)\n",
        "#X=S.simulate_process()\n",
        "\n",
        "S=stock(**hyperparam_test_stock_models)\n",
        "X=S.GBM()\n",
        "\n",
        "print(X.shape) # (date, path, asset)\n",
        "draw_stock_model(X) "
      ],
      "metadata": {
        "id": "5GOfCwrFwbqc",
        "colab": {
          "base_uri": "https://localhost:8080/",
          "height": 282
        },
        "outputId": "9c36124f-ae3e-466d-8b1c-290dafa6c772"
      },
      "execution_count": 5,
      "outputs": [
        {
          "output_type": "stream",
          "name": "stdout",
          "text": [
            "(50, 5000, 10)\n"
          ]
        },
        {
          "output_type": "display_data",
          "data": {
            "text/plain": [
              "<Figure size 432x288 with 1 Axes>"
            ],
            "image/png": "[encoded data removed]"
          },
          "metadata": {
            "needs_background": "light"
          }
        }
      ]
    },
    {
      "cell_type": "code",
      "source": [
        "class Ftheta_NN(nn.Module):\n",
        "  def __init__(self, assets):\n",
        "    super(Ftheta_NN, self).__init__()\n",
        "    H = assets + 40\n",
        "    self.bn0 = nn.BatchNorm1d(num_features=assets)\n",
        "    self.layer1 = nn.Linear(assets, H)\n",
        "    self.leakyReLU = nn.LeakyReLU(0.5)\n",
        "    self.Softplus = nn.Softplus()\n",
        "    self.sigmoid = nn.Sigmoid()\n",
        "    self.tanh = nn.Tanh()\n",
        "    self.relu = nn.ReLU()\n",
        "    self.bn1 = nn.BatchNorm1d(num_features=H)\n",
        "    self.layer2 = nn.Linear(H, H)\n",
        "    self.bn2 = nn.BatchNorm1d(num_features=H)\n",
        "    self.layer3 = nn.Linear(H, 1)\n",
        "    self.bn3 = nn.BatchNorm1d(num_features=1)\n",
        "\n",
        "  def forward(self, x):\n",
        "    x = self.bn0(x)\n",
        "    x = self.layer1(x)\n",
        "    x = self.relu(x)\n",
        "    x = self.bn2(x)\n",
        "    x = self.layer3(x)\n",
        "    x = self.sigmoid(x)\n",
        "    return x\n",
        "\n",
        "\n",
        "\n",
        "'''\n",
        "class Ftheta_NN(nn.Module):\n",
        "  def __init__(self, assets, hidden_size):\n",
        "    super(Ftheta_NN, self).__init__()\n",
        "    self.l1 = nn.Linear(assets, hidden_size) \n",
        "    self.relu = nn.ReLU()\n",
        "    self.l2 = nn.Linear(hidden_size, hidden_size)\n",
        "    self.l3 = nn.Linear(hidden_size, 1)  \n",
        "    self.sigmoid=nn.Sigmoid()\n",
        "    \n",
        "  def forward(self, x):\n",
        "    out = self.l1(x)\n",
        "    out = self.relu(out)\n",
        "    out = self.l2(out)\n",
        "    out = self.relu(out)\n",
        "    out = self.l3(out)\n",
        "    out = self.sigmoid(out)\n",
        "    return out\n",
        "'''\n",
        "# set initial weights of a linear layer of the NN with uniform values and bias=0.01 (or choose zero initial weights)\n",
        "def init_weights(m):\n",
        "  if isinstance(m, torch.nn.Linear):\n",
        "    torch.manual_seed(42)\n",
        "    # torch.nn.init.zeros_(m.weight)\n",
        "    torch.nn.init.xavier_uniform_(m.weight)\n",
        "    m.bias.data.fill_(0.01)"
      ],
      "metadata": {
        "id": "cmfIHVbswjlt"
      },
      "execution_count": 6,
      "outputs": []
    },
    {
      "cell_type": "markdown",
      "source": [
        "# Class \"Profit\"\n",
        "This class contains various payoff and costs elements that define the reward. The final profit value is computed for each date and path.\n",
        "\n",
        "### terminal reward\n",
        "The terminal function $\\Gamma$ is set to an option payoff function of choice regardless of the regime in which the process is at, in this case we have a Max Call. (other choices can be made as well). The terminal payoff is received at maturity, with no other costs nor payoffs.\n",
        "\\begin{equation}\n",
        "\\Gamma(n) = \\Big(\\max_{i \\in \\{1, \\ldots, d \\}} x^i - K   \\Big)^{+} \\tag{1}\n",
        "\\end{equation}\n",
        "\n",
        "### running reward\n",
        "The function $\\Psi_q = (\\Psi_q(n))_{n \\in \\mathbb{N}}$ represents the running reward received while in mode $q \\in \\mathbb{I}$. \n",
        "\\begin{equation}\n",
        "\\Psi_q(n) = \\Big[\\Big(\\max_{i \\in \\{1, \\ldots, d\\}} x^i_n - K   \\Big)^{+} \\Big]^{k_q} \\;\\;\\;\\;\\; k \\in \\{.4, .7 \\} \\tag{2}\n",
        "\\end{equation}\n",
        "\n",
        "### switching cost\n",
        "The function $\\gamma_{i, j} = (\\gamma_{i, j}(n))_{n \\in \\mathbb{N}}$ with $i,j \\in \\mathbb{I} = \\{0, 1 \\}$ represents the cost for switching from mode $i \\in \\mathbb{I}$ to mode $j \\in \\mathbb{I}$.\n",
        "\\begin{equation} \\tag{3}\n",
        "\\gamma_{0,0} \\equiv \\gamma_{1,1} \\equiv 0 \\\\\n",
        "\\gamma_{0,1}(n) = \\Big(\\max_{i \\in \\{1, \\ldots, d \\}} x^i - K   \\Big)^{+} + \\delta  \\;\\;\\;\\;\\; \\delta = .7   \\\\ \n",
        "\\gamma_{1, 0}(n) = \\Big(\\max_{i \\in \\{1, \\ldots, d \\}} x^i - K   \\Big)^{+} \n",
        "\\end{equation}\n",
        "\n",
        "### the full expression for the profit\n",
        "The entire expression for the value of the process at each time $n$ can be represented as: \n",
        "\\begin{equation} \\tag{4}\n",
        "\\check{Y}_{N}^i = \\Gamma \\\\\n",
        "\\check{Y}_{n}^i = \\Psi_i(n) + \\max_{j \\in \\{0, 1 \\}} \n",
        "\\{- \\gamma_{i, j}(n) + e^{-\\rho h} \\check{Y}_{n+1}^j   \\} \\;\\;\\;\\;\\;\\;\\;\\;\\;\\; \\text{for } n=N-1, \\ldots, 0\n",
        "\\end{equation}\n",
        "\n",
        "\n",
        "### Note\n",
        "There are actually two profit classes:\n",
        "- Profit_training (actually only the function \"running\") is used to compute $(\\check{Y}_{n}^i, \\check{Y}_{n}^j)$ at each date which is needed to in the loss function for the optimization of the parameters. As the optimization of the parameters will tell about switching/not I have to assume the profit can occur under both regimes [which is not fully correct then]\n",
        "- Profit_testing (function \"running\") is used to compute $(\\check{Y}_{n}^i), i \\in \\mathbb{I}$, once the new regime of the system is known  \n"
      ],
      "metadata": {
        "id": "bBR2f-4mYFZg"
      }
    },
    {
      "cell_type": "code",
      "source": [
        "class Profit_training:\n",
        "  def __init__(self, model):\n",
        "    self.strike = model.strike\n",
        "\n",
        "  def terminal(self, X):\n",
        "    payoff = np.max(X, axis=1) - self.strike\n",
        "    return payoff.clip(0, None)\n",
        "\n",
        "  def g(self, date,path,X):\n",
        "    X=torch.from_numpy(X).float()\n",
        "    max1=torch.max(X[int(date) , path , : ].float()-S.strike)\n",
        "    return np.exp(-S.drift*S.dt*date)*torch.max(max1,torch.tensor([0.0])) \n",
        " \n",
        "\n",
        "  def running(self, Y, X):\n",
        "    gamma = np.array([-self.terminal(X), self.terminal(X) + 0.7]) # there are two rows, the first for \\gamma_{0,1}, the second for \\gamma_{1,0}\n",
        "    r_benefit = self.terminal(X)\n",
        "    return torch.from_numpy(r_benefit+Y-gamma)  \n",
        " \n",
        "class Profit_testing:\n",
        "  def __init__(self, model):\n",
        "    self.strike = model.strike\n",
        "\n",
        "  def terminal(self, X):\n",
        "    terminal = np.max(X, axis=1) - self.strike\n",
        "    return terminal.clip(0, None)\n",
        "\n",
        "  def g(self, date,path,X):\n",
        "    X=torch.from_numpy(X).float()\n",
        "    max1=torch.max(X[int(date) , path , : ].float()-S.strike)\n",
        "    return np.exp(-S.drift*S.dt*date)*torch.max(max1,torch.tensor([0.0])) \n",
        "\n",
        "\n",
        "  # switch is F_theta_train \n",
        "  def running(self, Y, date, path, S, X, switch, gamma):\n",
        "    val=Y[date, path]- gamma  \n",
        "    k = np.array([0.4, 0.7])\n",
        "    r_benefit = self.g(date, path, X)\n",
        "    return val*int(switch[date, path])+r_benefit.numpy()"
      ],
      "metadata": {
        "id": "OK5Zq9ly3PQs"
      },
      "execution_count": 8,
      "outputs": []
    },
    {
      "cell_type": "markdown",
      "source": [
        "# Class \"OptimizationPart\"\n",
        "This class contains the building blocks necessary to train the neural network which allows to perform a gradient ascent optimization algorithm on the parameters $\\theta_n$, thus approximating the stopping times $\\tau_{n+1}$.\n",
        "The main components of this class are:\n",
        "\n",
        "### 1) train_network (the loss function) \n",
        "\n",
        "In order to use the Back Propagation algorithm from Pytorch, the maximization task is transformed into minimizing the negative of the objective function.\n",
        "\n",
        "\\begin{equation}\n",
        "L = -\\frac{1}{M} \\sum_{m=1}^M r_n^m (\\theta_n) \\tag{5}\n",
        "\\end{equation}\n",
        "\n",
        "where we specify the reward function as being\n",
        "\\begin{equation}\n",
        "r_n^m (\\theta_n) = g(n, x_n^m)F^{\\theta}(x_n^m)+ g(\\bar{\\tau}_{n+1}^m, x_{\\bar{\\tau}_{n+1}^m}^m)(1-F^{\\theta}(x_n^m) ) \\tag{6}\n",
        "\\end{equation}\n",
        "where the $g()$ function is $(3)$.\n",
        "\n",
        "### *To recap*\n",
        "At time $n$ along path $m$, the reward is equal to $(2)$ taking into account the possible events of switching or not regime with probability given by $F^{\\theta_n}$.\n",
        "\n",
        "For a large number of paths $M$, we can say that $(1)$ approximates $\\mathbb{E}[g(n, X_n)f^{\\theta}(X_n)+ g(\\tau_{n+1}, X_{\\tau_{n+1}})(1-f^{\\theta}(X_n) ) ]$. This is the function we optimize using gradient descent algorithm with respect to $\\theta_n$. The algorithm outputs the probability values of switching $F^{\\theta_n}$ for each date and for all paths considered, which we then translate into $0-1$ switching decisions $f^{\\theta_n}$.\n",
        "\n",
        "For each epoch, we use the set $\\theta_n$ from the previous epoch (where the very first set is initialized according to a uniform distribution) to compute $F^{\\theta_n}$. Then the updated (\"loss.step()\") $\\theta_n$ are obtained via backpropagation by the gradient of the loss function (\"loss.backward()\"). \n",
        "\n",
        "\n",
        "### 2) evaluate_network\n",
        "After training, the algorithm proceeds with the evaluation phase where it outputs the probability values of switching $F^{\\theta_n}$. These corresponds to the object \"stopping_probability\"."
      ],
      "metadata": {
        "id": "24zW3TAlMNxM"
      }
    },
    {
      "cell_type": "code",
      "source": [
        "class OptimizationPart(object):\n",
        "\n",
        "  def __init__(self, assets, paths, epochs=50, batch_size=2000):\n",
        "    self.assets = assets\n",
        "    self.paths = paths\n",
        "    self.epochs = epochs\n",
        "    self.batch_size = batch_size\n",
        "    self.network = Ftheta_NN(self.assets).double()\n",
        "    self.network.apply(init_weights)\n",
        "\n",
        "\n",
        "  def train_network(self,  stock_values, current_payoff,\n",
        "                    future_payoff):\n",
        "    optimizer = optim.Adam(self.network.parameters())\n",
        "    #future_payoff = torch.from_numpy(future_payoff).double()\n",
        "    #current_payoff = torch.from_numpy(current_payoff).double()\n",
        "    X_inputs = torch.from_numpy(stock_values).double()\n",
        "\n",
        "    self.network.train(True)\n",
        "    ones = torch.ones(self.paths)\n",
        "    for epoch in range(self.epochs):\n",
        "      optimizer.zero_grad()\n",
        "      outputs = self.network(X_inputs).reshape(-1) # probabilities\n",
        "      reward = (current_payoff * outputs ) +future_payoff * (ones - outputs) # reward function\n",
        "      loss = -torch.mean(reward) # loss function\n",
        "      loss.backward() # gradient calculation of the loss function\n",
        "      optimizer.step() # gradient descent update\n",
        "\n",
        "  def evaluate_network(self, X_inputs):\n",
        "    self.network.train(False)\n",
        "    X_inputs = torch.from_numpy(X_inputs).double()\n",
        "    outputs = self.network(X_inputs)\n",
        "    return outputs.view(X_inputs.size()[0]).detach().numpy()\n",
        "   "
      ],
      "metadata": {
        "id": "IA1la3-vzY85"
      },
      "execution_count": 16,
      "outputs": []
    },
    {
      "cell_type": "markdown",
      "source": [
        "# Class \"Recursion\"\n",
        "This class contains the main calculations of the algorithm, hence the recursion.\n",
        "\n",
        "### price\n",
        "First we start with some elements:\n",
        "1. we simulate $d$ asset prices $\\{X^i \\}^d_{i=1}$ along $m$ paths according to a geometric Brownian motion process. We consider the iys discretized version on an equidistant time grid, $t_n = n \\cdot T/N$ for $n=0, \\ldots, N$:\n",
        "\\begin{equation} \\tag{7}\n",
        "x_{n,i}^m = x_{0,i} \\cdot \\exp \\Big\\{\\sum_{k=0}^n \\Big((r-\\delta_i - \\sigma_i^2 /2) \\Delta t + \\sigma_i \\sqrt{\\Delta t} \\cdot Z_{k, i}^m  \\Big) \\Big\\}\n",
        "\\end{equation}\n",
        "where $(r-\\delta_i) \\in \\mathbb{R}$ and $\\sigma_i >0$ are the drift and volatility of the system $X$, $\\Delta t =T/N$ and $Z_{k, i}^m \\sim \\mathcal{N}(0,1)$\n",
        "\n",
        "2. we define the discount factor $\\exp \\{(r-\\delta_i )\\Delta t \\}$\n",
        "3. we create the \"regime\" object $\\mathbb{I} = \\{0, 1 \\}$\n",
        "4. we create the empty objects: \"regime_path\" that records the regime in which the process is at for every time step and path; \"Y_train\" that records the profit value for each time step and path; \"F_theta_train\" that records the presence of a stopping time\n",
        "\n",
        "\n",
        "Then we can start the recursion:\n",
        "\n",
        "*At maturity $N$*\n",
        "1. we sample a regime to specify in which regime the process is and record it in \"regime_path\". The sampled regime is the same across all paths\n",
        "2. we compute the profit at $N$ \"final_payoff\" $\\check{Y}_{N}^i$ according to $(4)$ and record it in \"Y_train\"\n",
        "\n",
        "*Before maturity, for each date $ n=N-1, \\ldots, 0$*\n",
        "1. we compute \"current_payoff\" using \"Profit_training.running()\"\n",
        "2. we obtain a stopping rule for each path, using as arguments the current payoff, the discounted final payoff (now called \"values\") and the entire process. Record then the stopping rules in \"F_theta_train\" **[I am not sure about the discounting]**\n",
        "3. we determine the current regime on the basis of the regime from the previous time step and if there has been or not a stopping time. Hence if at $n$ we have $F_n^{\\theta}=1$ and $q_{n+1} = i$, we choose $q_n=j$. We then record this in \"regime_path\"\n",
        "4. we compute $\\check{Y}_{n}^i$ according to $(4)$, using \"Profit_training.running()\" appropriate for its current regime and record it under \"Y_train\"\n",
        "\n",
        "Hence we have a matrix with dimension periods x paths, recording $\\check{Y}_{n}^i$.\n",
        "\n",
        "The final price will be $max \\big\\{ \\check{Y}_{0}, \\frac{1}{M}\\sum_{n=1}^N \\check{Y}_{n} \\big\\} $\n",
        "\n",
        "### stop\n",
        "This function combines the function sin \"OptimizationPart\". It is called at every time step and it produces stopping probabilities for each date across all paths. The arguments it takes are those we see also in the loss function, hence:\n",
        "- current profit $g(n, x_n^m)$\n",
        "- future profit $g(\\bar{\\tau}_{n+1}^m, x_{\\bar{\\tau}_{n+1}^m}^m)$\n",
        "- the entire process\n"
      ],
      "metadata": {
        "id": "5anu8qXoXXOB"
      }
    },
    {
      "cell_type": "code",
      "source": [
        "class Recursion:\n",
        "  def __init__(self, model, training, testing, nb_epochs=50):\n",
        "\n",
        "    self.model = model # argument is S    \n",
        "    self.neural_stopping = OptimizationPart(model.assets, model.paths) \n",
        "    self.profit_training = Profit_training(self.model)\n",
        "    self.profit_testing = Profit_testing(self.model)\n",
        "\n",
        "  def price(self):\n",
        "    model = self.model\n",
        "    stock_paths = self.model.GBM()    \n",
        "    disc_factor = np.math.exp((-model.drift) * model.maturity/(model.periods))\n",
        "    \n",
        "    # create empty objects to store values\n",
        "    k = np.array([0.4, 0.7])\n",
        "    regimes = [0, 1]\n",
        "    regime_path=np.zeros((model.periods+1, model.paths)) # record at which regime we're at at each n\n",
        "    Y_train=np.zeros((model.periods+1, model.paths))\n",
        "    F_theta_train=np.zeros((model.periods+1,model.paths)) # record switching events for each n\n",
        "\n",
        "    # at maturity N\n",
        "    final_payoff = np.array([self.profit_training.terminal(stock_paths[-1, :, :]), self.profit_training.terminal(stock_paths[-1, :, :])])   # payoff of the last date for each path.\n",
        "    future_payoff = torch.from_numpy(final_payoff*disc_factor).double() \n",
        "    Y_train[model.periods, :]= final_payoff[0]\n",
        "    F_theta_train[model.periods,:]=1 # at maturity we switch (does it matter?)\n",
        "    regime_path[model.periods, :] = random.sample(regimes, 1)[0] # sample a regime at maturity\n",
        "    values = Y_train[model.periods, :]\n",
        "\n",
        "    # recursive calc. before maturity\n",
        "    for date in range(stock_paths.shape[0] - 2, 0, -1): \n",
        "      current_payoff = self.profit_training.running(Y_train[date+1, :], stock_paths[date, :, :])\n",
        "\n",
        "      stopping_probability = self.stop(stock_paths[date, : , :], \n",
        "                                current_payoff,\n",
        "                                future_payoff)\n",
        "      \n",
        "      print(date, \":\", np.min(stopping_probability),\" , \", np.max(stopping_probability), \" , \", len([1 for l in stopping_probability if l > 0.5])) # print the min/max stopping probabilities and the count of stopping times for each date\n",
        "      F_theta_train[date,:]=(stopping_probability > 0.5)*1.0   # transform stopping probabilities in 0-1 decision\n",
        "      which = stopping_probability > 0.5\n",
        "\n",
        "      for m in range(0,model.paths-1):\n",
        "        old_regime = regime_path[date +1, m]\n",
        "        if  which[m] == True :\n",
        "          regime_path[date , m] = regimes[~int(old_regime)] \n",
        "          gamma = self.profit_testing.g(date, m, X) + 0.7\n",
        "        else:\n",
        "          regime_path[date , m] = old_regime\n",
        "          gamma = -self.profit_testing.g(date, m, X)\n",
        "        Y_train[date, m] = self.profit_testing.running(Y = Y_train, date = date, \n",
        "                                                path = m, S=model, \n",
        "                                                X = stock_paths,  switch = F_theta_train, \n",
        "                                                gamma = gamma)\n",
        "      immediate_exercise_value = Y_train[date, :]       \n",
        "      values[which] = immediate_exercise_value[which] # when we switch we take the current profit\n",
        "      values[~which] *= disc_factor           # when we don't switch we take final profit discounted \n",
        "\n",
        "\n",
        "    payoff_0 = Y_train[0, :]\n",
        "    return max(payoff_0[0], np.mean(values) * disc_factor), payoff_0, values \n",
        "\n",
        "\n",
        "\n",
        "  def stop(self, stock_values, current_payoff,\n",
        "           future_payoff):\n",
        "    \n",
        "    self.neural_stopping.train_network(\n",
        "      stock_values,\n",
        "      current_payoff ,\n",
        "      future_payoff)\n",
        "\n",
        "    inputs = stock_values\n",
        "    stopping_probability = self.neural_stopping.evaluate_network(inputs)\n",
        "    return stopping_probability    "
      ],
      "metadata": {
        "id": "N2Tje8ll4AUa"
      },
      "execution_count": 26,
      "outputs": []
    },
    {
      "cell_type": "code",
      "source": [
        "pricing = Recursion(S, Profit_training, Profit_testing, nb_epochs=50)\n",
        "\n",
        "'''\n",
        "arguments are:\n",
        "- path process\n",
        "- Profit training and profit testing classes\n",
        "- number of epochs to be used for the gradient descent algorithm\n",
        "\n",
        "'''"
      ],
      "metadata": {
        "id": "3UmjnYsLWHLM",
        "colab": {
          "base_uri": "https://localhost:8080/",
          "height": 34
        },
        "outputId": "cced5b2b-39e0-44d1-e5b2-ea2982d6e10f"
      },
      "execution_count": 27,
      "outputs": [
        {
          "output_type": "execute_result",
          "data": {
            "text/plain": [
              "'\\narguments are:\\n- path process\\n- Profit training and profit testing classes\\n- number of epochs to be used for the gradient descent algorithm\\n\\n'"
            ],
            "application/vnd.google.colaboratory.intrinsic+json": {
              "type": "string"
            }
          },
          "metadata": {},
          "execution_count": 27
        }
      ]
    },
    {
      "cell_type": "code",
      "source": [
        "output, payoff_0, values = pricing.price()\n",
        "\n",
        "'''\n",
        "here we are printing:\n",
        "- date\n",
        "- min and max probability of switching across the 5000 paths\n",
        "- number paths that will switch for each date\n",
        "\n",
        "'''"
      ],
      "metadata": {
        "colab": {
          "base_uri": "https://localhost:8080/"
        },
        "id": "xf_lbl45l91-",
        "outputId": "b6f2b703-e4a7-472e-fe6d-685d1a777590"
      },
      "execution_count": null,
      "outputs": [
        {
          "output_type": "stream",
          "name": "stdout",
          "text": [
            "48 : 7.180927217196726e-07  ,  0.9827728708565249  ,  3769\n"
          ]
        }
      ]
    },
    {
      "cell_type": "code",
      "source": [
        "print(output)"
      ],
      "metadata": {
        "colab": {
          "base_uri": "https://localhost:8080/"
        },
        "id": "w7PJT61dgfvY",
        "outputId": "f81bba62-fcb9-43fd-d909-0ae62fba67bb"
      },
      "execution_count": 25,
      "outputs": [
        {
          "output_type": "stream",
          "name": "stdout",
          "text": [
            "0.0\n"
          ]
        }
      ]
    },
    {
      "cell_type": "code",
      "source": [
        "'''\n",
        "in case I need to check steps\n",
        "'''\n",
        "\n",
        "\n",
        "\n",
        "\n",
        "'''\n",
        "\n",
        "model = S # argument is S    \n",
        "profit_training = Profit_training(model) #class profit. the argument is Profit, then you can call profit.terminal, etc\n",
        "epochs = 50\n",
        "stock_paths = model.GBM()    \n",
        "disc_factor = np.math.exp((-model.drift) * model.maturity/(model.periods))\n",
        "\n",
        "k = np.array([0.4, 0.7])\n",
        "regimes = [0, 1]\n",
        "regime_path=np.zeros((S.periods+1, S.paths)) # record at which regime we're at at each n\n",
        "Y_train=np.zeros((S.periods+1, S.paths))\n",
        "F_theta_train=np.zeros((S.periods+1,S.paths)) # record switching events for each n\n",
        "\n",
        "# at maturity N\n",
        "final_payoff = np.array([profit_training.terminal(stock_paths[-1, :, :]), profit_training.terminal(stock_paths[-1, :, :])])   # payoff of the last date for each path. \n",
        "Y_train[S.periods, :]= final_payoff[0]\n",
        "\n",
        "F_theta_train[S.periods,:]=1 # at maturity we switch (does it matter?)\n",
        "regime_path[S.periods, :] = random.sample(regimes, 1)[0] # sample a regime at maturity\n",
        "neural_stopping = OptimizationPart(model.assets, model.paths) \n",
        "\n",
        "    \n",
        "\n",
        "\n",
        "date = stock_paths.shape[0]-2\n",
        "current_payoff =  profit_training.running(Y_train[date+1, :], stock_paths[date, :, :])\n",
        "\n",
        "network = Ftheta_NN(model.assets).double()\n",
        "network.apply(init_weights)\n",
        "optimizer = optim.Adam(network.parameters())\n",
        "print(type(final_payoff))\n",
        "future_payoff = torch.from_numpy(final_payoff*disc_factor).double()\n",
        "X_inputs = torch.from_numpy(stock_paths[date, :, :]).double()\n",
        "print(\"final\", torch.from_numpy(final_payoff).double())\n",
        "print(\"current\", current_payoff.size(),current_payoff)\n",
        "print(\"X_inopts\", X_inputs)\n",
        "print(\"values\", final_payoff)\n",
        "print(\"future\", future_payoff.size(), future_payoff)\n",
        "print(network(X_inputs))\n",
        "network.train(True)\n",
        "ones = torch.ones(S.paths)\n",
        "\n",
        "\n",
        "for epoch in range(epochs):\n",
        "  optimizer.zero_grad()\n",
        "  outputs = network(X_inputs).reshape(-1) # probabilities\n",
        "  reward = (current_payoff * outputs +\n",
        "              future_payoff * (ones - outputs)) # reward function\n",
        "  print(len(outputs) ,type(outputs), len(current_payoff), len(future_payoff))            \n",
        "  loss = -torch.mean(reward) # loss function\n",
        "  loss.backward() # gradient calculation of the loss function\n",
        "  optimizer.step() # gradient descent update\n",
        "\n",
        "\n",
        "network.train(False)\n",
        "X_inputs = torch.from_numpy(stock_paths[date, :, :]).double()\n",
        "outputs = network(X_inputs)\n",
        "stopping_probablities =outputs.view(X_inputs.size()[0]).detach().numpy()\n",
        "print(stopping_probablities)\n",
        "\n",
        "print(date, \":\", np.min(stopping_probablities),\" , \", np.max(stopping_probablities), \" , \", len([1 for l in stopping_probablities if l > 0.5]))\n",
        "F_theta_train[date,:]=(stopping_probablities > 0.5)*1.0   \n",
        "which = stopping_probablities > 0.5\n",
        "print(len(stopping_probablities), model.paths)\n",
        "profit_testing = Profit_testing(model)\n",
        "print(which)\n",
        "for m in range(0, model.paths):\n",
        "         old_regime = regime_path[date +1, m]\n",
        "         if  which[m] == True :\n",
        "           regime_path[date , m] = regimes[~int(old_regime)] \n",
        "           gamma = profit_testing.g(date, m, stock_paths) + 0.7\n",
        "         else:\n",
        "           regime_path[date , m] = old_regime\n",
        "           gamma = -profit_testing.g(date, m, X)\n",
        "         Y_train[date, m] = profit_testing.running(Y = Y_train, date = date, \n",
        "                                                path = m, S=model, \n",
        "                                                X = stock_paths,  switch = F_theta_train, \n",
        "                                                gamma = gamma)\n",
        "values = Y_train[S.periods, :]\n",
        "immediate_exercise_value = Y_train[date, :]       \n",
        "values[which] = immediate_exercise_value[which] # when we switch we take the current profit\n",
        "values[~which] *= disc_factor           # when we don't switch we take final profit discounted (?)\n",
        "\n",
        "print(\"immediate\", immediate_exercise_value)\n",
        "print(\"values\", values)\n",
        "'''\n"
      ],
      "metadata": {
        "colab": {
          "base_uri": "https://localhost:8080/",
          "height": 86
        },
        "id": "jugaRK4rXBDR",
        "outputId": "f1a4b615-c2d3-43ac-c613-96dc779d318b"
      },
      "execution_count": 24,
      "outputs": [
        {
          "output_type": "execute_result",
          "data": {
            "text/plain": [
              "'\\n\\nmodel = S # argument is S    \\nprofit_training = Profit_training(model) #class profit. the argument is Profit, then you can call profit.terminal, etc\\nepochs = 50\\nstock_paths = model.GBM()    \\ndisc_factor = np.math.exp((-model.drift) * model.maturity/(model.periods))\\n\\nk = np.array([0.4, 0.7])\\nregimes = [0, 1]\\nregime_path=np.zeros((S.periods+1, S.paths)) # record at which regime we\\'re at at each n\\nY_train=np.zeros((S.periods+1, S.paths))\\nF_theta_train=np.zeros((S.periods+1,S.paths)) # record switching events for each n\\n\\n# at maturity N\\nfinal_payoff = np.array([profit_training.terminal(stock_paths[-1, :, :]), profit_training.terminal(stock_paths[-1, :, :])])   # payoff of the last date for each path. \\nY_train[S.periods, :]= final_payoff[0]\\n\\nF_theta_train[S.periods,:]=1 # at maturity we switch (does it matter?)\\nregime_path[S.periods, :] = random.sample(regimes, 1)[0] # sample a regime at maturity\\nneural_stopping = OptimizationPart(model.assets, model.paths) \\n\\n    \\n\\n\\ndate = stock_paths.shape[0]-2\\ncurrent_payoff =  profit_training.running(Y_train[date+1, :], stock_paths[date, :, :])\\n\\nnetwork = Ftheta_NN(model.assets).double()\\nnetwork.apply(init_weights)\\noptimizer = optim.Adam(network.parameters())\\nprint(type(final_payoff))\\nfuture_payoff = torch.from_numpy(final_payoff*disc_factor).double()\\nX_inputs = torch.from_numpy(stock_paths[date, :, :]).double()\\nprint(\"final\", torch.from_numpy(final_payoff).double())\\nprint(\"current\", current_payoff.size(),current_payoff)\\nprint(\"X_inopts\", X_inputs)\\nprint(\"values\", final_payoff)\\nprint(\"future\", future_payoff.size(), future_payoff)\\nprint(network(X_inputs))\\nnetwork.train(True)\\nones = torch.ones(S.paths)\\n\\n\\nfor epoch in range(epochs):\\n  optimizer.zero_grad()\\n  outputs = network(X_inputs).reshape(-1) # probabilities\\n  reward = (current_payoff * outputs +\\n              future_payoff * (ones - outputs)) # reward function\\n  print(len(outputs) ,type(outputs), len(current_payoff), len(future_payoff))            \\n  loss = -torch.mean(reward) # loss function\\n  loss.backward() # gradient calculation of the loss function\\n  optimizer.step() # gradient descent update\\n\\n\\nnetwork.train(False)\\nX_inputs = torch.from_numpy(stock_paths[date, :, :]).double()\\noutputs = network(X_inputs)\\nstopping_probablities =outputs.view(X_inputs.size()[0]).detach().numpy()\\nprint(stopping_probablities)\\n\\nprint(date, \":\", np.min(stopping_probablities),\" , \", np.max(stopping_probablities), \" , \", len([1 for l in stopping_probablities if l > 0.5]))\\nF_theta_train[date,:]=(stopping_probablities > 0.5)*1.0   \\nwhich = stopping_probablities > 0.5\\nprint(len(stopping_probablities), model.paths)\\nprofit_testing = Profit_testing(model)\\nprint(which)\\nfor m in range(0, model.paths):\\n         old_regime = regime_path[date +1, m]\\n         if  which[m] == True :\\n           regime_path[date , m] = regimes[~int(old_regime)] \\n           gamma = profit_testing.g(date, m, stock_paths) + 0.7\\n         else:\\n           regime_path[date , m] = old_regime\\n           gamma = -profit_testing.g(date, m, X)\\n         Y_train[date, m] = profit_testing.running(Y = Y_train, date = date, \\n                                                path = m, S=model, \\n                                                X = stock_paths,  switch = F_theta_train, \\n                                                gamma = gamma)\\nvalues = Y_train[S.periods, :]\\nimmediate_exercise_value = Y_train[date, :]       \\nvalues[which] = immediate_exercise_value[which] # when we switch we take the current profit\\nvalues[~which] *= disc_factor           # when we don\\'t switch we take final profit discounted (?)\\n\\nprint(\"immediate\", immediate_exercise_value)\\nprint(\"values\", values)\\n'"
            ],
            "application/vnd.google.colaboratory.intrinsic+json": {
              "type": "string"
            }
          },
          "metadata": {},
          "execution_count": 24
        }
      ]
    }
  ]
}